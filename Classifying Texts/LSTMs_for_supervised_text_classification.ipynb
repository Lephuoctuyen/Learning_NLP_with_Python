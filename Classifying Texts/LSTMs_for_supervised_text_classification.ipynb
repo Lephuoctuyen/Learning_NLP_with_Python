{
  "nbformat": 4,
  "nbformat_minor": 0,
  "metadata": {
    "colab": {
      "provenance": []
    },
    "kernelspec": {
      "name": "python3",
      "display_name": "Python 3"
    },
    "language_info": {
      "name": "python"
    }
  },
  "cells": [
    {
      "cell_type": "code",
      "source": [
        "!git clone https://github.com/PacktPublishing/Python-Natural-Language-Processing-Cookbook.git"
      ],
      "metadata": {
        "colab": {
          "base_uri": "https://localhost:8080/"
        },
        "id": "D4bM7veNIAmk",
        "outputId": "8995dd0e-0212-496a-b3f0-f2118eae94b7"
      },
      "execution_count": null,
      "outputs": [
        {
          "output_type": "stream",
          "name": "stdout",
          "text": [
            "Cloning into 'Python-Natural-Language-Processing-Cookbook'...\n",
            "remote: Enumerating objects: 308, done.\u001b[K\n",
            "remote: Counting objects: 100% (84/84), done.\u001b[K\n",
            "remote: Compressing objects: 100% (71/71), done.\u001b[K\n",
            "remote: Total 308 (delta 36), reused 39 (delta 12), pack-reused 224 (from 1)\u001b[K\n",
            "Receiving objects: 100% (308/308), 658.34 MiB | 19.66 MiB/s, done.\n",
            "Resolving deltas: 100% (128/128), done.\n",
            "Updating files: 100% (93/93), done.\n"
          ]
        }
      ]
    },
    {
      "cell_type": "code",
      "source": [
        "!pip install keras_preprocessing"
      ],
      "metadata": {
        "colab": {
          "base_uri": "https://localhost:8080/"
        },
        "id": "gYUp7C4cIVx-",
        "outputId": "6cbb7aef-d1cb-4987-cd19-7797fdb28cb1"
      },
      "execution_count": null,
      "outputs": [
        {
          "output_type": "stream",
          "name": "stdout",
          "text": [
            "Collecting keras_preprocessing\n",
            "  Downloading Keras_Preprocessing-1.1.2-py2.py3-none-any.whl.metadata (1.9 kB)\n",
            "Requirement already satisfied: numpy>=1.9.1 in /usr/local/lib/python3.10/dist-packages (from keras_preprocessing) (1.26.4)\n",
            "Requirement already satisfied: six>=1.9.0 in /usr/local/lib/python3.10/dist-packages (from keras_preprocessing) (1.17.0)\n",
            "Downloading Keras_Preprocessing-1.1.2-py2.py3-none-any.whl (42 kB)\n",
            "\u001b[?25l   \u001b[90m━━━━━━━━━━━━━━━━━━━━━━━━━━━━━━━━━━━━━━━━\u001b[0m \u001b[32m0.0/42.6 kB\u001b[0m \u001b[31m?\u001b[0m eta \u001b[36m-:--:--\u001b[0m\r\u001b[2K   \u001b[90m━━━━━━━━━━━━━━━━━━━━━━━━━━━━━━━━━━━━━━━━\u001b[0m \u001b[32m42.6/42.6 kB\u001b[0m \u001b[31m3.0 MB/s\u001b[0m eta \u001b[36m0:00:00\u001b[0m\n",
            "\u001b[?25hInstalling collected packages: keras_preprocessing\n",
            "Successfully installed keras_preprocessing-1.1.2\n"
          ]
        }
      ]
    },
    {
      "cell_type": "code",
      "source": [
        "%cd Python-Natural-Language-Processing-Cookbook"
      ],
      "metadata": {
        "colab": {
          "base_uri": "https://localhost:8080/"
        },
        "id": "sHQsX5ItJLzY",
        "outputId": "1fdb07d0-9ecf-4fe5-c69a-7e94eddd8fde"
      },
      "execution_count": null,
      "outputs": [
        {
          "output_type": "stream",
          "name": "stdout",
          "text": [
            "/content/Python-Natural-Language-Processing-Cookbook\n"
          ]
        }
      ]
    },
    {
      "cell_type": "code",
      "source": [
        "import nltk\n",
        "nltk.download('punkt_tab')"
      ],
      "metadata": {
        "colab": {
          "base_uri": "https://localhost:8080/"
        },
        "id": "xOJfncEpJWq3",
        "outputId": "304c2e1f-fc65-42d3-ed1b-0d9e1039500d"
      },
      "execution_count": null,
      "outputs": [
        {
          "output_type": "stream",
          "name": "stderr",
          "text": [
            "[nltk_data] Downloading package punkt_tab to /root/nltk_data...\n",
            "[nltk_data]   Unzipping tokenizers/punkt_tab.zip.\n"
          ]
        },
        {
          "output_type": "execute_result",
          "data": {
            "text/plain": [
              "True"
            ]
          },
          "metadata": {},
          "execution_count": 15
        }
      ]
    },
    {
      "cell_type": "code",
      "source": [
        "import pandas as pd\n",
        "import pickle\n",
        "import numpy as np\n",
        "# Import Tokenizer and pad_sequences from tensorflow.keras.preprocessing instead of keras.preprocessing\n",
        "from tensorflow.keras.preprocessing.text import Tokenizer\n",
        "from tensorflow.keras.preprocessing.sequence import pad_sequences\n",
        "from sklearn.model_selection import train_test_split\n",
        "from sklearn.metrics import classification_report\n",
        "import tensorflow as tf\n",
        "from keras import Sequential\n",
        "from tensorflow.keras.layers import Embedding\n",
        "from tensorflow.keras.layers import SpatialDropout1D\n",
        "from tensorflow.keras.layers import LSTM\n",
        "from tensorflow.keras.layers import Dense\n",
        "from tensorflow.keras.callbacks import EarlyStopping\n",
        "from keras.models import load_model\n",
        "import matplotlib.pyplot as plt\n",
        "from Chapter04.preprocess_bbc_dataset import get_data\n",
        "from Chapter04.keyword_classification import get_labels\n",
        "from Chapter04.preprocess_bbc_dataset import get_stopwords\n",
        "from Chapter04.svm_classification import create_dataset, new_example\n",
        "\n",
        "# ... (rest of the code remains the same) ...\n",
        "\n",
        "MAX_NUM_WORDS = 50000\n",
        "MAX_SEQUENCE_LENGTH = 1000\n",
        "EMBEDDING_DIM = 300\n",
        "\n",
        "bbc_dataset = \"Chapter04/bbc-text.csv\"\n",
        "\n",
        "def evaluate(model, X_test, Y_test, le):\n",
        "    Y_pred = model.predict(X_test)\n",
        "    Y_pred = Y_pred.argmax(axis=-1)\n",
        "    Y_test = Y_test.argmax(axis=-1)\n",
        "    Y_new_pred = [le.inverse_transform([value]) for value in Y_pred]\n",
        "    Y_new_test = [le.inverse_transform([value]) for value in Y_test]\n",
        "    print(classification_report(Y_new_test, Y_new_pred))\n",
        "\n",
        "def plot_model(history):\n",
        "    plt.title('Loss')\n",
        "    plt.plot(history.history['loss'], label='train')\n",
        "    plt.plot(history.history['val_loss'], label='test')\n",
        "    plt.legend()\n",
        "    plt.show()\n",
        "\n",
        "def create_tokenizer(input_data, save_path):\n",
        "    tokenizer = Tokenizer(num_words=MAX_NUM_WORDS, filters='!\"#$%&()*+,-./:;<=>?@[\\]^_`{|}~', lower=True)\n",
        "    tokenizer.fit_on_texts(input_data)\n",
        "    save_tokenizer(tokenizer, save_path)\n",
        "    return tokenizer\n",
        "\n",
        "def save_tokenizer(tokenizer, filename):\n",
        "    with open(filename, 'wb') as f:\n",
        "        pickle.dump(tokenizer, f, protocol=pickle.HIGHEST_PROTOCOL)\n",
        "\n",
        "def load_tokenizer(filename):\n",
        "    with open(filename, 'rb') as f:\n",
        "        tokenizer = pickle.load(f)\n",
        "    return tokenizer\n",
        "\n",
        "def transform_text(tokenizer, input_text):\n",
        "    if (isinstance(tokenizer, str)):\n",
        "        tokenizer = load_tokenizer(tokenizer)\n",
        "    X_input = tokenizer.texts_to_sequences(input_text)\n",
        "    X_input = pad_sequences(X_input, maxlen=MAX_SEQUENCE_LENGTH)\n",
        "    return X_input\n",
        "\n",
        "def train_model(df, le):\n",
        "    tokenizer = create_tokenizer(df['text'].values, 'bbc_tokenizer.pickle')\n",
        "    X = transform_text(tokenizer, df['text'].values)\n",
        "    Y = pd.get_dummies(df['label']).values\n",
        "    X_train, X_test, Y_train, Y_test = train_test_split(X,Y, test_size = 0.20, random_state = 42)\n",
        "    model = Sequential()\n",
        "    optimizer = tf.keras.optimizers.Adam(0.001)\n",
        "    model.add(Embedding(MAX_NUM_WORDS, EMBEDDING_DIM, input_length=X.shape[1]))\n",
        "    model.add(SpatialDropout1D(0.2))\n",
        "    model.add(LSTM(100, dropout=0.2, recurrent_dropout=0.2))\n",
        "    model.add(Dense(5, activation='softmax'))\n",
        "    loss='categorical_crossentropy' #Standard for multiclass classification\n",
        "    model.compile(loss=loss, optimizer=optimizer, metrics=['accuracy'])\n",
        "    epochs = 7\n",
        "    batch_size = 64\n",
        "    es = EarlyStopping(monitor='val_loss', patience=3, min_delta=0.0001)\n",
        "    history = model.fit(X_train, Y_train, epochs=epochs, batch_size=batch_size, validation_split=0.2, callbacks=[es])\n",
        "    accr = model.evaluate(X_test,Y_test)\n",
        "    print('Test set\\n  Loss: {:0.3f}\\n  Accuracy: {:0.3f}'.format(accr[0],accr[1]))\n",
        "    model.save('bbc_model_scratch1.h5')\n",
        "    evaluate(model, X_test, Y_test, le)\n",
        "    plot_model(history)\n",
        "\n",
        "def load_and_evaluate_existing_model(model_path, tokenizer_path, df, le):\n",
        "    model = load_model(model_path)\n",
        "    tokenizer = load_tokenizer(tokenizer_path)\n",
        "    X = transform_text(tokenizer, df['text'].values)\n",
        "    Y = pd.get_dummies(df['label']).values\n",
        "    evaluate(model, X, Y, le)\n",
        "\n",
        "def test_new_example(model, tokenizer, le, text_input):\n",
        "    X_example = transform_text(tokenizer, [new_example])\n",
        "    label_array = model.predict(X_example)\n",
        "    new_label = np.argmax(label_array, axis=-1)\n",
        "    print(new_label)\n",
        "    print(le.inverse_transform(new_label))\n",
        "\n",
        "def main():\n",
        "    data_dict = get_data(bbc_dataset)\n",
        "    le = get_labels(list(data_dict.keys()))\n",
        "    df = create_dataset(data_dict, le)\n",
        "    train_model(df, le)\n",
        "    load_and_evaluate_existing_model('bbc_model_scratch1.h5', 'bbc_tokenizer.pickle', df, le)\n",
        "    model = load_model('bbc_model_scratch1.h5')\n",
        "    tokenizer = 'bbc_tokenizer.pickle'\n",
        "    test_new_example(model, tokenizer, le, new_example)\n",
        "\n",
        "if (__name__ == \"__main__\"):\n",
        "    main()"
      ],
      "metadata": {
        "colab": {
          "base_uri": "https://localhost:8080/",
          "height": 1000
        },
        "id": "e-Wdq8eUH7mp",
        "outputId": "214ad1a1-293d-43e8-cc9a-1e6fa91a8d98"
      },
      "execution_count": null,
      "outputs": [
        {
          "output_type": "stream",
          "name": "stdout",
          "text": [
            "Epoch 1/7\n"
          ]
        },
        {
          "output_type": "stream",
          "name": "stderr",
          "text": [
            "/usr/local/lib/python3.10/dist-packages/keras/src/layers/core/embedding.py:90: UserWarning: Argument `input_length` is deprecated. Just remove it.\n",
            "  warnings.warn(\n"
          ]
        },
        {
          "output_type": "stream",
          "name": "stdout",
          "text": [
            "\u001b[1m23/23\u001b[0m \u001b[32m━━━━━━━━━━━━━━━━━━━━\u001b[0m\u001b[37m\u001b[0m \u001b[1m82s\u001b[0m 3s/step - accuracy: 0.2881 - loss: 1.5970 - val_accuracy: 0.4410 - val_loss: 1.4548\n",
            "Epoch 2/7\n",
            "\u001b[1m23/23\u001b[0m \u001b[32m━━━━━━━━━━━━━━━━━━━━\u001b[0m\u001b[37m\u001b[0m \u001b[1m74s\u001b[0m 3s/step - accuracy: 0.4433 - loss: 1.3372 - val_accuracy: 0.5112 - val_loss: 1.1503\n",
            "Epoch 3/7\n",
            "\u001b[1m23/23\u001b[0m \u001b[32m━━━━━━━━━━━━━━━━━━━━\u001b[0m\u001b[37m\u001b[0m \u001b[1m81s\u001b[0m 3s/step - accuracy: 0.5943 - loss: 1.0673 - val_accuracy: 0.5702 - val_loss: 0.9932\n",
            "Epoch 4/7\n",
            "\u001b[1m23/23\u001b[0m \u001b[32m━━━━━━━━━━━━━━━━━━━━\u001b[0m\u001b[37m\u001b[0m \u001b[1m84s\u001b[0m 3s/step - accuracy: 0.8105 - loss: 0.6739 - val_accuracy: 0.7079 - val_loss: 0.8223\n",
            "Epoch 5/7\n",
            "\u001b[1m23/23\u001b[0m \u001b[32m━━━━━━━━━━━━━━━━━━━━\u001b[0m\u001b[37m\u001b[0m \u001b[1m83s\u001b[0m 3s/step - accuracy: 0.9319 - loss: 0.4179 - val_accuracy: 0.7669 - val_loss: 0.6087\n",
            "Epoch 6/7\n",
            "\u001b[1m23/23\u001b[0m \u001b[32m━━━━━━━━━━━━━━━━━━━━\u001b[0m\u001b[37m\u001b[0m \u001b[1m71s\u001b[0m 3s/step - accuracy: 0.9671 - loss: 0.1764 - val_accuracy: 0.8427 - val_loss: 0.5290\n",
            "Epoch 7/7\n",
            "\u001b[1m23/23\u001b[0m \u001b[32m━━━━━━━━━━━━━━━━━━━━\u001b[0m\u001b[37m\u001b[0m \u001b[1m82s\u001b[0m 3s/step - accuracy: 0.9726 - loss: 0.1047 - val_accuracy: 0.8034 - val_loss: 0.5887\n",
            "\u001b[1m14/14\u001b[0m \u001b[32m━━━━━━━━━━━━━━━━━━━━\u001b[0m\u001b[37m\u001b[0m \u001b[1m8s\u001b[0m 591ms/step - accuracy: 0.7965 - loss: 0.5601\n"
          ]
        },
        {
          "output_type": "stream",
          "name": "stderr",
          "text": [
            "WARNING:absl:You are saving your model as an HDF5 file via `model.save()` or `keras.saving.save_model(model)`. This file format is considered legacy. We recommend using instead the native Keras format, e.g. `model.save('my_model.keras')` or `keras.saving.save_model(model, 'my_model.keras')`. \n"
          ]
        },
        {
          "output_type": "stream",
          "name": "stdout",
          "text": [
            "Test set\n",
            "  Loss: 0.532\n",
            "  Accuracy: 0.811\n",
            "\u001b[1m14/14\u001b[0m \u001b[32m━━━━━━━━━━━━━━━━━━━━\u001b[0m\u001b[37m\u001b[0m \u001b[1m6s\u001b[0m 447ms/step\n",
            "               precision    recall  f1-score   support\n",
            "\n",
            "     business       0.87      0.77      0.82       104\n",
            "entertainment       0.78      0.77      0.78        75\n",
            "     politics       0.76      0.83      0.79        82\n",
            "        sport       0.85      0.91      0.88        99\n",
            "         tech       0.78      0.76      0.77        85\n",
            "\n",
            "     accuracy                           0.81       445\n",
            "    macro avg       0.81      0.81      0.81       445\n",
            " weighted avg       0.81      0.81      0.81       445\n",
            "\n"
          ]
        },
        {
          "output_type": "display_data",
          "data": {
            "text/plain": [
              "<Figure size 640x480 with 1 Axes>"
            ],
            "image/png": "[encoded data removed]"
          },
          "metadata": {}
        },
        {
          "output_type": "stream",
          "name": "stderr",
          "text": [
            "WARNING:absl:Compiled the loaded model, but the compiled metrics have yet to be built. `model.compile_metrics` will be empty until you train or evaluate the model.\n"
          ]
        },
        {
          "output_type": "stream",
          "name": "stdout",
          "text": [
            "\u001b[1m70/70\u001b[0m \u001b[32m━━━━━━━━━━━━━━━━━━━━\u001b[0m\u001b[37m\u001b[0m \u001b[1m40s\u001b[0m 571ms/step\n",
            "               precision    recall  f1-score   support\n",
            "\n",
            "     business       0.95      0.90      0.93       510\n",
            "entertainment       0.92      0.92      0.92       386\n",
            "     politics       0.89      0.93      0.91       417\n",
            "        sport       0.94      0.98      0.96       511\n",
            "         tech       0.93      0.92      0.92       401\n",
            "\n",
            "     accuracy                           0.93      2225\n",
            "    macro avg       0.93      0.93      0.93      2225\n",
            " weighted avg       0.93      0.93      0.93      2225\n",
            "\n"
          ]
        },
        {
          "output_type": "stream",
          "name": "stderr",
          "text": [
            "WARNING:absl:Compiled the loaded model, but the compiled metrics have yet to be built. `model.compile_metrics` will be empty until you train or evaluate the model.\n"
          ]
        },
        {
          "output_type": "stream",
          "name": "stdout",
          "text": [
            "\u001b[1m1/1\u001b[0m \u001b[32m━━━━━━━━━━━━━━━━━━━━\u001b[0m\u001b[37m\u001b[0m \u001b[1m0s\u001b[0m 333ms/step\n",
            "[4]\n",
            "['tech']\n"
          ]
        }
      ]
    }
  ]
}