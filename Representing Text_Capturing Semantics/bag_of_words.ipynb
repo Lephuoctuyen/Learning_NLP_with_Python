{
  "nbformat": 4,
  "nbformat_minor": 0,
  "metadata": {
    "colab": {
      "provenance": [],
      "toc_visible": true
    },
    "kernelspec": {
      "name": "python3",
      "display_name": "Python 3"
    },
    "language_info": {
      "name": "python"
    },
    "widgets": {
      "application/vnd.jupyter.widget-state+json": {
        "29357a4fa7714be7adcd5172bb9755b7": {
          "model_module": "@jupyter-widgets/controls",
          "model_name": "HBoxModel",
          "model_module_version": "1.5.0",
          "state": {
            "_dom_classes": [],
            "_model_module": "@jupyter-widgets/controls",
            "_model_module_version": "1.5.0",
            "_model_name": "HBoxModel",
            "_view_count": null,
            "_view_module": "@jupyter-widgets/controls",
            "_view_module_version": "1.5.0",
            "_view_name": "HBoxView",
            "box_style": "",
            "children": [
              "IPY_MODEL_006a5190c75d4c049a5dc6cb55c5b698",
              "IPY_MODEL_9280dd5056d54e55a6c26dea3c5fd4cc",
              "IPY_MODEL_8ea9ea991a184ddaa00bcac5f7382290"
            ],
            "layout": "IPY_MODEL_454c82a3a83346f7a0cc999308fa6eb0"
          }
        },
        "006a5190c75d4c049a5dc6cb55c5b698": {
          "model_module": "@jupyter-widgets/controls",
          "model_name": "HTMLModel",
          "model_module_version": "1.5.0",
          "state": {
            "_dom_classes": [],
            "_model_module": "@jupyter-widgets/controls",
            "_model_module_version": "1.5.0",
            "_model_name": "HTMLModel",
            "_view_count": null,
            "_view_module": "@jupyter-widgets/controls",
            "_view_module_version": "1.5.0",
            "_view_name": "HTMLView",
            "description": "",
            "description_tooltip": null,
            "layout": "IPY_MODEL_1fc62508b7204de49b16b1d163273358",
            "placeholder": "​",
            "style": "IPY_MODEL_a05f0d91cbe1455a9d577570e6465a33",
            "value": "README.md: 100%"
          }
        },
        "9280dd5056d54e55a6c26dea3c5fd4cc": {
          "model_module": "@jupyter-widgets/controls",
          "model_name": "FloatProgressModel",
          "model_module_version": "1.5.0",
          "state": {
            "_dom_classes": [],
            "_model_module": "@jupyter-widgets/controls",
            "_model_module_version": "1.5.0",
            "_model_name": "FloatProgressModel",
            "_view_count": null,
            "_view_module": "@jupyter-widgets/controls",
            "_view_module_version": "1.5.0",
            "_view_name": "ProgressView",
            "bar_style": "success",
            "description": "",
            "description_tooltip": null,
            "layout": "IPY_MODEL_7dd03921b1814c5ab01762a536be98a0",
            "max": 7457,
            "min": 0,
            "orientation": "horizontal",
            "style": "IPY_MODEL_ed2c34c816f8436da9225eceda768e7e",
            "value": 7457
          }
        },
        "8ea9ea991a184ddaa00bcac5f7382290": {
          "model_module": "@jupyter-widgets/controls",
          "model_name": "HTMLModel",
          "model_module_version": "1.5.0",
          "state": {
            "_dom_classes": [],
            "_model_module": "@jupyter-widgets/controls",
            "_model_module_version": "1.5.0",
            "_model_name": "HTMLModel",
            "_view_count": null,
            "_view_module": "@jupyter-widgets/controls",
            "_view_module_version": "1.5.0",
            "_view_name": "HTMLView",
            "description": "",
            "description_tooltip": null,
            "layout": "IPY_MODEL_1bd8ba3e07f3474aa8da08e07fee4d22",
            "placeholder": "​",
            "style": "IPY_MODEL_1df6f147ffb1488992bd508ef44f2c43",
            "value": " 7.46k/7.46k [00:00&lt;00:00, 173kB/s]"
          }
        },
        "454c82a3a83346f7a0cc999308fa6eb0": {
          "model_module": "@jupyter-widgets/base",
          "model_name": "LayoutModel",
          "model_module_version": "1.2.0",
          "state": {
            "_model_module": "@jupyter-widgets/base",
            "_model_module_version": "1.2.0",
            "_model_name": "LayoutModel",
            "_view_count": null,
            "_view_module": "@jupyter-widgets/base",
            "_view_module_version": "1.2.0",
            "_view_name": "LayoutView",
            "align_content": null,
            "align_items": null,
            "align_self": null,
            "border": null,
            "bottom": null,
            "display": null,
            "flex": null,
            "flex_flow": null,
            "grid_area": null,
            "grid_auto_columns": null,
            "grid_auto_flow": null,
            "grid_auto_rows": null,
            "grid_column": null,
            "grid_gap": null,
            "grid_row": null,
            "grid_template_areas": null,
            "grid_template_columns": null,
            "grid_template_rows": null,
            "height": null,
            "justify_content": null,
            "justify_items": null,
            "left": null,
            "margin": null,
            "max_height": null,
            "max_width": null,
            "min_height": null,
            "min_width": null,
            "object_fit": null,
            "object_position": null,
            "order": null,
            "overflow": null,
            "overflow_x": null,
            "overflow_y": null,
            "padding": null,
            "right": null,
            "top": null,
            "visibility": null,
            "width": null
          }
        },
        "1fc62508b7204de49b16b1d163273358": {
          "model_module": "@jupyter-widgets/base",
          "model_name": "LayoutModel",
          "model_module_version": "1.2.0",
          "state": {
            "_model_module": "@jupyter-widgets/base",
            "_model_module_version": "1.2.0",
            "_model_name": "LayoutModel",
            "_view_count": null,
            "_view_module": "@jupyter-widgets/base",
            "_view_module_version": "1.2.0",
            "_view_name": "LayoutView",
            "align_content": null,
            "align_items": null,
            "align_self": null,
            "border": null,
            "bottom": null,
            "display": null,
            "flex": null,
            "flex_flow": null,
            "grid_area": null,
            "grid_auto_columns": null,
            "grid_auto_flow": null,
            "grid_auto_rows": null,
            "grid_column": null,
            "grid_gap": null,
            "grid_row": null,
            "grid_template_areas": null,
            "grid_template_columns": null,
            "grid_template_rows": null,
            "height": null,
            "justify_content": null,
            "justify_items": null,
            "left": null,
            "margin": null,
            "max_height": null,
            "max_width": null,
            "min_height": null,
            "min_width": null,
            "object_fit": null,
            "object_position": null,
            "order": null,
            "overflow": null,
            "overflow_x": null,
            "overflow_y": null,
            "padding": null,
            "right": null,
            "top": null,
            "visibility": null,
            "width": null
          }
        },
        "a05f0d91cbe1455a9d577570e6465a33": {
          "model_module": "@jupyter-widgets/controls",
          "model_name": "DescriptionStyleModel",
          "model_module_version": "1.5.0",
          "state": {
            "_model_module": "@jupyter-widgets/controls",
            "_model_module_version": "1.5.0",
            "_model_name": "DescriptionStyleModel",
            "_view_count": null,
            "_view_module": "@jupyter-widgets/base",
            "_view_module_version": "1.2.0",
            "_view_name": "StyleView",
            "description_width": ""
          }
        },
        "7dd03921b1814c5ab01762a536be98a0": {
          "model_module": "@jupyter-widgets/base",
          "model_name": "LayoutModel",
          "model_module_version": "1.2.0",
          "state": {
            "_model_module": "@jupyter-widgets/base",
            "_model_module_version": "1.2.0",
            "_model_name": "LayoutModel",
            "_view_count": null,
            "_view_module": "@jupyter-widgets/base",
            "_view_module_version": "1.2.0",
            "_view_name": "LayoutView",
            "align_content": null,
            "align_items": null,
            "align_self": null,
            "border": null,
            "bottom": null,
            "display": null,
            "flex": null,
            "flex_flow": null,
            "grid_area": null,
            "grid_auto_columns": null,
            "grid_auto_flow": null,
            "grid_auto_rows": null,
            "grid_column": null,
            "grid_gap": null,
            "grid_row": null,
            "grid_template_areas": null,
            "grid_template_columns": null,
            "grid_template_rows": null,
            "height": null,
            "justify_content": null,
            "justify_items": null,
            "left": null,
            "margin": null,
            "max_height": null,
            "max_width": null,
            "min_height": null,
            "min_width": null,
            "object_fit": null,
            "object_position": null,
            "order": null,
            "overflow": null,
            "overflow_x": null,
            "overflow_y": null,
            "padding": null,
            "right": null,
            "top": null,
            "visibility": null,
            "width": null
          }
        },
        "ed2c34c816f8436da9225eceda768e7e": {
          "model_module": "@jupyter-widgets/controls",
          "model_name": "ProgressStyleModel",
          "model_module_version": "1.5.0",
          "state": {
            "_model_module": "@jupyter-widgets/controls",
            "_model_module_version": "1.5.0",
            "_model_name": "ProgressStyleModel",
            "_view_count": null,
            "_view_module": "@jupyter-widgets/base",
            "_view_module_version": "1.2.0",
            "_view_name": "StyleView",
            "bar_color": null,
            "description_width": ""
          }
        },
        "1bd8ba3e07f3474aa8da08e07fee4d22": {
          "model_module": "@jupyter-widgets/base",
          "model_name": "LayoutModel",
          "model_module_version": "1.2.0",
          "state": {
            "_model_module": "@jupyter-widgets/base",
            "_model_module_version": "1.2.0",
            "_model_name": "LayoutModel",
            "_view_count": null,
            "_view_module": "@jupyter-widgets/base",
            "_view_module_version": "1.2.0",
            "_view_name": "LayoutView",
            "align_content": null,
            "align_items": null,
            "align_self": null,
            "border": null,
            "bottom": null,
            "display": null,
            "flex": null,
            "flex_flow": null,
            "grid_area": null,
            "grid_auto_columns": null,
            "grid_auto_flow": null,
            "grid_auto_rows": null,
            "grid_column": null,
            "grid_gap": null,
            "grid_row": null,
            "grid_template_areas": null,
            "grid_template_columns": null,
            "grid_template_rows": null,
            "height": null,
            "justify_content": null,
            "justify_items": null,
            "left": null,
            "margin": null,
            "max_height": null,
            "max_width": null,
            "min_height": null,
            "min_width": null,
            "object_fit": null,
            "object_position": null,
            "order": null,
            "overflow": null,
            "overflow_x": null,
            "overflow_y": null,
            "padding": null,
            "right": null,
            "top": null,
            "visibility": null,
            "width": null
          }
        },
        "1df6f147ffb1488992bd508ef44f2c43": {
          "model_module": "@jupyter-widgets/controls",
          "model_name": "DescriptionStyleModel",
          "model_module_version": "1.5.0",
          "state": {
            "_model_module": "@jupyter-widgets/controls",
            "_model_module_version": "1.5.0",
            "_model_name": "DescriptionStyleModel",
            "_view_count": null,
            "_view_module": "@jupyter-widgets/base",
            "_view_module_version": "1.2.0",
            "_view_name": "StyleView",
            "description_width": ""
          }
        },
        "d0150482a92146f695ae583a441f944d": {
          "model_module": "@jupyter-widgets/controls",
          "model_name": "HBoxModel",
          "model_module_version": "1.5.0",
          "state": {
            "_dom_classes": [],
            "_model_module": "@jupyter-widgets/controls",
            "_model_module_version": "1.5.0",
            "_model_name": "HBoxModel",
            "_view_count": null,
            "_view_module": "@jupyter-widgets/controls",
            "_view_module_version": "1.5.0",
            "_view_name": "HBoxView",
            "box_style": "",
            "children": [
              "IPY_MODEL_387762a72ee4473e94560b8c276bed88",
              "IPY_MODEL_0d952c212f0d49deaec8544bee083725",
              "IPY_MODEL_6ca319e7e46646708d554214e63ce334"
            ],
            "layout": "IPY_MODEL_24d5ce9127d5473e9f9fb0ef56f4b5f3"
          }
        },
        "387762a72ee4473e94560b8c276bed88": {
          "model_module": "@jupyter-widgets/controls",
          "model_name": "HTMLModel",
          "model_module_version": "1.5.0",
          "state": {
            "_dom_classes": [],
            "_model_module": "@jupyter-widgets/controls",
            "_model_module_version": "1.5.0",
            "_model_name": "HTMLModel",
            "_view_count": null,
            "_view_module": "@jupyter-widgets/controls",
            "_view_module_version": "1.5.0",
            "_view_name": "HTMLView",
            "description": "",
            "description_tooltip": null,
            "layout": "IPY_MODEL_956df02f6e9841f1a7597792ae65943f",
            "placeholder": "​",
            "style": "IPY_MODEL_a009f24069224cf89e8c33fe7d8c71f9",
            "value": "train.parquet: 100%"
          }
        },
        "0d952c212f0d49deaec8544bee083725": {
          "model_module": "@jupyter-widgets/controls",
          "model_name": "FloatProgressModel",
          "model_module_version": "1.5.0",
          "state": {
            "_dom_classes": [],
            "_model_module": "@jupyter-widgets/controls",
            "_model_module_version": "1.5.0",
            "_model_name": "FloatProgressModel",
            "_view_count": null,
            "_view_module": "@jupyter-widgets/controls",
            "_view_module_version": "1.5.0",
            "_view_name": "ProgressView",
            "bar_style": "success",
            "description": "",
            "description_tooltip": null,
            "layout": "IPY_MODEL_55b53660957e48fcbf3b23cecee1e233",
            "max": 698845,
            "min": 0,
            "orientation": "horizontal",
            "style": "IPY_MODEL_83c12d2997d44bc1b099081d63d38d43",
            "value": 698845
          }
        },
        "6ca319e7e46646708d554214e63ce334": {
          "model_module": "@jupyter-widgets/controls",
          "model_name": "HTMLModel",
          "model_module_version": "1.5.0",
          "state": {
            "_dom_classes": [],
            "_model_module": "@jupyter-widgets/controls",
            "_model_module_version": "1.5.0",
            "_model_name": "HTMLModel",
            "_view_count": null,
            "_view_module": "@jupyter-widgets/controls",
            "_view_module_version": "1.5.0",
            "_view_name": "HTMLView",
            "description": "",
            "description_tooltip": null,
            "layout": "IPY_MODEL_71a4f6e72e6a44d58faaa459c9d98338",
            "placeholder": "​",
            "style": "IPY_MODEL_4a09b23a4f1a465fb8781fb3c1603958",
            "value": " 699k/699k [00:00&lt;00:00, 4.74MB/s]"
          }
        },
        "24d5ce9127d5473e9f9fb0ef56f4b5f3": {
          "model_module": "@jupyter-widgets/base",
          "model_name": "LayoutModel",
          "model_module_version": "1.2.0",
          "state": {
            "_model_module": "@jupyter-widgets/base",
            "_model_module_version": "1.2.0",
            "_model_name": "LayoutModel",
            "_view_count": null,
            "_view_module": "@jupyter-widgets/base",
            "_view_module_version": "1.2.0",
            "_view_name": "LayoutView",
            "align_content": null,
            "align_items": null,
            "align_self": null,
            "border": null,
            "bottom": null,
            "display": null,
            "flex": null,
            "flex_flow": null,
            "grid_area": null,
            "grid_auto_columns": null,
            "grid_auto_flow": null,
            "grid_auto_rows": null,
            "grid_column": null,
            "grid_gap": null,
            "grid_row": null,
            "grid_template_areas": null,
            "grid_template_columns": null,
            "grid_template_rows": null,
            "height": null,
            "justify_content": null,
            "justify_items": null,
            "left": null,
            "margin": null,
            "max_height": null,
            "max_width": null,
            "min_height": null,
            "min_width": null,
            "object_fit": null,
            "object_position": null,
            "order": null,
            "overflow": null,
            "overflow_x": null,
            "overflow_y": null,
            "padding": null,
            "right": null,
            "top": null,
            "visibility": null,
            "width": null
          }
        },
        "956df02f6e9841f1a7597792ae65943f": {
          "model_module": "@jupyter-widgets/base",
          "model_name": "LayoutModel",
          "model_module_version": "1.2.0",
          "state": {
            "_model_module": "@jupyter-widgets/base",
            "_model_module_version": "1.2.0",
            "_model_name": "LayoutModel",
            "_view_count": null,
            "_view_module": "@jupyter-widgets/base",
            "_view_module_version": "1.2.0",
            "_view_name": "LayoutView",
            "align_content": null,
            "align_items": null,
            "align_self": null,
            "border": null,
            "bottom": null,
            "display": null,
            "flex": null,
            "flex_flow": null,
            "grid_area": null,
            "grid_auto_columns": null,
            "grid_auto_flow": null,
            "grid_auto_rows": null,
            "grid_column": null,
            "grid_gap": null,
            "grid_row": null,
            "grid_template_areas": null,
            "grid_template_columns": null,
            "grid_template_rows": null,
            "height": null,
            "justify_content": null,
            "justify_items": null,
            "left": null,
            "margin": null,
            "max_height": null,
            "max_width": null,
            "min_height": null,
            "min_width": null,
            "object_fit": null,
            "object_position": null,
            "order": null,
            "overflow": null,
            "overflow_x": null,
            "overflow_y": null,
            "padding": null,
            "right": null,
            "top": null,
            "visibility": null,
            "width": null
          }
        },
        "a009f24069224cf89e8c33fe7d8c71f9": {
          "model_module": "@jupyter-widgets/controls",
          "model_name": "DescriptionStyleModel",
          "model_module_version": "1.5.0",
          "state": {
            "_model_module": "@jupyter-widgets/controls",
            "_model_module_version": "1.5.0",
            "_model_name": "DescriptionStyleModel",
            "_view_count": null,
            "_view_module": "@jupyter-widgets/base",
            "_view_module_version": "1.2.0",
            "_view_name": "StyleView",
            "description_width": ""
          }
        },
        "55b53660957e48fcbf3b23cecee1e233": {
          "model_module": "@jupyter-widgets/base",
          "model_name": "LayoutModel",
          "model_module_version": "1.2.0",
          "state": {
            "_model_module": "@jupyter-widgets/base",
            "_model_module_version": "1.2.0",
            "_model_name": "LayoutModel",
            "_view_count": null,
            "_view_module": "@jupyter-widgets/base",
            "_view_module_version": "1.2.0",
            "_view_name": "LayoutView",
            "align_content": null,
            "align_items": null,
            "align_self": null,
            "border": null,
            "bottom": null,
            "display": null,
            "flex": null,
            "flex_flow": null,
            "grid_area": null,
            "grid_auto_columns": null,
            "grid_auto_flow": null,
            "grid_auto_rows": null,
            "grid_column": null,
            "grid_gap": null,
            "grid_row": null,
            "grid_template_areas": null,
            "grid_template_columns": null,
            "grid_template_rows": null,
            "height": null,
            "justify_content": null,
            "justify_items": null,
            "left": null,
            "margin": null,
            "max_height": null,
            "max_width": null,
            "min_height": null,
            "min_width": null,
            "object_fit": null,
            "object_position": null,
            "order": null,
            "overflow": null,
            "overflow_x": null,
            "overflow_y": null,
            "padding": null,
            "right": null,
            "top": null,
            "visibility": null,
            "width": null
          }
        },
        "83c12d2997d44bc1b099081d63d38d43": {
          "model_module": "@jupyter-widgets/controls",
          "model_name": "ProgressStyleModel",
          "model_module_version": "1.5.0",
          "state": {
            "_model_module": "@jupyter-widgets/controls",
            "_model_module_version": "1.5.0",
            "_model_name": "ProgressStyleModel",
            "_view_count": null,
            "_view_module": "@jupyter-widgets/base",
            "_view_module_version": "1.2.0",
            "_view_name": "StyleView",
            "bar_color": null,
            "description_width": ""
          }
        },
        "71a4f6e72e6a44d58faaa459c9d98338": {
          "model_module": "@jupyter-widgets/base",
          "model_name": "LayoutModel",
          "model_module_version": "1.2.0",
          "state": {
            "_model_module": "@jupyter-widgets/base",
            "_model_module_version": "1.2.0",
            "_model_name": "LayoutModel",
            "_view_count": null,
            "_view_module": "@jupyter-widgets/base",
            "_view_module_version": "1.2.0",
            "_view_name": "LayoutView",
            "align_content": null,
            "align_items": null,
            "align_self": null,
            "border": null,
            "bottom": null,
            "display": null,
            "flex": null,
            "flex_flow": null,
            "grid_area": null,
            "grid_auto_columns": null,
            "grid_auto_flow": null,
            "grid_auto_rows": null,
            "grid_column": null,
            "grid_gap": null,
            "grid_row": null,
            "grid_template_areas": null,
            "grid_template_columns": null,
            "grid_template_rows": null,
            "height": null,
            "justify_content": null,
            "justify_items": null,
            "left": null,
            "margin": null,
            "max_height": null,
            "max_width": null,
            "min_height": null,
            "min_width": null,
            "object_fit": null,
            "object_position": null,
            "order": null,
            "overflow": null,
            "overflow_x": null,
            "overflow_y": null,
            "padding": null,
            "right": null,
            "top": null,
            "visibility": null,
            "width": null
          }
        },
        "4a09b23a4f1a465fb8781fb3c1603958": {
          "model_module": "@jupyter-widgets/controls",
          "model_name": "DescriptionStyleModel",
          "model_module_version": "1.5.0",
          "state": {
            "_model_module": "@jupyter-widgets/controls",
            "_model_module_version": "1.5.0",
            "_model_name": "DescriptionStyleModel",
            "_view_count": null,
            "_view_module": "@jupyter-widgets/base",
            "_view_module_version": "1.2.0",
            "_view_name": "StyleView",
            "description_width": ""
          }
        },
        "618d7f60bb704caf9cd27f650cf6f9c5": {
          "model_module": "@jupyter-widgets/controls",
          "model_name": "HBoxModel",
          "model_module_version": "1.5.0",
          "state": {
            "_dom_classes": [],
            "_model_module": "@jupyter-widgets/controls",
            "_model_module_version": "1.5.0",
            "_model_name": "HBoxModel",
            "_view_count": null,
            "_view_module": "@jupyter-widgets/controls",
            "_view_module_version": "1.5.0",
            "_view_name": "HBoxView",
            "box_style": "",
            "children": [
              "IPY_MODEL_eff2e00b375a442ba0d08b5a2aa7b551",
              "IPY_MODEL_c1f4f374385d451f95e09015c106866a",
              "IPY_MODEL_5b7e01edcd124a73a85df71f334a56b7"
            ],
            "layout": "IPY_MODEL_cb77011850544cf39ad503458d0f7401"
          }
        },
        "eff2e00b375a442ba0d08b5a2aa7b551": {
          "model_module": "@jupyter-widgets/controls",
          "model_name": "HTMLModel",
          "model_module_version": "1.5.0",
          "state": {
            "_dom_classes": [],
            "_model_module": "@jupyter-widgets/controls",
            "_model_module_version": "1.5.0",
            "_model_name": "HTMLModel",
            "_view_count": null,
            "_view_module": "@jupyter-widgets/controls",
            "_view_module_version": "1.5.0",
            "_view_name": "HTMLView",
            "description": "",
            "description_tooltip": null,
            "layout": "IPY_MODEL_865ff7280107489bba93a283c06fae4a",
            "placeholder": "​",
            "style": "IPY_MODEL_477bb31646604d879a29fde6518d8274",
            "value": "validation.parquet: 100%"
          }
        },
        "c1f4f374385d451f95e09015c106866a": {
          "model_module": "@jupyter-widgets/controls",
          "model_name": "FloatProgressModel",
          "model_module_version": "1.5.0",
          "state": {
            "_dom_classes": [],
            "_model_module": "@jupyter-widgets/controls",
            "_model_module_version": "1.5.0",
            "_model_name": "FloatProgressModel",
            "_view_count": null,
            "_view_module": "@jupyter-widgets/controls",
            "_view_module_version": "1.5.0",
            "_view_name": "ProgressView",
            "bar_style": "success",
            "description": "",
            "description_tooltip": null,
            "layout": "IPY_MODEL_d79b5ea3739941a1a23c056b896d8717",
            "max": 90001,
            "min": 0,
            "orientation": "horizontal",
            "style": "IPY_MODEL_c9bb124d52414ce9b99d6487fe736f09",
            "value": 90001
          }
        },
        "5b7e01edcd124a73a85df71f334a56b7": {
          "model_module": "@jupyter-widgets/controls",
          "model_name": "HTMLModel",
          "model_module_version": "1.5.0",
          "state": {
            "_dom_classes": [],
            "_model_module": "@jupyter-widgets/controls",
            "_model_module_version": "1.5.0",
            "_model_name": "HTMLModel",
            "_view_count": null,
            "_view_module": "@jupyter-widgets/controls",
            "_view_module_version": "1.5.0",
            "_view_name": "HTMLView",
            "description": "",
            "description_tooltip": null,
            "layout": "IPY_MODEL_e8cd211ea1244272a138ebb6a9bc42f0",
            "placeholder": "​",
            "style": "IPY_MODEL_4eeb24128ff9405982a189909a2a3eee",
            "value": " 90.0k/90.0k [00:00&lt;00:00, 4.54MB/s]"
          }
        },
        "cb77011850544cf39ad503458d0f7401": {
          "model_module": "@jupyter-widgets/base",
          "model_name": "LayoutModel",
          "model_module_version": "1.2.0",
          "state": {
            "_model_module": "@jupyter-widgets/base",
            "_model_module_version": "1.2.0",
            "_model_name": "LayoutModel",
            "_view_count": null,
            "_view_module": "@jupyter-widgets/base",
            "_view_module_version": "1.2.0",
            "_view_name": "LayoutView",
            "align_content": null,
            "align_items": null,
            "align_self": null,
            "border": null,
            "bottom": null,
            "display": null,
            "flex": null,
            "flex_flow": null,
            "grid_area": null,
            "grid_auto_columns": null,
            "grid_auto_flow": null,
            "grid_auto_rows": null,
            "grid_column": null,
            "grid_gap": null,
            "grid_row": null,
            "grid_template_areas": null,
            "grid_template_columns": null,
            "grid_template_rows": null,
            "height": null,
            "justify_content": null,
            "justify_items": null,
            "left": null,
            "margin": null,
            "max_height": null,
            "max_width": null,
            "min_height": null,
            "min_width": null,
            "object_fit": null,
            "object_position": null,
            "order": null,
            "overflow": null,
            "overflow_x": null,
            "overflow_y": null,
            "padding": null,
            "right": null,
            "top": null,
            "visibility": null,
            "width": null
          }
        },
        "865ff7280107489bba93a283c06fae4a": {
          "model_module": "@jupyter-widgets/base",
          "model_name": "LayoutModel",
          "model_module_version": "1.2.0",
          "state": {
            "_model_module": "@jupyter-widgets/base",
            "_model_module_version": "1.2.0",
            "_model_name": "LayoutModel",
            "_view_count": null,
            "_view_module": "@jupyter-widgets/base",
            "_view_module_version": "1.2.0",
            "_view_name": "LayoutView",
            "align_content": null,
            "align_items": null,
            "align_self": null,
            "border": null,
            "bottom": null,
            "display": null,
            "flex": null,
            "flex_flow": null,
            "grid_area": null,
            "grid_auto_columns": null,
            "grid_auto_flow": null,
            "grid_auto_rows": null,
            "grid_column": null,
            "grid_gap": null,
            "grid_row": null,
            "grid_template_areas": null,
            "grid_template_columns": null,
            "grid_template_rows": null,
            "height": null,
            "justify_content": null,
            "justify_items": null,
            "left": null,
            "margin": null,
            "max_height": null,
            "max_width": null,
            "min_height": null,
            "min_width": null,
            "object_fit": null,
            "object_position": null,
            "order": null,
            "overflow": null,
            "overflow_x": null,
            "overflow_y": null,
            "padding": null,
            "right": null,
            "top": null,
            "visibility": null,
            "width": null
          }
        },
        "477bb31646604d879a29fde6518d8274": {
          "model_module": "@jupyter-widgets/controls",
          "model_name": "DescriptionStyleModel",
          "model_module_version": "1.5.0",
          "state": {
            "_model_module": "@jupyter-widgets/controls",
            "_model_module_version": "1.5.0",
            "_model_name": "DescriptionStyleModel",
            "_view_count": null,
            "_view_module": "@jupyter-widgets/base",
            "_view_module_version": "1.2.0",
            "_view_name": "StyleView",
            "description_width": ""
          }
        },
        "d79b5ea3739941a1a23c056b896d8717": {
          "model_module": "@jupyter-widgets/base",
          "model_name": "LayoutModel",
          "model_module_version": "1.2.0",
          "state": {
            "_model_module": "@jupyter-widgets/base",
            "_model_module_version": "1.2.0",
            "_model_name": "LayoutModel",
            "_view_count": null,
            "_view_module": "@jupyter-widgets/base",
            "_view_module_version": "1.2.0",
            "_view_name": "LayoutView",
            "align_content": null,
            "align_items": null,
            "align_self": null,
            "border": null,
            "bottom": null,
            "display": null,
            "flex": null,
            "flex_flow": null,
            "grid_area": null,
            "grid_auto_columns": null,
            "grid_auto_flow": null,
            "grid_auto_rows": null,
            "grid_column": null,
            "grid_gap": null,
            "grid_row": null,
            "grid_template_areas": null,
            "grid_template_columns": null,
            "grid_template_rows": null,
            "height": null,
            "justify_content": null,
            "justify_items": null,
            "left": null,
            "margin": null,
            "max_height": null,
            "max_width": null,
            "min_height": null,
            "min_width": null,
            "object_fit": null,
            "object_position": null,
            "order": null,
            "overflow": null,
            "overflow_x": null,
            "overflow_y": null,
            "padding": null,
            "right": null,
            "top": null,
            "visibility": null,
            "width": null
          }
        },
        "c9bb124d52414ce9b99d6487fe736f09": {
          "model_module": "@jupyter-widgets/controls",
          "model_name": "ProgressStyleModel",
          "model_module_version": "1.5.0",
          "state": {
            "_model_module": "@jupyter-widgets/controls",
            "_model_module_version": "1.5.0",
            "_model_name": "ProgressStyleModel",
            "_view_count": null,
            "_view_module": "@jupyter-widgets/base",
            "_view_module_version": "1.2.0",
            "_view_name": "StyleView",
            "bar_color": null,
            "description_width": ""
          }
        },
        "e8cd211ea1244272a138ebb6a9bc42f0": {
          "model_module": "@jupyter-widgets/base",
          "model_name": "LayoutModel",
          "model_module_version": "1.2.0",
          "state": {
            "_model_module": "@jupyter-widgets/base",
            "_model_module_version": "1.2.0",
            "_model_name": "LayoutModel",
            "_view_count": null,
            "_view_module": "@jupyter-widgets/base",
            "_view_module_version": "1.2.0",
            "_view_name": "LayoutView",
            "align_content": null,
            "align_items": null,
            "align_self": null,
            "border": null,
            "bottom": null,
            "display": null,
            "flex": null,
            "flex_flow": null,
            "grid_area": null,
            "grid_auto_columns": null,
            "grid_auto_flow": null,
            "grid_auto_rows": null,
            "grid_column": null,
            "grid_gap": null,
            "grid_row": null,
            "grid_template_areas": null,
            "grid_template_columns": null,
            "grid_template_rows": null,
            "height": null,
            "justify_content": null,
            "justify_items": null,
            "left": null,
            "margin": null,
            "max_height": null,
            "max_width": null,
            "min_height": null,
            "min_width": null,
            "object_fit": null,
            "object_position": null,
            "order": null,
            "overflow": null,
            "overflow_x": null,
            "overflow_y": null,
            "padding": null,
            "right": null,
            "top": null,
            "visibility": null,
            "width": null
          }
        },
        "4eeb24128ff9405982a189909a2a3eee": {
          "model_module": "@jupyter-widgets/controls",
          "model_name": "DescriptionStyleModel",
          "model_module_version": "1.5.0",
          "state": {
            "_model_module": "@jupyter-widgets/controls",
            "_model_module_version": "1.5.0",
            "_model_name": "DescriptionStyleModel",
            "_view_count": null,
            "_view_module": "@jupyter-widgets/base",
            "_view_module_version": "1.2.0",
            "_view_name": "StyleView",
            "description_width": ""
          }
        },
        "95864ac16bff4e4d9c9915be21f104ab": {
          "model_module": "@jupyter-widgets/controls",
          "model_name": "HBoxModel",
          "model_module_version": "1.5.0",
          "state": {
            "_dom_classes": [],
            "_model_module": "@jupyter-widgets/controls",
            "_model_module_version": "1.5.0",
            "_model_name": "HBoxModel",
            "_view_count": null,
            "_view_module": "@jupyter-widgets/controls",
            "_view_module_version": "1.5.0",
            "_view_name": "HBoxView",
            "box_style": "",
            "children": [
              "IPY_MODEL_84853462b993494aa8dd7ac3b646f73c",
              "IPY_MODEL_d00f4bd19ef94f7a80b8d02bc3c467c9",
              "IPY_MODEL_402113ee2e4d43dbab7da5ea1a8e2cc9"
            ],
            "layout": "IPY_MODEL_767dd11574234069ab5d8b24520f05bb"
          }
        },
        "84853462b993494aa8dd7ac3b646f73c": {
          "model_module": "@jupyter-widgets/controls",
          "model_name": "HTMLModel",
          "model_module_version": "1.5.0",
          "state": {
            "_dom_classes": [],
            "_model_module": "@jupyter-widgets/controls",
            "_model_module_version": "1.5.0",
            "_model_name": "HTMLModel",
            "_view_count": null,
            "_view_module": "@jupyter-widgets/controls",
            "_view_module_version": "1.5.0",
            "_view_name": "HTMLView",
            "description": "",
            "description_tooltip": null,
            "layout": "IPY_MODEL_4dc878eec82e4dbb966fdb2c47b6f006",
            "placeholder": "​",
            "style": "IPY_MODEL_ee798d6d4ec44d3ca4868c9e636eca60",
            "value": "test.parquet: 100%"
          }
        },
        "d00f4bd19ef94f7a80b8d02bc3c467c9": {
          "model_module": "@jupyter-widgets/controls",
          "model_name": "FloatProgressModel",
          "model_module_version": "1.5.0",
          "state": {
            "_dom_classes": [],
            "_model_module": "@jupyter-widgets/controls",
            "_model_module_version": "1.5.0",
            "_model_name": "FloatProgressModel",
            "_view_count": null,
            "_view_module": "@jupyter-widgets/controls",
            "_view_module_version": "1.5.0",
            "_view_name": "ProgressView",
            "bar_style": "success",
            "description": "",
            "description_tooltip": null,
            "layout": "IPY_MODEL_9c372555bd0347c09c4178f7d0d5725c",
            "max": 92206,
            "min": 0,
            "orientation": "horizontal",
            "style": "IPY_MODEL_a672ab9e4e874b32be0bfcece4b1e2ca",
            "value": 92206
          }
        },
        "402113ee2e4d43dbab7da5ea1a8e2cc9": {
          "model_module": "@jupyter-widgets/controls",
          "model_name": "HTMLModel",
          "model_module_version": "1.5.0",
          "state": {
            "_dom_classes": [],
            "_model_module": "@jupyter-widgets/controls",
            "_model_module_version": "1.5.0",
            "_model_name": "HTMLModel",
            "_view_count": null,
            "_view_module": "@jupyter-widgets/controls",
            "_view_module_version": "1.5.0",
            "_view_name": "HTMLView",
            "description": "",
            "description_tooltip": null,
            "layout": "IPY_MODEL_c785d7455dfb47729dfa7a4f0eef79d4",
            "placeholder": "​",
            "style": "IPY_MODEL_9fc5ed133a134d728f1b5b4ac47ecfee",
            "value": " 92.2k/92.2k [00:00&lt;00:00, 4.66MB/s]"
          }
        },
        "767dd11574234069ab5d8b24520f05bb": {
          "model_module": "@jupyter-widgets/base",
          "model_name": "LayoutModel",
          "model_module_version": "1.2.0",
          "state": {
            "_model_module": "@jupyter-widgets/base",
            "_model_module_version": "1.2.0",
            "_model_name": "LayoutModel",
            "_view_count": null,
            "_view_module": "@jupyter-widgets/base",
            "_view_module_version": "1.2.0",
            "_view_name": "LayoutView",
            "align_content": null,
            "align_items": null,
            "align_self": null,
            "border": null,
            "bottom": null,
            "display": null,
            "flex": null,
            "flex_flow": null,
            "grid_area": null,
            "grid_auto_columns": null,
            "grid_auto_flow": null,
            "grid_auto_rows": null,
            "grid_column": null,
            "grid_gap": null,
            "grid_row": null,
            "grid_template_areas": null,
            "grid_template_columns": null,
            "grid_template_rows": null,
            "height": null,
            "justify_content": null,
            "justify_items": null,
            "left": null,
            "margin": null,
            "max_height": null,
            "max_width": null,
            "min_height": null,
            "min_width": null,
            "object_fit": null,
            "object_position": null,
            "order": null,
            "overflow": null,
            "overflow_x": null,
            "overflow_y": null,
            "padding": null,
            "right": null,
            "top": null,
            "visibility": null,
            "width": null
          }
        },
        "4dc878eec82e4dbb966fdb2c47b6f006": {
          "model_module": "@jupyter-widgets/base",
          "model_name": "LayoutModel",
          "model_module_version": "1.2.0",
          "state": {
            "_model_module": "@jupyter-widgets/base",
            "_model_module_version": "1.2.0",
            "_model_name": "LayoutModel",
            "_view_count": null,
            "_view_module": "@jupyter-widgets/base",
            "_view_module_version": "1.2.0",
            "_view_name": "LayoutView",
            "align_content": null,
            "align_items": null,
            "align_self": null,
            "border": null,
            "bottom": null,
            "display": null,
            "flex": null,
            "flex_flow": null,
            "grid_area": null,
            "grid_auto_columns": null,
            "grid_auto_flow": null,
            "grid_auto_rows": null,
            "grid_column": null,
            "grid_gap": null,
            "grid_row": null,
            "grid_template_areas": null,
            "grid_template_columns": null,
            "grid_template_rows": null,
            "height": null,
            "justify_content": null,
            "justify_items": null,
            "left": null,
            "margin": null,
            "max_height": null,
            "max_width": null,
            "min_height": null,
            "min_width": null,
            "object_fit": null,
            "object_position": null,
            "order": null,
            "overflow": null,
            "overflow_x": null,
            "overflow_y": null,
            "padding": null,
            "right": null,
            "top": null,
            "visibility": null,
            "width": null
          }
        },
        "ee798d6d4ec44d3ca4868c9e636eca60": {
          "model_module": "@jupyter-widgets/controls",
          "model_name": "DescriptionStyleModel",
          "model_module_version": "1.5.0",
          "state": {
            "_model_module": "@jupyter-widgets/controls",
            "_model_module_version": "1.5.0",
            "_model_name": "DescriptionStyleModel",
            "_view_count": null,
            "_view_module": "@jupyter-widgets/base",
            "_view_module_version": "1.2.0",
            "_view_name": "StyleView",
            "description_width": ""
          }
        },
        "9c372555bd0347c09c4178f7d0d5725c": {
          "model_module": "@jupyter-widgets/base",
          "model_name": "LayoutModel",
          "model_module_version": "1.2.0",
          "state": {
            "_model_module": "@jupyter-widgets/base",
            "_model_module_version": "1.2.0",
            "_model_name": "LayoutModel",
            "_view_count": null,
            "_view_module": "@jupyter-widgets/base",
            "_view_module_version": "1.2.0",
            "_view_name": "LayoutView",
            "align_content": null,
            "align_items": null,
            "align_self": null,
            "border": null,
            "bottom": null,
            "display": null,
            "flex": null,
            "flex_flow": null,
            "grid_area": null,
            "grid_auto_columns": null,
            "grid_auto_flow": null,
            "grid_auto_rows": null,
            "grid_column": null,
            "grid_gap": null,
            "grid_row": null,
            "grid_template_areas": null,
            "grid_template_columns": null,
            "grid_template_rows": null,
            "height": null,
            "justify_content": null,
            "justify_items": null,
            "left": null,
            "margin": null,
            "max_height": null,
            "max_width": null,
            "min_height": null,
            "min_width": null,
            "object_fit": null,
            "object_position": null,
            "order": null,
            "overflow": null,
            "overflow_x": null,
            "overflow_y": null,
            "padding": null,
            "right": null,
            "top": null,
            "visibility": null,
            "width": null
          }
        },
        "a672ab9e4e874b32be0bfcece4b1e2ca": {
          "model_module": "@jupyter-widgets/controls",
          "model_name": "ProgressStyleModel",
          "model_module_version": "1.5.0",
          "state": {
            "_model_module": "@jupyter-widgets/controls",
            "_model_module_version": "1.5.0",
            "_model_name": "ProgressStyleModel",
            "_view_count": null,
            "_view_module": "@jupyter-widgets/base",
            "_view_module_version": "1.2.0",
            "_view_name": "StyleView",
            "bar_color": null,
            "description_width": ""
          }
        },
        "c785d7455dfb47729dfa7a4f0eef79d4": {
          "model_module": "@jupyter-widgets/base",
          "model_name": "LayoutModel",
          "model_module_version": "1.2.0",
          "state": {
            "_model_module": "@jupyter-widgets/base",
            "_model_module_version": "1.2.0",
            "_model_name": "LayoutModel",
            "_view_count": null,
            "_view_module": "@jupyter-widgets/base",
            "_view_module_version": "1.2.0",
            "_view_name": "LayoutView",
            "align_content": null,
            "align_items": null,
            "align_self": null,
            "border": null,
            "bottom": null,
            "display": null,
            "flex": null,
            "flex_flow": null,
            "grid_area": null,
            "grid_auto_columns": null,
            "grid_auto_flow": null,
            "grid_auto_rows": null,
            "grid_column": null,
            "grid_gap": null,
            "grid_row": null,
            "grid_template_areas": null,
            "grid_template_columns": null,
            "grid_template_rows": null,
            "height": null,
            "justify_content": null,
            "justify_items": null,
            "left": null,
            "margin": null,
            "max_height": null,
            "max_width": null,
            "min_height": null,
            "min_width": null,
            "object_fit": null,
            "object_position": null,
            "order": null,
            "overflow": null,
            "overflow_x": null,
            "overflow_y": null,
            "padding": null,
            "right": null,
            "top": null,
            "visibility": null,
            "width": null
          }
        },
        "9fc5ed133a134d728f1b5b4ac47ecfee": {
          "model_module": "@jupyter-widgets/controls",
          "model_name": "DescriptionStyleModel",
          "model_module_version": "1.5.0",
          "state": {
            "_model_module": "@jupyter-widgets/controls",
            "_model_module_version": "1.5.0",
            "_model_name": "DescriptionStyleModel",
            "_view_count": null,
            "_view_module": "@jupyter-widgets/base",
            "_view_module_version": "1.2.0",
            "_view_name": "StyleView",
            "description_width": ""
          }
        },
        "f82cc835987c4fa3adc855b12b514b3a": {
          "model_module": "@jupyter-widgets/controls",
          "model_name": "HBoxModel",
          "model_module_version": "1.5.0",
          "state": {
            "_dom_classes": [],
            "_model_module": "@jupyter-widgets/controls",
            "_model_module_version": "1.5.0",
            "_model_name": "HBoxModel",
            "_view_count": null,
            "_view_module": "@jupyter-widgets/controls",
            "_view_module_version": "1.5.0",
            "_view_name": "HBoxView",
            "box_style": "",
            "children": [
              "IPY_MODEL_90b122ec8fe94e94a149c12e16b51937",
              "IPY_MODEL_f5ca38e404164ed0be875d147fa17496",
              "IPY_MODEL_cf21416252bb42439a5cc2117526dd2f"
            ],
            "layout": "IPY_MODEL_29a948334fe54243aeab900737c01a27"
          }
        },
        "90b122ec8fe94e94a149c12e16b51937": {
          "model_module": "@jupyter-widgets/controls",
          "model_name": "HTMLModel",
          "model_module_version": "1.5.0",
          "state": {
            "_dom_classes": [],
            "_model_module": "@jupyter-widgets/controls",
            "_model_module_version": "1.5.0",
            "_model_name": "HTMLModel",
            "_view_count": null,
            "_view_module": "@jupyter-widgets/controls",
            "_view_module_version": "1.5.0",
            "_view_name": "HTMLView",
            "description": "",
            "description_tooltip": null,
            "layout": "IPY_MODEL_58a6d8b72469414297f69618ba1fe578",
            "placeholder": "​",
            "style": "IPY_MODEL_42b5f8b7be8643bdb14dc0c05ac34a7b",
            "value": "Generating train split: 100%"
          }
        },
        "f5ca38e404164ed0be875d147fa17496": {
          "model_module": "@jupyter-widgets/controls",
          "model_name": "FloatProgressModel",
          "model_module_version": "1.5.0",
          "state": {
            "_dom_classes": [],
            "_model_module": "@jupyter-widgets/controls",
            "_model_module_version": "1.5.0",
            "_model_name": "FloatProgressModel",
            "_view_count": null,
            "_view_module": "@jupyter-widgets/controls",
            "_view_module_version": "1.5.0",
            "_view_name": "ProgressView",
            "bar_style": "success",
            "description": "",
            "description_tooltip": null,
            "layout": "IPY_MODEL_32f8a658fbf84a0cbf9551ca4adeb9bb",
            "max": 8530,
            "min": 0,
            "orientation": "horizontal",
            "style": "IPY_MODEL_d67e6114e2734f7eb6f70a6c3b212cc0",
            "value": 8530
          }
        },
        "cf21416252bb42439a5cc2117526dd2f": {
          "model_module": "@jupyter-widgets/controls",
          "model_name": "HTMLModel",
          "model_module_version": "1.5.0",
          "state": {
            "_dom_classes": [],
            "_model_module": "@jupyter-widgets/controls",
            "_model_module_version": "1.5.0",
            "_model_name": "HTMLModel",
            "_view_count": null,
            "_view_module": "@jupyter-widgets/controls",
            "_view_module_version": "1.5.0",
            "_view_name": "HTMLView",
            "description": "",
            "description_tooltip": null,
            "layout": "IPY_MODEL_40b8f6bde12045f2830f34579017d794",
            "placeholder": "​",
            "style": "IPY_MODEL_8b016aa58a8e428897921659d117fbe4",
            "value": " 8530/8530 [00:00&lt;00:00, 98422.09 examples/s]"
          }
        },
        "29a948334fe54243aeab900737c01a27": {
          "model_module": "@jupyter-widgets/base",
          "model_name": "LayoutModel",
          "model_module_version": "1.2.0",
          "state": {
            "_model_module": "@jupyter-widgets/base",
            "_model_module_version": "1.2.0",
            "_model_name": "LayoutModel",
            "_view_count": null,
            "_view_module": "@jupyter-widgets/base",
            "_view_module_version": "1.2.0",
            "_view_name": "LayoutView",
            "align_content": null,
            "align_items": null,
            "align_self": null,
            "border": null,
            "bottom": null,
            "display": null,
            "flex": null,
            "flex_flow": null,
            "grid_area": null,
            "grid_auto_columns": null,
            "grid_auto_flow": null,
            "grid_auto_rows": null,
            "grid_column": null,
            "grid_gap": null,
            "grid_row": null,
            "grid_template_areas": null,
            "grid_template_columns": null,
            "grid_template_rows": null,
            "height": null,
            "justify_content": null,
            "justify_items": null,
            "left": null,
            "margin": null,
            "max_height": null,
            "max_width": null,
            "min_height": null,
            "min_width": null,
            "object_fit": null,
            "object_position": null,
            "order": null,
            "overflow": null,
            "overflow_x": null,
            "overflow_y": null,
            "padding": null,
            "right": null,
            "top": null,
            "visibility": null,
            "width": null
          }
        },
        "58a6d8b72469414297f69618ba1fe578": {
          "model_module": "@jupyter-widgets/base",
          "model_name": "LayoutModel",
          "model_module_version": "1.2.0",
          "state": {
            "_model_module": "@jupyter-widgets/base",
            "_model_module_version": "1.2.0",
            "_model_name": "LayoutModel",
            "_view_count": null,
            "_view_module": "@jupyter-widgets/base",
            "_view_module_version": "1.2.0",
            "_view_name": "LayoutView",
            "align_content": null,
            "align_items": null,
            "align_self": null,
            "border": null,
            "bottom": null,
            "display": null,
            "flex": null,
            "flex_flow": null,
            "grid_area": null,
            "grid_auto_columns": null,
            "grid_auto_flow": null,
            "grid_auto_rows": null,
            "grid_column": null,
            "grid_gap": null,
            "grid_row": null,
            "grid_template_areas": null,
            "grid_template_columns": null,
            "grid_template_rows": null,
            "height": null,
            "justify_content": null,
            "justify_items": null,
            "left": null,
            "margin": null,
            "max_height": null,
            "max_width": null,
            "min_height": null,
            "min_width": null,
            "object_fit": null,
            "object_position": null,
            "order": null,
            "overflow": null,
            "overflow_x": null,
            "overflow_y": null,
            "padding": null,
            "right": null,
            "top": null,
            "visibility": null,
            "width": null
          }
        },
        "42b5f8b7be8643bdb14dc0c05ac34a7b": {
          "model_module": "@jupyter-widgets/controls",
          "model_name": "DescriptionStyleModel",
          "model_module_version": "1.5.0",
          "state": {
            "_model_module": "@jupyter-widgets/controls",
            "_model_module_version": "1.5.0",
            "_model_name": "DescriptionStyleModel",
            "_view_count": null,
            "_view_module": "@jupyter-widgets/base",
            "_view_module_version": "1.2.0",
            "_view_name": "StyleView",
            "description_width": ""
          }
        },
        "32f8a658fbf84a0cbf9551ca4adeb9bb": {
          "model_module": "@jupyter-widgets/base",
          "model_name": "LayoutModel",
          "model_module_version": "1.2.0",
          "state": {
            "_model_module": "@jupyter-widgets/base",
            "_model_module_version": "1.2.0",
            "_model_name": "LayoutModel",
            "_view_count": null,
            "_view_module": "@jupyter-widgets/base",
            "_view_module_version": "1.2.0",
            "_view_name": "LayoutView",
            "align_content": null,
            "align_items": null,
            "align_self": null,
            "border": null,
            "bottom": null,
            "display": null,
            "flex": null,
            "flex_flow": null,
            "grid_area": null,
            "grid_auto_columns": null,
            "grid_auto_flow": null,
            "grid_auto_rows": null,
            "grid_column": null,
            "grid_gap": null,
            "grid_row": null,
            "grid_template_areas": null,
            "grid_template_columns": null,
            "grid_template_rows": null,
            "height": null,
            "justify_content": null,
            "justify_items": null,
            "left": null,
            "margin": null,
            "max_height": null,
            "max_width": null,
            "min_height": null,
            "min_width": null,
            "object_fit": null,
            "object_position": null,
            "order": null,
            "overflow": null,
            "overflow_x": null,
            "overflow_y": null,
            "padding": null,
            "right": null,
            "top": null,
            "visibility": null,
            "width": null
          }
        },
        "d67e6114e2734f7eb6f70a6c3b212cc0": {
          "model_module": "@jupyter-widgets/controls",
          "model_name": "ProgressStyleModel",
          "model_module_version": "1.5.0",
          "state": {
            "_model_module": "@jupyter-widgets/controls",
            "_model_module_version": "1.5.0",
            "_model_name": "ProgressStyleModel",
            "_view_count": null,
            "_view_module": "@jupyter-widgets/base",
            "_view_module_version": "1.2.0",
            "_view_name": "StyleView",
            "bar_color": null,
            "description_width": ""
          }
        },
        "40b8f6bde12045f2830f34579017d794": {
          "model_module": "@jupyter-widgets/base",
          "model_name": "LayoutModel",
          "model_module_version": "1.2.0",
          "state": {
            "_model_module": "@jupyter-widgets/base",
            "_model_module_version": "1.2.0",
            "_model_name": "LayoutModel",
            "_view_count": null,
            "_view_module": "@jupyter-widgets/base",
            "_view_module_version": "1.2.0",
            "_view_name": "LayoutView",
            "align_content": null,
            "align_items": null,
            "align_self": null,
            "border": null,
            "bottom": null,
            "display": null,
            "flex": null,
            "flex_flow": null,
            "grid_area": null,
            "grid_auto_columns": null,
            "grid_auto_flow": null,
            "grid_auto_rows": null,
            "grid_column": null,
            "grid_gap": null,
            "grid_row": null,
            "grid_template_areas": null,
            "grid_template_columns": null,
            "grid_template_rows": null,
            "height": null,
            "justify_content": null,
            "justify_items": null,
            "left": null,
            "margin": null,
            "max_height": null,
            "max_width": null,
            "min_height": null,
            "min_width": null,
            "object_fit": null,
            "object_position": null,
            "order": null,
            "overflow": null,
            "overflow_x": null,
            "overflow_y": null,
            "padding": null,
            "right": null,
            "top": null,
            "visibility": null,
            "width": null
          }
        },
        "8b016aa58a8e428897921659d117fbe4": {
          "model_module": "@jupyter-widgets/controls",
          "model_name": "DescriptionStyleModel",
          "model_module_version": "1.5.0",
          "state": {
            "_model_module": "@jupyter-widgets/controls",
            "_model_module_version": "1.5.0",
            "_model_name": "DescriptionStyleModel",
            "_view_count": null,
            "_view_module": "@jupyter-widgets/base",
            "_view_module_version": "1.2.0",
            "_view_name": "StyleView",
            "description_width": ""
          }
        },
        "a4ac462179114dd8a3aa1abef5e8a77c": {
          "model_module": "@jupyter-widgets/controls",
          "model_name": "HBoxModel",
          "model_module_version": "1.5.0",
          "state": {
            "_dom_classes": [],
            "_model_module": "@jupyter-widgets/controls",
            "_model_module_version": "1.5.0",
            "_model_name": "HBoxModel",
            "_view_count": null,
            "_view_module": "@jupyter-widgets/controls",
            "_view_module_version": "1.5.0",
            "_view_name": "HBoxView",
            "box_style": "",
            "children": [
              "IPY_MODEL_cc4ff943f003469b8c3d6829ff942e73",
              "IPY_MODEL_c37ac2b7e65e487f9bb2816598a893a4",
              "IPY_MODEL_c40b6ad5c0c04ac69550876441465bfd"
            ],
            "layout": "IPY_MODEL_9d6040b611d347ca8ae6d69aa7c1fcfb"
          }
        },
        "cc4ff943f003469b8c3d6829ff942e73": {
          "model_module": "@jupyter-widgets/controls",
          "model_name": "HTMLModel",
          "model_module_version": "1.5.0",
          "state": {
            "_dom_classes": [],
            "_model_module": "@jupyter-widgets/controls",
            "_model_module_version": "1.5.0",
            "_model_name": "HTMLModel",
            "_view_count": null,
            "_view_module": "@jupyter-widgets/controls",
            "_view_module_version": "1.5.0",
            "_view_name": "HTMLView",
            "description": "",
            "description_tooltip": null,
            "layout": "IPY_MODEL_b4e80b46f2c840c1a22101d5283a5237",
            "placeholder": "​",
            "style": "IPY_MODEL_960f7e49b3f04d94b976f31f1ab02bfd",
            "value": "Generating validation split: 100%"
          }
        },
        "c37ac2b7e65e487f9bb2816598a893a4": {
          "model_module": "@jupyter-widgets/controls",
          "model_name": "FloatProgressModel",
          "model_module_version": "1.5.0",
          "state": {
            "_dom_classes": [],
            "_model_module": "@jupyter-widgets/controls",
            "_model_module_version": "1.5.0",
            "_model_name": "FloatProgressModel",
            "_view_count": null,
            "_view_module": "@jupyter-widgets/controls",
            "_view_module_version": "1.5.0",
            "_view_name": "ProgressView",
            "bar_style": "success",
            "description": "",
            "description_tooltip": null,
            "layout": "IPY_MODEL_769d0d70695f4bef8d21b2f97ffce057",
            "max": 1066,
            "min": 0,
            "orientation": "horizontal",
            "style": "IPY_MODEL_167543e80ab443b78bab0e8554a0b5d8",
            "value": 1066
          }
        },
        "c40b6ad5c0c04ac69550876441465bfd": {
          "model_module": "@jupyter-widgets/controls",
          "model_name": "HTMLModel",
          "model_module_version": "1.5.0",
          "state": {
            "_dom_classes": [],
            "_model_module": "@jupyter-widgets/controls",
            "_model_module_version": "1.5.0",
            "_model_name": "HTMLModel",
            "_view_count": null,
            "_view_module": "@jupyter-widgets/controls",
            "_view_module_version": "1.5.0",
            "_view_name": "HTMLView",
            "description": "",
            "description_tooltip": null,
            "layout": "IPY_MODEL_ab955ee640994f8d9b32affa9cb8ac7c",
            "placeholder": "​",
            "style": "IPY_MODEL_bce95bf5404946d58a0a20828798fc40",
            "value": " 1066/1066 [00:00&lt;00:00, 25862.16 examples/s]"
          }
        },
        "9d6040b611d347ca8ae6d69aa7c1fcfb": {
          "model_module": "@jupyter-widgets/base",
          "model_name": "LayoutModel",
          "model_module_version": "1.2.0",
          "state": {
            "_model_module": "@jupyter-widgets/base",
            "_model_module_version": "1.2.0",
            "_model_name": "LayoutModel",
            "_view_count": null,
            "_view_module": "@jupyter-widgets/base",
            "_view_module_version": "1.2.0",
            "_view_name": "LayoutView",
            "align_content": null,
            "align_items": null,
            "align_self": null,
            "border": null,
            "bottom": null,
            "display": null,
            "flex": null,
            "flex_flow": null,
            "grid_area": null,
            "grid_auto_columns": null,
            "grid_auto_flow": null,
            "grid_auto_rows": null,
            "grid_column": null,
            "grid_gap": null,
            "grid_row": null,
            "grid_template_areas": null,
            "grid_template_columns": null,
            "grid_template_rows": null,
            "height": null,
            "justify_content": null,
            "justify_items": null,
            "left": null,
            "margin": null,
            "max_height": null,
            "max_width": null,
            "min_height": null,
            "min_width": null,
            "object_fit": null,
            "object_position": null,
            "order": null,
            "overflow": null,
            "overflow_x": null,
            "overflow_y": null,
            "padding": null,
            "right": null,
            "top": null,
            "visibility": null,
            "width": null
          }
        },
        "b4e80b46f2c840c1a22101d5283a5237": {
          "model_module": "@jupyter-widgets/base",
          "model_name": "LayoutModel",
          "model_module_version": "1.2.0",
          "state": {
            "_model_module": "@jupyter-widgets/base",
            "_model_module_version": "1.2.0",
            "_model_name": "LayoutModel",
            "_view_count": null,
            "_view_module": "@jupyter-widgets/base",
            "_view_module_version": "1.2.0",
            "_view_name": "LayoutView",
            "align_content": null,
            "align_items": null,
            "align_self": null,
            "border": null,
            "bottom": null,
            "display": null,
            "flex": null,
            "flex_flow": null,
            "grid_area": null,
            "grid_auto_columns": null,
            "grid_auto_flow": null,
            "grid_auto_rows": null,
            "grid_column": null,
            "grid_gap": null,
            "grid_row": null,
            "grid_template_areas": null,
            "grid_template_columns": null,
            "grid_template_rows": null,
            "height": null,
            "justify_content": null,
            "justify_items": null,
            "left": null,
            "margin": null,
            "max_height": null,
            "max_width": null,
            "min_height": null,
            "min_width": null,
            "object_fit": null,
            "object_position": null,
            "order": null,
            "overflow": null,
            "overflow_x": null,
            "overflow_y": null,
            "padding": null,
            "right": null,
            "top": null,
            "visibility": null,
            "width": null
          }
        },
        "960f7e49b3f04d94b976f31f1ab02bfd": {
          "model_module": "@jupyter-widgets/controls",
          "model_name": "DescriptionStyleModel",
          "model_module_version": "1.5.0",
          "state": {
            "_model_module": "@jupyter-widgets/controls",
            "_model_module_version": "1.5.0",
            "_model_name": "DescriptionStyleModel",
            "_view_count": null,
            "_view_module": "@jupyter-widgets/base",
            "_view_module_version": "1.2.0",
            "_view_name": "StyleView",
            "description_width": ""
          }
        },
        "769d0d70695f4bef8d21b2f97ffce057": {
          "model_module": "@jupyter-widgets/base",
          "model_name": "LayoutModel",
          "model_module_version": "1.2.0",
          "state": {
            "_model_module": "@jupyter-widgets/base",
            "_model_module_version": "1.2.0",
            "_model_name": "LayoutModel",
            "_view_count": null,
            "_view_module": "@jupyter-widgets/base",
            "_view_module_version": "1.2.0",
            "_view_name": "LayoutView",
            "align_content": null,
            "align_items": null,
            "align_self": null,
            "border": null,
            "bottom": null,
            "display": null,
            "flex": null,
            "flex_flow": null,
            "grid_area": null,
            "grid_auto_columns": null,
            "grid_auto_flow": null,
            "grid_auto_rows": null,
            "grid_column": null,
            "grid_gap": null,
            "grid_row": null,
            "grid_template_areas": null,
            "grid_template_columns": null,
            "grid_template_rows": null,
            "height": null,
            "justify_content": null,
            "justify_items": null,
            "left": null,
            "margin": null,
            "max_height": null,
            "max_width": null,
            "min_height": null,
            "min_width": null,
            "object_fit": null,
            "object_position": null,
            "order": null,
            "overflow": null,
            "overflow_x": null,
            "overflow_y": null,
            "padding": null,
            "right": null,
            "top": null,
            "visibility": null,
            "width": null
          }
        },
        "167543e80ab443b78bab0e8554a0b5d8": {
          "model_module": "@jupyter-widgets/controls",
          "model_name": "ProgressStyleModel",
          "model_module_version": "1.5.0",
          "state": {
            "_model_module": "@jupyter-widgets/controls",
            "_model_module_version": "1.5.0",
            "_model_name": "ProgressStyleModel",
            "_view_count": null,
            "_view_module": "@jupyter-widgets/base",
            "_view_module_version": "1.2.0",
            "_view_name": "StyleView",
            "bar_color": null,
            "description_width": ""
          }
        },
        "ab955ee640994f8d9b32affa9cb8ac7c": {
          "model_module": "@jupyter-widgets/base",
          "model_name": "LayoutModel",
          "model_module_version": "1.2.0",
          "state": {
            "_model_module": "@jupyter-widgets/base",
            "_model_module_version": "1.2.0",
            "_model_name": "LayoutModel",
            "_view_count": null,
            "_view_module": "@jupyter-widgets/base",
            "_view_module_version": "1.2.0",
            "_view_name": "LayoutView",
            "align_content": null,
            "align_items": null,
            "align_self": null,
            "border": null,
            "bottom": null,
            "display": null,
            "flex": null,
            "flex_flow": null,
            "grid_area": null,
            "grid_auto_columns": null,
            "grid_auto_flow": null,
            "grid_auto_rows": null,
            "grid_column": null,
            "grid_gap": null,
            "grid_row": null,
            "grid_template_areas": null,
            "grid_template_columns": null,
            "grid_template_rows": null,
            "height": null,
            "justify_content": null,
            "justify_items": null,
            "left": null,
            "margin": null,
            "max_height": null,
            "max_width": null,
            "min_height": null,
            "min_width": null,
            "object_fit": null,
            "object_position": null,
            "order": null,
            "overflow": null,
            "overflow_x": null,
            "overflow_y": null,
            "padding": null,
            "right": null,
            "top": null,
            "visibility": null,
            "width": null
          }
        },
        "bce95bf5404946d58a0a20828798fc40": {
          "model_module": "@jupyter-widgets/controls",
          "model_name": "DescriptionStyleModel",
          "model_module_version": "1.5.0",
          "state": {
            "_model_module": "@jupyter-widgets/controls",
            "_model_module_version": "1.5.0",
            "_model_name": "DescriptionStyleModel",
            "_view_count": null,
            "_view_module": "@jupyter-widgets/base",
            "_view_module_version": "1.2.0",
            "_view_name": "StyleView",
            "description_width": ""
          }
        },
        "0b0a0ab2ecb7400cbe5c9f65c5586128": {
          "model_module": "@jupyter-widgets/controls",
          "model_name": "HBoxModel",
          "model_module_version": "1.5.0",
          "state": {
            "_dom_classes": [],
            "_model_module": "@jupyter-widgets/controls",
            "_model_module_version": "1.5.0",
            "_model_name": "HBoxModel",
            "_view_count": null,
            "_view_module": "@jupyter-widgets/controls",
            "_view_module_version": "1.5.0",
            "_view_name": "HBoxView",
            "box_style": "",
            "children": [
              "IPY_MODEL_2e00f6b67c5448d99568c86fd9a7ce64",
              "IPY_MODEL_2d2eef1fc6d247f2bbb59602c4b9e247",
              "IPY_MODEL_2f465ff2c23a45f4b104246b482ecdbb"
            ],
            "layout": "IPY_MODEL_1af47d0864fd424dbb58ac5c5d6adbcc"
          }
        },
        "2e00f6b67c5448d99568c86fd9a7ce64": {
          "model_module": "@jupyter-widgets/controls",
          "model_name": "HTMLModel",
          "model_module_version": "1.5.0",
          "state": {
            "_dom_classes": [],
            "_model_module": "@jupyter-widgets/controls",
            "_model_module_version": "1.5.0",
            "_model_name": "HTMLModel",
            "_view_count": null,
            "_view_module": "@jupyter-widgets/controls",
            "_view_module_version": "1.5.0",
            "_view_name": "HTMLView",
            "description": "",
            "description_tooltip": null,
            "layout": "IPY_MODEL_9e19d80763d84bb689d0ea4e31ebf02d",
            "placeholder": "​",
            "style": "IPY_MODEL_71c742d1c6314ee791445637a51863ef",
            "value": "Generating test split: 100%"
          }
        },
        "2d2eef1fc6d247f2bbb59602c4b9e247": {
          "model_module": "@jupyter-widgets/controls",
          "model_name": "FloatProgressModel",
          "model_module_version": "1.5.0",
          "state": {
            "_dom_classes": [],
            "_model_module": "@jupyter-widgets/controls",
            "_model_module_version": "1.5.0",
            "_model_name": "FloatProgressModel",
            "_view_count": null,
            "_view_module": "@jupyter-widgets/controls",
            "_view_module_version": "1.5.0",
            "_view_name": "ProgressView",
            "bar_style": "success",
            "description": "",
            "description_tooltip": null,
            "layout": "IPY_MODEL_5da741f7a95445da89b00fcde1608ab3",
            "max": 1066,
            "min": 0,
            "orientation": "horizontal",
            "style": "IPY_MODEL_da873899090f4159ab4b836e60882068",
            "value": 1066
          }
        },
        "2f465ff2c23a45f4b104246b482ecdbb": {
          "model_module": "@jupyter-widgets/controls",
          "model_name": "HTMLModel",
          "model_module_version": "1.5.0",
          "state": {
            "_dom_classes": [],
            "_model_module": "@jupyter-widgets/controls",
            "_model_module_version": "1.5.0",
            "_model_name": "HTMLModel",
            "_view_count": null,
            "_view_module": "@jupyter-widgets/controls",
            "_view_module_version": "1.5.0",
            "_view_name": "HTMLView",
            "description": "",
            "description_tooltip": null,
            "layout": "IPY_MODEL_db1c031b9aca418aab6271827a732921",
            "placeholder": "​",
            "style": "IPY_MODEL_78b8a8a4460e48dba1f2ff9393f3634b",
            "value": " 1066/1066 [00:00&lt;00:00, 25806.33 examples/s]"
          }
        },
        "1af47d0864fd424dbb58ac5c5d6adbcc": {
          "model_module": "@jupyter-widgets/base",
          "model_name": "LayoutModel",
          "model_module_version": "1.2.0",
          "state": {
            "_model_module": "@jupyter-widgets/base",
            "_model_module_version": "1.2.0",
            "_model_name": "LayoutModel",
            "_view_count": null,
            "_view_module": "@jupyter-widgets/base",
            "_view_module_version": "1.2.0",
            "_view_name": "LayoutView",
            "align_content": null,
            "align_items": null,
            "align_self": null,
            "border": null,
            "bottom": null,
            "display": null,
            "flex": null,
            "flex_flow": null,
            "grid_area": null,
            "grid_auto_columns": null,
            "grid_auto_flow": null,
            "grid_auto_rows": null,
            "grid_column": null,
            "grid_gap": null,
            "grid_row": null,
            "grid_template_areas": null,
            "grid_template_columns": null,
            "grid_template_rows": null,
            "height": null,
            "justify_content": null,
            "justify_items": null,
            "left": null,
            "margin": null,
            "max_height": null,
            "max_width": null,
            "min_height": null,
            "min_width": null,
            "object_fit": null,
            "object_position": null,
            "order": null,
            "overflow": null,
            "overflow_x": null,
            "overflow_y": null,
            "padding": null,
            "right": null,
            "top": null,
            "visibility": null,
            "width": null
          }
        },
        "9e19d80763d84bb689d0ea4e31ebf02d": {
          "model_module": "@jupyter-widgets/base",
          "model_name": "LayoutModel",
          "model_module_version": "1.2.0",
          "state": {
            "_model_module": "@jupyter-widgets/base",
            "_model_module_version": "1.2.0",
            "_model_name": "LayoutModel",
            "_view_count": null,
            "_view_module": "@jupyter-widgets/base",
            "_view_module_version": "1.2.0",
            "_view_name": "LayoutView",
            "align_content": null,
            "align_items": null,
            "align_self": null,
            "border": null,
            "bottom": null,
            "display": null,
            "flex": null,
            "flex_flow": null,
            "grid_area": null,
            "grid_auto_columns": null,
            "grid_auto_flow": null,
            "grid_auto_rows": null,
            "grid_column": null,
            "grid_gap": null,
            "grid_row": null,
            "grid_template_areas": null,
            "grid_template_columns": null,
            "grid_template_rows": null,
            "height": null,
            "justify_content": null,
            "justify_items": null,
            "left": null,
            "margin": null,
            "max_height": null,
            "max_width": null,
            "min_height": null,
            "min_width": null,
            "object_fit": null,
            "object_position": null,
            "order": null,
            "overflow": null,
            "overflow_x": null,
            "overflow_y": null,
            "padding": null,
            "right": null,
            "top": null,
            "visibility": null,
            "width": null
          }
        },
        "71c742d1c6314ee791445637a51863ef": {
          "model_module": "@jupyter-widgets/controls",
          "model_name": "DescriptionStyleModel",
          "model_module_version": "1.5.0",
          "state": {
            "_model_module": "@jupyter-widgets/controls",
            "_model_module_version": "1.5.0",
            "_model_name": "DescriptionStyleModel",
            "_view_count": null,
            "_view_module": "@jupyter-widgets/base",
            "_view_module_version": "1.2.0",
            "_view_name": "StyleView",
            "description_width": ""
          }
        },
        "5da741f7a95445da89b00fcde1608ab3": {
          "model_module": "@jupyter-widgets/base",
          "model_name": "LayoutModel",
          "model_module_version": "1.2.0",
          "state": {
            "_model_module": "@jupyter-widgets/base",
            "_model_module_version": "1.2.0",
            "_model_name": "LayoutModel",
            "_view_count": null,
            "_view_module": "@jupyter-widgets/base",
            "_view_module_version": "1.2.0",
            "_view_name": "LayoutView",
            "align_content": null,
            "align_items": null,
            "align_self": null,
            "border": null,
            "bottom": null,
            "display": null,
            "flex": null,
            "flex_flow": null,
            "grid_area": null,
            "grid_auto_columns": null,
            "grid_auto_flow": null,
            "grid_auto_rows": null,
            "grid_column": null,
            "grid_gap": null,
            "grid_row": null,
            "grid_template_areas": null,
            "grid_template_columns": null,
            "grid_template_rows": null,
            "height": null,
            "justify_content": null,
            "justify_items": null,
            "left": null,
            "margin": null,
            "max_height": null,
            "max_width": null,
            "min_height": null,
            "min_width": null,
            "object_fit": null,
            "object_position": null,
            "order": null,
            "overflow": null,
            "overflow_x": null,
            "overflow_y": null,
            "padding": null,
            "right": null,
            "top": null,
            "visibility": null,
            "width": null
          }
        },
        "da873899090f4159ab4b836e60882068": {
          "model_module": "@jupyter-widgets/controls",
          "model_name": "ProgressStyleModel",
          "model_module_version": "1.5.0",
          "state": {
            "_model_module": "@jupyter-widgets/controls",
            "_model_module_version": "1.5.0",
            "_model_name": "ProgressStyleModel",
            "_view_count": null,
            "_view_module": "@jupyter-widgets/base",
            "_view_module_version": "1.2.0",
            "_view_name": "StyleView",
            "bar_color": null,
            "description_width": ""
          }
        },
        "db1c031b9aca418aab6271827a732921": {
          "model_module": "@jupyter-widgets/base",
          "model_name": "LayoutModel",
          "model_module_version": "1.2.0",
          "state": {
            "_model_module": "@jupyter-widgets/base",
            "_model_module_version": "1.2.0",
            "_model_name": "LayoutModel",
            "_view_count": null,
            "_view_module": "@jupyter-widgets/base",
            "_view_module_version": "1.2.0",
            "_view_name": "LayoutView",
            "align_content": null,
            "align_items": null,
            "align_self": null,
            "border": null,
            "bottom": null,
            "display": null,
            "flex": null,
            "flex_flow": null,
            "grid_area": null,
            "grid_auto_columns": null,
            "grid_auto_flow": null,
            "grid_auto_rows": null,
            "grid_column": null,
            "grid_gap": null,
            "grid_row": null,
            "grid_template_areas": null,
            "grid_template_columns": null,
            "grid_template_rows": null,
            "height": null,
            "justify_content": null,
            "justify_items": null,
            "left": null,
            "margin": null,
            "max_height": null,
            "max_width": null,
            "min_height": null,
            "min_width": null,
            "object_fit": null,
            "object_position": null,
            "order": null,
            "overflow": null,
            "overflow_x": null,
            "overflow_y": null,
            "padding": null,
            "right": null,
            "top": null,
            "visibility": null,
            "width": null
          }
        },
        "78b8a8a4460e48dba1f2ff9393f3634b": {
          "model_module": "@jupyter-widgets/controls",
          "model_name": "DescriptionStyleModel",
          "model_module_version": "1.5.0",
          "state": {
            "_model_module": "@jupyter-widgets/controls",
            "_model_module_version": "1.5.0",
            "_model_name": "DescriptionStyleModel",
            "_view_count": null,
            "_view_module": "@jupyter-widgets/base",
            "_view_module_version": "1.2.0",
            "_view_name": "StyleView",
            "description_width": ""
          }
        }
      }
    }
  },
  "cells": [
    {
      "cell_type": "markdown",
      "source": [
        "# Bag of Words\n",
        "Bag of Words là một cách đơn giản nhất để biểu diễn văn bản. Chúng ta coi văn bản của mình như một tập hợp các tài liệu, trong đó tài liệu có thể là bất cứ thứ gì, từ câu đơn, các chương sách, cho đến toàn bộ cuốn sách. Vì chúng ta thường so sánh các tài liệu khác nhau với nhau hoặc sử dụng chúng trong ngữ cảnh lớn hơn gồm các tài liệu khác, nên thông thường chúng ta làm việc với một tập hợp tài liệu chứ không phải chỉ một tài liệu đơn lẻ."
      ],
      "metadata": {
        "id": "XBi8GBawY7Oz"
      }
    },
    {
      "cell_type": "markdown",
      "source": [
        "![image.png](data:image/png;base64,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)"
      ],
      "metadata": {
        "id": "4SDtstNPkVyy"
      }
    },
    {
      "cell_type": "code",
      "execution_count": null,
      "metadata": {
        "colab": {
          "base_uri": "https://localhost:8080/"
        },
        "id": "YygCpINOWfcV",
        "outputId": "1b64107d-e96d-4f5d-89d8-16b62cdaaa2c"
      },
      "outputs": [
        {
          "output_type": "stream",
          "name": "stdout",
          "text": [
            "Requirement already satisfied: datasets in /usr/local/lib/python3.10/dist-packages (3.2.0)\n",
            "Requirement already satisfied: filelock in /usr/local/lib/python3.10/dist-packages (from datasets) (3.16.1)\n",
            "Requirement already satisfied: numpy>=1.17 in /usr/local/lib/python3.10/dist-packages (from datasets) (1.26.4)\n",
            "Requirement already satisfied: pyarrow>=15.0.0 in /usr/local/lib/python3.10/dist-packages (from datasets) (17.0.0)\n",
            "Requirement already satisfied: dill<0.3.9,>=0.3.0 in /usr/local/lib/python3.10/dist-packages (from datasets) (0.3.8)\n",
            "Requirement already satisfied: pandas in /usr/local/lib/python3.10/dist-packages (from datasets) (2.2.2)\n",
            "Requirement already satisfied: requests>=2.32.2 in /usr/local/lib/python3.10/dist-packages (from datasets) (2.32.3)\n",
            "Requirement already satisfied: tqdm>=4.66.3 in /usr/local/lib/python3.10/dist-packages (from datasets) (4.66.6)\n",
            "Requirement already satisfied: xxhash in /usr/local/lib/python3.10/dist-packages (from datasets) (3.5.0)\n",
            "Requirement already satisfied: multiprocess<0.70.17 in /usr/local/lib/python3.10/dist-packages (from datasets) (0.70.16)\n",
            "Requirement already satisfied: fsspec<=2024.9.0,>=2023.1.0 in /usr/local/lib/python3.10/dist-packages (from fsspec[http]<=2024.9.0,>=2023.1.0->datasets) (2024.9.0)\n",
            "Requirement already satisfied: aiohttp in /usr/local/lib/python3.10/dist-packages (from datasets) (3.11.10)\n",
            "Requirement already satisfied: huggingface-hub>=0.23.0 in /usr/local/lib/python3.10/dist-packages (from datasets) (0.26.5)\n",
            "Requirement already satisfied: packaging in /usr/local/lib/python3.10/dist-packages (from datasets) (24.2)\n",
            "Requirement already satisfied: pyyaml>=5.1 in /usr/local/lib/python3.10/dist-packages (from datasets) (6.0.2)\n",
            "Requirement already satisfied: aiohappyeyeballs>=2.3.0 in /usr/local/lib/python3.10/dist-packages (from aiohttp->datasets) (2.4.4)\n",
            "Requirement already satisfied: aiosignal>=1.1.2 in /usr/local/lib/python3.10/dist-packages (from aiohttp->datasets) (1.3.1)\n",
            "Requirement already satisfied: async-timeout<6.0,>=4.0 in /usr/local/lib/python3.10/dist-packages (from aiohttp->datasets) (4.0.3)\n",
            "Requirement already satisfied: attrs>=17.3.0 in /usr/local/lib/python3.10/dist-packages (from aiohttp->datasets) (24.2.0)\n",
            "Requirement already satisfied: frozenlist>=1.1.1 in /usr/local/lib/python3.10/dist-packages (from aiohttp->datasets) (1.5.0)\n",
            "Requirement already satisfied: multidict<7.0,>=4.5 in /usr/local/lib/python3.10/dist-packages (from aiohttp->datasets) (6.1.0)\n",
            "Requirement already satisfied: propcache>=0.2.0 in /usr/local/lib/python3.10/dist-packages (from aiohttp->datasets) (0.2.1)\n",
            "Requirement already satisfied: yarl<2.0,>=1.17.0 in /usr/local/lib/python3.10/dist-packages (from aiohttp->datasets) (1.18.3)\n",
            "Requirement already satisfied: typing-extensions>=3.7.4.3 in /usr/local/lib/python3.10/dist-packages (from huggingface-hub>=0.23.0->datasets) (4.12.2)\n",
            "Requirement already satisfied: charset-normalizer<4,>=2 in /usr/local/lib/python3.10/dist-packages (from requests>=2.32.2->datasets) (3.4.0)\n",
            "Requirement already satisfied: idna<4,>=2.5 in /usr/local/lib/python3.10/dist-packages (from requests>=2.32.2->datasets) (3.10)\n",
            "Requirement already satisfied: urllib3<3,>=1.21.1 in /usr/local/lib/python3.10/dist-packages (from requests>=2.32.2->datasets) (2.2.3)\n",
            "Requirement already satisfied: certifi>=2017.4.17 in /usr/local/lib/python3.10/dist-packages (from requests>=2.32.2->datasets) (2024.8.30)\n",
            "Requirement already satisfied: python-dateutil>=2.8.2 in /usr/local/lib/python3.10/dist-packages (from pandas->datasets) (2.8.2)\n",
            "Requirement already satisfied: pytz>=2020.1 in /usr/local/lib/python3.10/dist-packages (from pandas->datasets) (2024.2)\n",
            "Requirement already satisfied: tzdata>=2022.7 in /usr/local/lib/python3.10/dist-packages (from pandas->datasets) (2024.2)\n",
            "Requirement already satisfied: six>=1.5 in /usr/local/lib/python3.10/dist-packages (from python-dateutil>=2.8.2->pandas->datasets) (1.17.0)\n"
          ]
        }
      ],
      "source": [
        "%run -i \"/content/drive/MyDrive/DeepLearning/util_simple_classifier.ipynb\""
      ]
    },
    {
      "cell_type": "code",
      "source": [
        "from sklearn.feature_extraction.text import CountVectorizer\n",
        "import sys"
      ],
      "metadata": {
        "id": "Ss853R7zW7B2"
      },
      "execution_count": null,
      "outputs": []
    },
    {
      "cell_type": "code",
      "source": [
        "(train_df, test_df) = load_train_test_dataset_pd()"
      ],
      "metadata": {
        "colab": {
          "base_uri": "https://localhost:8080/",
          "height": 365,
          "referenced_widgets": [
            "29357a4fa7714be7adcd5172bb9755b7",
            "006a5190c75d4c049a5dc6cb55c5b698",
            "9280dd5056d54e55a6c26dea3c5fd4cc",
            "8ea9ea991a184ddaa00bcac5f7382290",
            "454c82a3a83346f7a0cc999308fa6eb0",
            "1fc62508b7204de49b16b1d163273358",
            "a05f0d91cbe1455a9d577570e6465a33",
            "7dd03921b1814c5ab01762a536be98a0",
            "ed2c34c816f8436da9225eceda768e7e",
            "1bd8ba3e07f3474aa8da08e07fee4d22",
            "1df6f147ffb1488992bd508ef44f2c43",
            "d0150482a92146f695ae583a441f944d",
            "387762a72ee4473e94560b8c276bed88",
            "0d952c212f0d49deaec8544bee083725",
            "6ca319e7e46646708d554214e63ce334",
            "24d5ce9127d5473e9f9fb0ef56f4b5f3",
            "956df02f6e9841f1a7597792ae65943f",
            "a009f24069224cf89e8c33fe7d8c71f9",
            "55b53660957e48fcbf3b23cecee1e233",
            "83c12d2997d44bc1b099081d63d38d43",
            "71a4f6e72e6a44d58faaa459c9d98338",
            "4a09b23a4f1a465fb8781fb3c1603958",
            "618d7f60bb704caf9cd27f650cf6f9c5",
            "eff2e00b375a442ba0d08b5a2aa7b551",
            "c1f4f374385d451f95e09015c106866a",
            "5b7e01edcd124a73a85df71f334a56b7",
            "cb77011850544cf39ad503458d0f7401",
            "865ff7280107489bba93a283c06fae4a",
            "477bb31646604d879a29fde6518d8274",
            "d79b5ea3739941a1a23c056b896d8717",
            "c9bb124d52414ce9b99d6487fe736f09",
            "e8cd211ea1244272a138ebb6a9bc42f0",
            "4eeb24128ff9405982a189909a2a3eee",
            "95864ac16bff4e4d9c9915be21f104ab",
            "84853462b993494aa8dd7ac3b646f73c",
            "d00f4bd19ef94f7a80b8d02bc3c467c9",
            "402113ee2e4d43dbab7da5ea1a8e2cc9",
            "767dd11574234069ab5d8b24520f05bb",
            "4dc878eec82e4dbb966fdb2c47b6f006",
            "ee798d6d4ec44d3ca4868c9e636eca60",
            "9c372555bd0347c09c4178f7d0d5725c",
            "a672ab9e4e874b32be0bfcece4b1e2ca",
            "c785d7455dfb47729dfa7a4f0eef79d4",
            "9fc5ed133a134d728f1b5b4ac47ecfee",
            "f82cc835987c4fa3adc855b12b514b3a",
            "90b122ec8fe94e94a149c12e16b51937",
            "f5ca38e404164ed0be875d147fa17496",
            "cf21416252bb42439a5cc2117526dd2f",
            "29a948334fe54243aeab900737c01a27",
            "58a6d8b72469414297f69618ba1fe578",
            "42b5f8b7be8643bdb14dc0c05ac34a7b",
            "32f8a658fbf84a0cbf9551ca4adeb9bb",
            "d67e6114e2734f7eb6f70a6c3b212cc0",
            "40b8f6bde12045f2830f34579017d794",
            "8b016aa58a8e428897921659d117fbe4",
            "a4ac462179114dd8a3aa1abef5e8a77c",
            "cc4ff943f003469b8c3d6829ff942e73",
            "c37ac2b7e65e487f9bb2816598a893a4",
            "c40b6ad5c0c04ac69550876441465bfd",
            "9d6040b611d347ca8ae6d69aa7c1fcfb",
            "b4e80b46f2c840c1a22101d5283a5237",
            "960f7e49b3f04d94b976f31f1ab02bfd",
            "769d0d70695f4bef8d21b2f97ffce057",
            "167543e80ab443b78bab0e8554a0b5d8",
            "ab955ee640994f8d9b32affa9cb8ac7c",
            "bce95bf5404946d58a0a20828798fc40",
            "0b0a0ab2ecb7400cbe5c9f65c5586128",
            "2e00f6b67c5448d99568c86fd9a7ce64",
            "2d2eef1fc6d247f2bbb59602c4b9e247",
            "2f465ff2c23a45f4b104246b482ecdbb",
            "1af47d0864fd424dbb58ac5c5d6adbcc",
            "9e19d80763d84bb689d0ea4e31ebf02d",
            "71c742d1c6314ee791445637a51863ef",
            "5da741f7a95445da89b00fcde1608ab3",
            "da873899090f4159ab4b836e60882068",
            "db1c031b9aca418aab6271827a732921",
            "78b8a8a4460e48dba1f2ff9393f3634b"
          ]
        },
        "id": "Ux2TJWJdXGmv",
        "outputId": "36234658-0c30-48ed-de39-c29da7173594"
      },
      "execution_count": null,
      "outputs": [
        {
          "output_type": "stream",
          "name": "stderr",
          "text": [
            "/usr/local/lib/python3.10/dist-packages/huggingface_hub/utils/_auth.py:94: UserWarning: \n",
            "The secret `HF_TOKEN` does not exist in your Colab secrets.\n",
            "To authenticate with the Hugging Face Hub, create a token in your settings tab (https://huggingface.co/settings/tokens), set it as secret in your Google Colab and restart your session.\n",
            "You will be able to reuse this secret in all of your notebooks.\n",
            "Please note that authentication is recommended but still optional to access public models or datasets.\n",
            "  warnings.warn(\n"
          ]
        },
        {
          "output_type": "display_data",
          "data": {
            "text/plain": [
              "README.md:   0%|          | 0.00/7.46k [00:00<?, ?B/s]"
            ],
            "application/vnd.jupyter.widget-view+json": {
              "version_major": 2,
              "version_minor": 0,
              "model_id": "29357a4fa7714be7adcd5172bb9755b7"
            }
          },
          "metadata": {}
        },
        {
          "output_type": "display_data",
          "data": {
            "text/plain": [
              "train.parquet:   0%|          | 0.00/699k [00:00<?, ?B/s]"
            ],
            "application/vnd.jupyter.widget-view+json": {
              "version_major": 2,
              "version_minor": 0,
              "model_id": "d0150482a92146f695ae583a441f944d"
            }
          },
          "metadata": {}
        },
        {
          "output_type": "display_data",
          "data": {
            "text/plain": [
              "validation.parquet:   0%|          | 0.00/90.0k [00:00<?, ?B/s]"
            ],
            "application/vnd.jupyter.widget-view+json": {
              "version_major": 2,
              "version_minor": 0,
              "model_id": "618d7f60bb704caf9cd27f650cf6f9c5"
            }
          },
          "metadata": {}
        },
        {
          "output_type": "display_data",
          "data": {
            "text/plain": [
              "test.parquet:   0%|          | 0.00/92.2k [00:00<?, ?B/s]"
            ],
            "application/vnd.jupyter.widget-view+json": {
              "version_major": 2,
              "version_minor": 0,
              "model_id": "95864ac16bff4e4d9c9915be21f104ab"
            }
          },
          "metadata": {}
        },
        {
          "output_type": "display_data",
          "data": {
            "text/plain": [
              "Generating train split:   0%|          | 0/8530 [00:00<?, ? examples/s]"
            ],
            "application/vnd.jupyter.widget-view+json": {
              "version_major": 2,
              "version_minor": 0,
              "model_id": "f82cc835987c4fa3adc855b12b514b3a"
            }
          },
          "metadata": {}
        },
        {
          "output_type": "display_data",
          "data": {
            "text/plain": [
              "Generating validation split:   0%|          | 0/1066 [00:00<?, ? examples/s]"
            ],
            "application/vnd.jupyter.widget-view+json": {
              "version_major": 2,
              "version_minor": 0,
              "model_id": "a4ac462179114dd8a3aa1abef5e8a77c"
            }
          },
          "metadata": {}
        },
        {
          "output_type": "display_data",
          "data": {
            "text/plain": [
              "Generating test split:   0%|          | 0/1066 [00:00<?, ? examples/s]"
            ],
            "application/vnd.jupyter.widget-view+json": {
              "version_major": 2,
              "version_minor": 0,
              "model_id": "0b0a0ab2ecb7400cbe5c9f65c5586128"
            }
          },
          "metadata": {}
        }
      ]
    },
    {
      "cell_type": "markdown",
      "source": [
        "## CounterVectorizer"
      ],
      "metadata": {
        "id": "7Xkk99-FY6MB"
      }
    },
    {
      "cell_type": "code",
      "source": [
        "from sklearn.feature_extraction.text import CountVectorizer\n",
        "corpus = [\n",
        "    'This is the first document.',\n",
        "    'This document is the second document.',\n",
        "    'And this is the third one.',\n",
        "    'Is this the first document?',\n",
        "]\n",
        "vectorizer = CountVectorizer()\n",
        "X = vectorizer.fit_transform(corpus)\n",
        "vectorizer.get_feature_names_out()"
      ],
      "metadata": {
        "colab": {
          "base_uri": "https://localhost:8080/"
        },
        "id": "E_1rB723ZF1F",
        "outputId": "8e0b441c-afb0-41ab-fabc-1437cc2e7cea"
      },
      "execution_count": null,
      "outputs": [
        {
          "output_type": "execute_result",
          "data": {
            "text/plain": [
              "array(['and', 'document', 'first', 'is', 'one', 'second', 'the', 'third',\n",
              "       'this'], dtype=object)"
            ]
          },
          "metadata": {},
          "execution_count": 16
        }
      ]
    },
    {
      "cell_type": "code",
      "source": [
        "print(X)"
      ],
      "metadata": {
        "colab": {
          "base_uri": "https://localhost:8080/"
        },
        "id": "HWUPfa8nZXp0",
        "outputId": "351663b2-6f96-405b-da83-9d7538813bcf"
      },
      "execution_count": null,
      "outputs": [
        {
          "output_type": "stream",
          "name": "stdout",
          "text": [
            "  (0, 8)\t1\n",
            "  (0, 3)\t1\n",
            "  (0, 6)\t1\n",
            "  (0, 2)\t1\n",
            "  (0, 1)\t1\n",
            "  (1, 8)\t1\n",
            "  (1, 3)\t1\n",
            "  (1, 6)\t1\n",
            "  (1, 1)\t2\n",
            "  (1, 5)\t1\n",
            "  (2, 8)\t1\n",
            "  (2, 3)\t1\n",
            "  (2, 6)\t1\n",
            "  (2, 0)\t1\n",
            "  (2, 7)\t1\n",
            "  (2, 4)\t1\n",
            "  (3, 8)\t1\n",
            "  (3, 3)\t1\n",
            "  (3, 6)\t1\n",
            "  (3, 2)\t1\n",
            "  (3, 1)\t1\n"
          ]
        }
      ]
    },
    {
      "cell_type": "code",
      "source": [
        "print(X.toarray())"
      ],
      "metadata": {
        "colab": {
          "base_uri": "https://localhost:8080/"
        },
        "id": "45qnllbpZO6v",
        "outputId": "6a1a0101-0ee1-412b-fd2b-916c053ef999"
      },
      "execution_count": null,
      "outputs": [
        {
          "output_type": "stream",
          "name": "stdout",
          "text": [
            "[[0 1 1 1 0 0 1 0 1]\n",
            " [0 2 0 1 0 1 1 0 1]\n",
            " [1 0 0 1 1 0 1 1 1]\n",
            " [0 1 1 1 0 0 1 0 1]]\n"
          ]
        }
      ]
    },
    {
      "cell_type": "code",
      "source": [
        "vectorizer = CountVectorizer(max_df=0.4)\n",
        "X = vectorizer.fit_transform(train_df[\"text\"])\n",
        "print(X)"
      ],
      "metadata": {
        "colab": {
          "base_uri": "https://localhost:8080/"
        },
        "id": "FuSGLFGSXO2i",
        "outputId": "3e590134-6101-4675-f4ae-884c63b4963c"
      },
      "execution_count": null,
      "outputs": [
        {
          "output_type": "stream",
          "name": "stdout",
          "text": [
            "  (0, 6578)\t1\n",
            "  (0, 4219)\t1\n",
            "  (0, 2106)\t1\n",
            "  (0, 8000)\t2\n",
            "  (0, 717)\t1\n",
            "  (0, 42)\t1\n",
            "  (0, 1280)\t1\n",
            "  (0, 5260)\t1\n",
            "  (0, 1607)\t1\n",
            "  (0, 7889)\t1\n",
            "  (0, 3630)\t1\n",
            "  (0, 3406)\t1\n",
            "  (0, 4759)\t1\n",
            "  (0, 7345)\t1\n",
            "  (0, 2707)\t1\n",
            "  (0, 3476)\t1\n",
            "  (0, 7883)\t1\n",
            "  (0, 487)\t1\n",
            "  (0, 6769)\t1\n",
            "  (0, 4269)\t1\n",
            "  (0, 1441)\t1\n",
            "  (0, 8405)\t1\n",
            "  (0, 1889)\t1\n",
            "  (0, 5466)\t1\n",
            "  (0, 7461)\t1\n",
            "  :\t:\n",
            "  (2557, 5905)\t1\n",
            "  (2557, 3595)\t1\n",
            "  (2557, 6745)\t1\n",
            "  (2557, 1023)\t1\n",
            "  (2557, 5259)\t1\n",
            "  (2558, 8000)\t1\n",
            "  (2558, 5331)\t1\n",
            "  (2558, 6733)\t1\n",
            "  (2558, 970)\t1\n",
            "  (2558, 4150)\t1\n",
            "  (2558, 874)\t1\n",
            "  (2559, 4219)\t1\n",
            "  (2559, 5128)\t1\n",
            "  (2559, 285)\t1\n",
            "  (2559, 5292)\t1\n",
            "  (2559, 6278)\t1\n",
            "  (2559, 5326)\t1\n",
            "  (2559, 7929)\t1\n",
            "  (2559, 3336)\t1\n",
            "  (2559, 5622)\t1\n",
            "  (2559, 6748)\t1\n",
            "  (2559, 8629)\t1\n",
            "  (2559, 7915)\t1\n",
            "  (2559, 1679)\t1\n",
            "  (2559, 5904)\t1\n"
          ]
        }
      ]
    },
    {
      "cell_type": "code",
      "source": [
        "dense_matrix = X.todense()\n",
        "print(dense_matrix)"
      ],
      "metadata": {
        "colab": {
          "base_uri": "https://localhost:8080/"
        },
        "id": "lUoYUrahYH6_",
        "outputId": "742ef50d-8ed9-4db3-f307-3ac2a6f8a05b"
      },
      "execution_count": null,
      "outputs": [
        {
          "output_type": "stream",
          "name": "stdout",
          "text": [
            "[[0 0 0 ... 0 0 0]\n",
            " [0 0 0 ... 0 0 0]\n",
            " [0 0 0 ... 0 0 0]\n",
            " ...\n",
            " [0 0 0 ... 0 0 0]\n",
            " [0 0 0 ... 0 0 0]\n",
            " [0 0 0 ... 0 0 0]]\n"
          ]
        }
      ]
    },
    {
      "cell_type": "code",
      "source": [
        "print(vectorizer.get_feature_names_out())\n",
        "print(len(vectorizer.get_feature_names_out()))"
      ],
      "metadata": {
        "colab": {
          "base_uri": "https://localhost:8080/"
        },
        "id": "VWbT2eRtYJ9G",
        "outputId": "fd61484f-bb55-4d1f-d169-7c372a1544b4"
      },
      "execution_count": null,
      "outputs": [
        {
          "output_type": "stream",
          "name": "stdout",
          "text": [
            "['10' '100' '101' ... 'zone' 'ótimo' 'últimos']\n",
            "8856\n"
          ]
        }
      ]
    },
    {
      "cell_type": "code",
      "source": [
        "print(vectorizer.stop_words)"
      ],
      "metadata": {
        "colab": {
          "base_uri": "https://localhost:8080/"
        },
        "id": "O55-QRmbYOg5",
        "outputId": "23823e27-895d-49e9-feaa-eb6397efa726"
      },
      "execution_count": null,
      "outputs": [
        {
          "output_type": "stream",
          "name": "stdout",
          "text": [
            "None\n"
          ]
        }
      ]
    },
    {
      "cell_type": "code",
      "source": [
        "first_review = test_df['text'].iat[0]\n",
        "print(first_review)"
      ],
      "metadata": {
        "colab": {
          "base_uri": "https://localhost:8080/"
        },
        "id": "vv_utCSMYaRo",
        "outputId": "ef67fd1f-fc36-4761-b4d1-8e3d1f16ff79"
      },
      "execution_count": null,
      "outputs": [
        {
          "output_type": "stream",
          "name": "stdout",
          "text": [
            "lovingly photographed in the manner of a golden book sprung to life , stuart little 2 manages sweetness largely without stickiness .\n"
          ]
        }
      ]
    },
    {
      "cell_type": "code",
      "source": [
        "first_review = test_df['text'].iat[0]\n",
        "print(first_review)"
      ],
      "metadata": {
        "colab": {
          "base_uri": "https://localhost:8080/"
        },
        "id": "iWMqufFbaBAV",
        "outputId": "06d6f4b1-cd72-4915-ee0c-4d970121fea0"
      },
      "execution_count": null,
      "outputs": [
        {
          "output_type": "stream",
          "name": "stdout",
          "text": [
            "lovingly photographed in the manner of a golden book sprung to life , stuart little 2 manages sweetness largely without stickiness .\n"
          ]
        }
      ]
    },
    {
      "cell_type": "code",
      "source": [
        "import numpy as np\n",
        "sparse_vector = vectorizer.transform([first_review])\n",
        "print(sparse_vector)\n",
        "dense_vector = sparse_vector.todense()\n",
        "np.set_printoptions(threshold=sys.maxsize)\n",
        "print(dense_vector)\n",
        "np.set_printoptions(threshold=False)"
      ],
      "metadata": {
        "colab": {
          "base_uri": "https://localhost:8080/"
        },
        "id": "NITHnWJrabZn",
        "outputId": "aa0619a9-48e3-4d76-f8ba-b8bb97e5096e"
      },
      "execution_count": null,
      "outputs": [
        {
          "output_type": "stream",
          "name": "stdout",
          "text": [
            "  (0, 6)\t1\n",
            "[[0 0 0 0 0 0 1 0 0]]\n"
          ]
        }
      ]
    },
    {
      "cell_type": "markdown",
      "source": [
        "max_dff loat trong phạm vi [0,0, 1,0] hoặc int, mặc định=1,0 Khi xây dựng từ vựng, hãy bỏ qua các thuật ngữ có tần suất tài liệu cao hơn ngưỡng nhất định (các từ dừng dành riêng cho kho ngữ liệu). Nếu float, tham số biểu thị một tỷ lệ tài liệu, số nguyên tuyệt đối. Tham số này bị bỏ qua nếu từ vựng không phải là Không."
      ],
      "metadata": {
        "id": "k8j9mAaObfqg"
      }
    },
    {
      "cell_type": "markdown",
      "source": [
        "Loại bỏ các stop_words ra khỏi data khi lớn hơn ngưỡng. Trong CountVectorizer, tham số max_df được sử dụng để loại bỏ các từ xuất hiện trong một tỷ lệ tài liệu lớn hơn giá trị được chỉ định. Nếu max_df=0.8, nghĩa là bất kỳ từ nào xuất hiện trong hơn 80% số tài liệu sẽ bị coi là \"quá phổ biến\" (stop words) và bị loại bỏ khỏi ma trận từ điển."
      ],
      "metadata": {
        "id": "rTGKYQJWb0So"
      }
    },
    {
      "cell_type": "code",
      "source": [
        "vectorizer = CountVectorizer(max_df=0.8)\n",
        "X = vectorizer.fit_transform(train_df[\"text\"])\n",
        "print(X)"
      ],
      "metadata": {
        "colab": {
          "base_uri": "https://localhost:8080/"
        },
        "id": "WxiGlL-tavPn",
        "outputId": "1795c4f8-062b-4269-e468-5df6efe452c6"
      },
      "execution_count": null,
      "outputs": [
        {
          "output_type": "stream",
          "name": "stdout",
          "text": [
            "  (0, 7892)\t2\n",
            "  (0, 6580)\t1\n",
            "  (0, 4220)\t1\n",
            "  (0, 2107)\t1\n",
            "  (0, 8003)\t2\n",
            "  (0, 718)\t1\n",
            "  (0, 42)\t1\n",
            "  (0, 1281)\t1\n",
            "  (0, 5261)\t1\n",
            "  (0, 1608)\t1\n",
            "  (0, 369)\t1\n",
            "  (0, 7891)\t1\n",
            "  (0, 3631)\t1\n",
            "  (0, 3407)\t1\n",
            "  (0, 4760)\t1\n",
            "  (0, 7347)\t1\n",
            "  (0, 2708)\t1\n",
            "  (0, 3477)\t1\n",
            "  (0, 7885)\t1\n",
            "  (0, 488)\t1\n",
            "  (0, 6771)\t1\n",
            "  (0, 4270)\t1\n",
            "  (0, 1442)\t1\n",
            "  (0, 8408)\t1\n",
            "  (0, 1890)\t1\n",
            "  :\t:\n",
            "  (2557, 1024)\t1\n",
            "  (2557, 5260)\t1\n",
            "  (2558, 8003)\t1\n",
            "  (2558, 5409)\t1\n",
            "  (2558, 5332)\t1\n",
            "  (2558, 6735)\t1\n",
            "  (2558, 971)\t1\n",
            "  (2558, 4151)\t1\n",
            "  (2558, 875)\t1\n",
            "  (2559, 7892)\t1\n",
            "  (2559, 4220)\t1\n",
            "  (2559, 369)\t1\n",
            "  (2559, 5129)\t1\n",
            "  (2559, 285)\t1\n",
            "  (2559, 5293)\t1\n",
            "  (2559, 6280)\t1\n",
            "  (2559, 5327)\t1\n",
            "  (2559, 7932)\t1\n",
            "  (2559, 3337)\t1\n",
            "  (2559, 5624)\t1\n",
            "  (2559, 6750)\t1\n",
            "  (2559, 8632)\t1\n",
            "  (2559, 7918)\t1\n",
            "  (2559, 1680)\t1\n",
            "  (2559, 5906)\t1\n"
          ]
        }
      ]
    },
    {
      "cell_type": "code",
      "source": [
        "print(vectorizer.stop_words)"
      ],
      "metadata": {
        "colab": {
          "base_uri": "https://localhost:8080/"
        },
        "id": "4192AI0ga8Cb",
        "outputId": "fe20c674-59e9-474b-fe01-da114008af38"
      },
      "execution_count": null,
      "outputs": [
        {
          "output_type": "stream",
          "name": "stdout",
          "text": [
            "None\n"
          ]
        }
      ]
    },
    {
      "cell_type": "code",
      "source": [
        "from sklearn.linear_model import LogisticRegression\n",
        "\n",
        "vectorizer = CountVectorizer(stop_words=['the', 'this', 'these', 'in', 'at', 'for'])\n",
        "X = vectorizer.fit_transform(train_df[\"text\"])\n",
        "vectorize = lambda x: vectorizer.transform([x]).toarray()[0]\n",
        "(X_train, X_test, y_train, y_test) = create_train_test_data(train_df, test_df, vectorize,'text')\n",
        "clf = train_classifier(X_train, y_train)\n",
        "test_classifier(test_df, clf)"
      ],
      "metadata": {
        "colab": {
          "base_uri": "https://localhost:8080/"
        },
        "id": "xTSF1rgYc-Yw",
        "outputId": "684ceea8-2c51-48d9-f678-a652c21ec5dc"
      },
      "execution_count": null,
      "outputs": [
        {
          "output_type": "stream",
          "name": "stdout",
          "text": [
            "              precision    recall  f1-score   support\n",
            "\n",
            "           0       0.76      0.74      0.75       160\n",
            "           1       0.74      0.76      0.75       160\n",
            "\n",
            "    accuracy                           0.75       320\n",
            "   macro avg       0.75      0.75      0.75       320\n",
            "weighted avg       0.75      0.75      0.75       320\n",
            "\n"
          ]
        }
      ]
    },
    {
      "cell_type": "code",
      "source": [
        "X_train[0]"
      ],
      "metadata": {
        "colab": {
          "base_uri": "https://localhost:8080/"
        },
        "id": "ftT3RDqBfBn4",
        "outputId": "fe921a0d-0887-4067-e3aa-97e631fea74d"
      },
      "execution_count": null,
      "outputs": [
        {
          "output_type": "execute_result",
          "data": {
            "text/plain": [
              "array([0, 0, 0, ..., 0, 0, 0])"
            ]
          },
          "metadata": {},
          "execution_count": 48
        }
      ]
    }
  ]
}