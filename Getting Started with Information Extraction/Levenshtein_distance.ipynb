{
  "nbformat": 4,
  "nbformat_minor": 0,
  "metadata": {
    "colab": {
      "provenance": []
    },
    "kernelspec": {
      "name": "python3",
      "display_name": "Python 3"
    },
    "language_info": {
      "name": "python"
    }
  },
  "cells": [
    {
      "cell_type": "code",
      "execution_count": null,
      "metadata": {
        "colab": {
          "base_uri": "https://localhost:8080/"
        },
        "id": "3G8yoVkHm6Q1",
        "outputId": "c130e7c3-e7d2-480a-8c0d-bfacd6c1a617"
      },
      "outputs": [
        {
          "output_type": "stream",
          "name": "stdout",
          "text": [
            "Khoảng cách Levenshtein giữa 'intention' và 'execution' là: 8\n"
          ]
        }
      ],
      "source": [
        "def levenshtein_distance(source, target):\n",
        "    \"\"\"\n",
        "    Tính khoảng cách Levenshtein giữa hai chuỗi.\n",
        "    source: chuỗi nguồn (str)\n",
        "    target: chuỗi đích (str)\n",
        "    return: khoảng cách Levenshtein (int)\n",
        "    \"\"\"\n",
        "    # Lấy độ dài của source và target\n",
        "    n = len(source)\n",
        "    m = len(target)\n",
        "\n",
        "    # Tạo ma trận khoảng cách (n+1) x (m+1)\n",
        "    D = [[0 for _ in range(m + 1)] for _ in range(n + 1)]\n",
        "\n",
        "    # Khởi tạo hàng và cột đầu tiên\n",
        "    for i in range(1, n + 1):\n",
        "        D[i][0] = i  # Chi phí xóa ký tự từ source\n",
        "    for j in range(1, m + 1):\n",
        "        D[0][j] = j  # Chi phí chèn ký tự vào source để thành target\n",
        "\n",
        "    # Tính các ô còn lại của ma trận\n",
        "    for i in range(1, n + 1):\n",
        "        for j in range(1, m + 1):\n",
        "            # Nếu ký tự hiện tại giống nhau, chi phí thay thế là 0, ngược lại là 2\n",
        "            substitution_cost = 0 if source[i - 1] == target[j - 1] else 2\n",
        "\n",
        "            # Tính khoảng cách tối thiểu cho ô D[i][j]\n",
        "            D[i][j] = min(D[i - 1][j] + 1,  # Xóa\n",
        "                          D[i][j - 1] + 1,  # Chèn\n",
        "                          D[i - 1][j - 1] + substitution_cost)  # Thay thế\n",
        "\n",
        "    # Trả về khoảng cách Levenshtein\n",
        "    return D[n][m]\n",
        "\n",
        "# Chạy thử nghiệm hàm\n",
        "source = \"intention\"\n",
        "target = \"execution\"\n",
        "\n",
        "distance = levenshtein_distance(source, target)\n",
        "print(f\"Khoảng cách Levenshtein giữa '{source}' và '{target}' là: {distance}\")"
      ]
    },
    {
      "cell_type": "code",
      "source": [
        "import numpy as np\n",
        "\n",
        "def del_cost(char):\n",
        "    return 1  # Cost for deletion\n",
        "\n",
        "def ins_cost(char):\n",
        "    return 1  # Cost for insertion\n",
        "\n",
        "def sub_cost(source_char, target_char):\n",
        "    return 2 if source_char != target_char else 0  # Cost for substitution\n",
        "\n",
        "def MinEditDistance(source, target):\n",
        "    n = len(source)\n",
        "    m = len(target)\n",
        "\n",
        "    # Create distance matrix D[n+1][m+1] and backtrace matrix\n",
        "    D = np.zeros((n + 1, m + 1))\n",
        "    backtrace = [[\"\" for _ in range(m + 1)] for _ in range(n + 1)]\n",
        "\n",
        "\n",
        "    # Initialization: the zeroth row and column\n",
        "    D[0, 0] = 0\n",
        "    backtrace[0][0] = ''  # Starting point # Changed line: Access using [0][0] instead of [0, 0]\n",
        "\n",
        "    for i in range(1, n + 1):\n",
        "        D[i, 0] = D[i - 1, 0] + del_cost(source[i - 1])  # Deletion cost\n",
        "        backtrace[i][0] = backtrace[i][0] + '↑'  # Record deletion # Changed line: Access using [i][0] instead of [i, 0]\n",
        "\n",
        "    for j in range(1, m + 1):\n",
        "        D[0, j] = D[0, j - 1] + ins_cost(target[j - 1])  # Insertion cost\n",
        "        backtrace[0][j] = backtrace[0][j]+ '←'  # Record insertion # Changed line: Access using [0][j] instead of [0, j]\n",
        "\n",
        "    # Recurrence relation\n",
        "    for i in range(1, n + 1):\n",
        "        for j in range(1, m + 1):\n",
        "            deletion = D[i - 1, j] + del_cost(source[i - 1])\n",
        "            substitution = D[i - 1, j - 1] + sub_cost(source[i - 1], target[j - 1])\n",
        "            insertion = D[i, j - 1] + ins_cost(target[j - 1])\n",
        "\n",
        "            D[i, j] = min(deletion, substitution, insertion)\n",
        "\n",
        "            # Update backtrace matrix with directional indicators\n",
        "            if D[i, j] == deletion:\n",
        "                backtrace[i][j] = backtrace[i][j] + '↑'  # Move ↑ (deletion) # Changed line: Access using [i][j] instead of [i, j]\n",
        "            elif D[i, j] == substitution:\n",
        "                backtrace[i][j] = backtrace[i][j] + '↖'   # Move diagonally (substitution) # Changed line: Access using [i][j] instead of [i, j]\n",
        "            else:\n",
        "                backtrace[i][j] = backtrace[i][j] + '←'   # Move ← (insertion) # Changed line: Access using [i][j] instead of [i, j]\n",
        "\n",
        "    # Termination\n",
        "    return D[n, m], D, backtrace\n",
        "\n",
        "# Example usage\n",
        "source = \"kitten\"\n",
        "target = \"sitting\"\n",
        "min_distance,D, backtrace_matrix = MinEditDistance(source, target)\n",
        "\n",
        "print(\"Minimum Edit Distance:\", min_distance)"
      ],
      "metadata": {
        "colab": {
          "base_uri": "https://localhost:8080/"
        },
        "id": "8UFdrilesY-9",
        "outputId": "73c4929c-7112-4c5c-a9c6-e4a9348dad5a"
      },
      "execution_count": null,
      "outputs": [
        {
          "output_type": "stream",
          "name": "stdout",
          "text": [
            "Minimum Edit Distance: 5.0\n"
          ]
        }
      ]
    },
    {
      "cell_type": "code",
      "source": [
        "source, target = 'intention', 'execution'\n",
        "MinEditDistance(source,target)"
      ],
      "metadata": {
        "colab": {
          "base_uri": "https://localhost:8080/"
        },
        "id": "tmNLHeBesarY",
        "outputId": "4a11bb00-0075-4d58-940b-a5fbbb1246a8"
      },
      "execution_count": null,
      "outputs": [
        {
          "output_type": "execute_result",
          "data": {
            "text/plain": [
              "(8.0,\n",
              " array([[ 0.,  1.,  2.,  3.,  4.,  5.,  6.,  7.,  8.,  9.],\n",
              "        [ 1.,  2.,  3.,  4.,  5.,  6.,  7.,  6.,  7.,  8.],\n",
              "        [ 2.,  3.,  4.,  5.,  6.,  7.,  8.,  7.,  8.,  7.],\n",
              "        [ 3.,  4.,  5.,  6.,  7.,  8.,  7.,  8.,  9.,  8.],\n",
              "        [ 4.,  3.,  4.,  5.,  6.,  7.,  8.,  9., 10.,  9.],\n",
              "        [ 5.,  4.,  5.,  6.,  7.,  8.,  9., 10., 11., 10.],\n",
              "        [ 6.,  5.,  6.,  7.,  8.,  9.,  8.,  9., 10., 11.],\n",
              "        [ 7.,  6.,  7.,  8.,  9., 10.,  9.,  8.,  9., 10.],\n",
              "        [ 8.,  7.,  8.,  9., 10., 11., 10.,  9.,  8.,  9.],\n",
              "        [ 9.,  8.,  9., 10., 11., 12., 11., 10.,  9.,  8.]]),\n",
              " [['', '←', '←', '←', '←', '←', '←', '←', '←', '←'],\n",
              "  ['↑', '↑', '↑', '↑', '↑', '↑', '↑', '↖', '←', '←'],\n",
              "  ['↑', '↑', '↑', '↑', '↑', '↑', '↑', '↑', '↑', '↖'],\n",
              "  ['↑', '↑', '↑', '↑', '↑', '↑', '↖', '↑', '↑', '↑'],\n",
              "  ['↑', '↖', '←', '↖', '←', '←', '↑', '↑', '↑', '↑'],\n",
              "  ['↑', '↑', '↑', '↑', '↑', '↑', '↑', '↑', '↑', '↑'],\n",
              "  ['↑', '↑', '↑', '↑', '↑', '↑', '↖', '←', '←', '↑'],\n",
              "  ['↑', '↑', '↑', '↑', '↑', '↑', '↑', '↖', '←', '←'],\n",
              "  ['↑', '↑', '↑', '↑', '↑', '↑', '↑', '↑', '↖', '←'],\n",
              "  ['↑', '↑', '↑', '↑', '↑', '↑', '↑', '↑', '↑', '↖']])"
            ]
          },
          "metadata": {},
          "execution_count": 3
        }
      ]
    }
  ]
}