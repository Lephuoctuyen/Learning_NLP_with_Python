{
  "nbformat": 4,
  "nbformat_minor": 0,
  "metadata": {
    "colab": {
      "provenance": []
    },
    "kernelspec": {
      "name": "python3",
      "display_name": "Python 3"
    },
    "language_info": {
      "name": "python"
    }
  },
  "cells": [
    {
      "cell_type": "code",
      "source": [
        "import nltk\n",
        "nltk.download('vader_lexicon')"
      ],
      "metadata": {
        "colab": {
          "base_uri": "https://localhost:8080/"
        },
        "id": "-VKvGL3powuQ",
        "outputId": "f0227502-b829-4b12-d22b-ef0d6c39c529"
      },
      "execution_count": null,
      "outputs": [
        {
          "output_type": "stream",
          "name": "stderr",
          "text": [
            "[nltk_data] Downloading package vader_lexicon to /root/nltk_data...\n"
          ]
        },
        {
          "output_type": "execute_result",
          "data": {
            "text/plain": [
              "True"
            ]
          },
          "metadata": {},
          "execution_count": 2
        }
      ]
    },
    {
      "cell_type": "code",
      "execution_count": null,
      "metadata": {
        "id": "_POgNvzKdZYS",
        "colab": {
          "base_uri": "https://localhost:8080/"
        },
        "outputId": "3d1e7155-7e37-4a74-c863-432ff3cd5353"
      },
      "outputs": [
        {
          "output_type": "stream",
          "name": "stdout",
          "text": [
            "I love going to school! 0.625\n",
            "I love going to school! 0.6696\n",
            "I hate going to school! -1.0\n",
            "I hate going to school! -0.6114\n"
          ]
        }
      ],
      "source": [
        "from textblob import TextBlob\n",
        "from nltk.sentiment.vader import SentimentIntensityAnalyzer\n",
        "\n",
        "sentences = [\"I love going to school!\", \"I hate going to school!\"]\n",
        "sid = SentimentIntensityAnalyzer()\n",
        "\n",
        "def get_blob_sentiment(sentence):\n",
        "    result = TextBlob(sentence).sentiment\n",
        "    print(sentence, result.polarity)\n",
        "    return result.polarity\n",
        "\n",
        "def get_nltk_sentiment(sentence):\n",
        "    ss = sid.polarity_scores(sentence)\n",
        "    print(sentence, ss['compound'])\n",
        "    return ss['compound']\n",
        "\n",
        "def main():\n",
        "    for sentence in sentences:\n",
        "        sentiment = get_blob_sentiment(sentence)\n",
        "        sentiment = get_nltk_sentiment(sentence)\n",
        "\n",
        "if (__name__ == \"__main__\"):\n",
        "    main()"
      ]
    }
  ]
}