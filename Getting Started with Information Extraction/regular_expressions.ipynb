{
  "nbformat": 4,
  "nbformat_minor": 0,
  "metadata": {
    "colab": {
      "provenance": []
    },
    "kernelspec": {
      "name": "python3",
      "display_name": "Python 3"
    },
    "language_info": {
      "name": "python"
    }
  },
  "cells": [
    {
      "cell_type": "code",
      "source": [
        "!git clone https://github.com/PacktPublishing/Python-Natural-Language-Processing-Cookbook.git"
      ],
      "metadata": {
        "colab": {
          "base_uri": "https://localhost:8080/"
        },
        "id": "dH10j7rvuMWA",
        "outputId": "37170fcc-7912-4b18-c58f-167650c58d88"
      },
      "execution_count": null,
      "outputs": [
        {
          "output_type": "stream",
          "name": "stdout",
          "text": [
            "Cloning into 'Python-Natural-Language-Processing-Cookbook'...\n",
            "remote: Enumerating objects: 308, done.\u001b[K\n",
            "remote: Counting objects: 100% (84/84), done.\u001b[K\n",
            "remote: Compressing objects: 100% (71/71), done.\u001b[K\n",
            "remote: Total 308 (delta 36), reused 39 (delta 12), pack-reused 224 (from 1)\u001b[K\n",
            "Receiving objects: 100% (308/308), 658.34 MiB | 32.23 MiB/s, done.\n",
            "Resolving deltas: 100% (128/128), done.\n",
            "Updating files: 100% (93/93), done.\n"
          ]
        }
      ]
    },
    {
      "cell_type": "code",
      "source": [
        "%cd Python-Natural-Language-Processing-Cookbook"
      ],
      "metadata": {
        "colab": {
          "base_uri": "https://localhost:8080/"
        },
        "id": "bxwn66wyuZ58",
        "outputId": "f64ead7e-9057-4e88-e867-abc01c575e50"
      },
      "execution_count": null,
      "outputs": [
        {
          "output_type": "stream",
          "name": "stdout",
          "text": [
            "/content/Python-Natural-Language-Processing-Cookbook\n"
          ]
        }
      ]
    },
    {
      "cell_type": "code",
      "source": [
        "!pip install opendatasets"
      ],
      "metadata": {
        "colab": {
          "base_uri": "https://localhost:8080/"
        },
        "id": "unu0E-HSu0s9",
        "outputId": "00c7dd00-98fa-4b95-cb02-8de60fc49201"
      },
      "execution_count": null,
      "outputs": [
        {
          "output_type": "stream",
          "name": "stdout",
          "text": [
            "Collecting opendatasets\n",
            "  Downloading opendatasets-0.1.22-py3-none-any.whl.metadata (9.2 kB)\n",
            "Requirement already satisfied: tqdm in /usr/local/lib/python3.10/dist-packages (from opendatasets) (4.66.6)\n",
            "Requirement already satisfied: kaggle in /usr/local/lib/python3.10/dist-packages (from opendatasets) (1.6.17)\n",
            "Requirement already satisfied: click in /usr/local/lib/python3.10/dist-packages (from opendatasets) (8.1.7)\n",
            "Requirement already satisfied: six>=1.10 in /usr/local/lib/python3.10/dist-packages (from kaggle->opendatasets) (1.17.0)\n",
            "Requirement already satisfied: certifi>=2023.7.22 in /usr/local/lib/python3.10/dist-packages (from kaggle->opendatasets) (2024.8.30)\n",
            "Requirement already satisfied: python-dateutil in /usr/local/lib/python3.10/dist-packages (from kaggle->opendatasets) (2.8.2)\n",
            "Requirement already satisfied: requests in /usr/local/lib/python3.10/dist-packages (from kaggle->opendatasets) (2.32.3)\n",
            "Requirement already satisfied: python-slugify in /usr/local/lib/python3.10/dist-packages (from kaggle->opendatasets) (8.0.4)\n",
            "Requirement already satisfied: urllib3 in /usr/local/lib/python3.10/dist-packages (from kaggle->opendatasets) (2.2.3)\n",
            "Requirement already satisfied: bleach in /usr/local/lib/python3.10/dist-packages (from kaggle->opendatasets) (6.2.0)\n",
            "Requirement already satisfied: webencodings in /usr/local/lib/python3.10/dist-packages (from bleach->kaggle->opendatasets) (0.5.1)\n",
            "Requirement already satisfied: text-unidecode>=1.3 in /usr/local/lib/python3.10/dist-packages (from python-slugify->kaggle->opendatasets) (1.3)\n",
            "Requirement already satisfied: charset-normalizer<4,>=2 in /usr/local/lib/python3.10/dist-packages (from requests->kaggle->opendatasets) (3.4.0)\n",
            "Requirement already satisfied: idna<4,>=2.5 in /usr/local/lib/python3.10/dist-packages (from requests->kaggle->opendatasets) (3.10)\n",
            "Downloading opendatasets-0.1.22-py3-none-any.whl (15 kB)\n",
            "Installing collected packages: opendatasets\n",
            "Successfully installed opendatasets-0.1.22\n"
          ]
        }
      ]
    },
    {
      "cell_type": "code",
      "source": [
        "import opendatasets as od"
      ],
      "metadata": {
        "id": "2EN97UhVump8"
      },
      "execution_count": null,
      "outputs": []
    },
    {
      "cell_type": "code",
      "source": [
        "od.download('https://www.kaggle.com/datasets/andrewmvd/data-scientist-jobs')"
      ],
      "metadata": {
        "colab": {
          "base_uri": "https://localhost:8080/"
        },
        "id": "D7ckTPkzvDCW",
        "outputId": "805a8925-6961-478d-c14f-a71bb344e2bd"
      },
      "execution_count": null,
      "outputs": [
        {
          "output_type": "stream",
          "name": "stdout",
          "text": [
            "Please provide your Kaggle credentials to download this dataset. Learn more: http://bit.ly/kaggle-creds\n",
            "Your Kaggle username: phctuynl\n",
            "Your Kaggle Key: ··········\n",
            "Dataset URL: https://www.kaggle.com/datasets/andrewmvd/data-scientist-jobs\n",
            "Downloading data-scientist-jobs.zip to ./data-scientist-jobs\n"
          ]
        },
        {
          "output_type": "stream",
          "name": "stderr",
          "text": [
            "100%|██████████| 4.49M/4.49M [00:00<00:00, 65.3MB/s]"
          ]
        },
        {
          "output_type": "stream",
          "name": "stdout",
          "text": [
            "\n"
          ]
        },
        {
          "output_type": "stream",
          "name": "stderr",
          "text": [
            "\n"
          ]
        }
      ]
    },
    {
      "cell_type": "code",
      "execution_count": null,
      "metadata": {
        "id": "s7q2IPqZtLBN"
      },
      "outputs": [],
      "source": [
        "import re\n",
        "import pandas as pd\n",
        "\n",
        "data_file = '/content/Python-Natural-Language-Processing-Cookbook/data-scientist-jobs/DataScientist.csv'"
      ]
    },
    {
      "cell_type": "code",
      "source": [
        "df = pd.read_csv(data_file, encoding='utf-8')"
      ],
      "metadata": {
        "id": "sj83YUrswaQ8"
      },
      "execution_count": null,
      "outputs": []
    },
    {
      "cell_type": "code",
      "source": [
        "df.head()"
      ],
      "metadata": {
        "colab": {
          "base_uri": "https://localhost:8080/",
          "height": 434
        },
        "id": "xLdTBkDywgUj",
        "outputId": "e0c5c06c-c970-463d-c7d4-073b4a682517"
      },
      "execution_count": null,
      "outputs": [
        {
          "output_type": "execute_result",
          "data": {
            "text/plain": [
              "   Unnamed: 0  index                          Job Title  \\\n",
              "0           0      0              Senior Data Scientist   \n",
              "1           1      1  Data Scientist, Product Analytics   \n",
              "2           2      2               Data Science Manager   \n",
              "3           3      3                       Data Analyst   \n",
              "4           4      4             Director, Data Science   \n",
              "\n",
              "                Salary Estimate  \\\n",
              "0  $111K-$181K (Glassdoor est.)   \n",
              "1  $111K-$181K (Glassdoor est.)   \n",
              "2  $111K-$181K (Glassdoor est.)   \n",
              "3  $111K-$181K (Glassdoor est.)   \n",
              "4  $111K-$181K (Glassdoor est.)   \n",
              "\n",
              "                                     Job Description  Rating  \\\n",
              "0  ABOUT HOPPER\\n\\nAt Hopper, we’re on a mission ...     3.5   \n",
              "1  At Noom, we use scientifically proven methods ...     4.5   \n",
              "2  Decode_M\\n\\nhttps://www.decode-m.com/\\n\\nData ...    -1.0   \n",
              "3  Sapphire Digital seeks a dynamic and driven mi...     3.4   \n",
              "4  Director, Data Science - (200537)\\nDescription...     3.4   \n",
              "\n",
              "                      Company Name       Location      Headquarters  \\\n",
              "0                      Hopper\\n3.5   New York, NY  Montreal, Canada   \n",
              "1                     Noom US\\n4.5   New York, NY      New York, NY   \n",
              "2                         Decode_M   New York, NY      New York, NY   \n",
              "3            Sapphire Digital\\n3.4  Lyndhurst, NJ     Lyndhurst, NJ   \n",
              "4  United Entertainment Group\\n3.4   New York, NY      New York, NY   \n",
              "\n",
              "                     Size  Founded  Type of ownership  \\\n",
              "0   501 to 1000 employees     2007  Company - Private   \n",
              "1  1001 to 5000 employees     2008  Company - Private   \n",
              "2       1 to 50 employees       -1            Unknown   \n",
              "3    201 to 500 employees     2019  Company - Private   \n",
              "4     51 to 200 employees     2007  Company - Private   \n",
              "\n",
              "                    Industry                  Sector  \\\n",
              "0            Travel Agencies        Travel & Tourism   \n",
              "1  Health, Beauty, & Fitness       Consumer Services   \n",
              "2                         -1                      -1   \n",
              "3                   Internet  Information Technology   \n",
              "4    Advertising & Marketing       Business Services   \n",
              "\n",
              "                    Revenue               Competitors Easy Apply  \n",
              "0  Unknown / Non-Applicable                        -1         -1  \n",
              "1  Unknown / Non-Applicable                        -1         -1  \n",
              "2  Unknown / Non-Applicable                        -1       True  \n",
              "3  Unknown / Non-Applicable      Zocdoc, Healthgrades         -1  \n",
              "4  Unknown / Non-Applicable  BBDO, Grey Group, Droga5         -1  "
            ],
            "text/html": [
              "\n",
              "  <div id=\"df-af824281-d1cc-41eb-80b3-06c8ae9f0bdc\" class=\"colab-df-container\">\n",
              "    <div>\n",
              "<style scoped>\n",
              "    .dataframe tbody tr th:only-of-type {\n",
              "        vertical-align: middle;\n",
              "    }\n",
              "\n",
              "    .dataframe tbody tr th {\n",
              "        vertical-align: top;\n",
              "    }\n",
              "\n",
              "    .dataframe thead th {\n",
              "        text-align: right;\n",
              "    }\n",
              "</style>\n",
              "<table border=\"1\" class=\"dataframe\">\n",
              "  <thead>\n",
              "    <tr style=\"text-align: right;\">\n",
              "      <th></th>\n",
              "      <th>Unnamed: 0</th>\n",
              "      <th>index</th>\n",
              "      <th>Job Title</th>\n",
              "      <th>Salary Estimate</th>\n",
              "      <th>Job Description</th>\n",
              "      <th>Rating</th>\n",
              "      <th>Company Name</th>\n",
              "      <th>Location</th>\n",
              "      <th>Headquarters</th>\n",
              "      <th>Size</th>\n",
              "      <th>Founded</th>\n",
              "      <th>Type of ownership</th>\n",
              "      <th>Industry</th>\n",
              "      <th>Sector</th>\n",
              "      <th>Revenue</th>\n",
              "      <th>Competitors</th>\n",
              "      <th>Easy Apply</th>\n",
              "    </tr>\n",
              "  </thead>\n",
              "  <tbody>\n",
              "    <tr>\n",
              "      <th>0</th>\n",
              "      <td>0</td>\n",
              "      <td>0</td>\n",
              "      <td>Senior Data Scientist</td>\n",
              "      <td>$111K-$181K (Glassdoor est.)</td>\n",
              "      <td>ABOUT HOPPER\\n\\nAt Hopper, we’re on a mission ...</td>\n",
              "      <td>3.5</td>\n",
              "      <td>Hopper\\n3.5</td>\n",
              "      <td>New York, NY</td>\n",
              "      <td>Montreal, Canada</td>\n",
              "      <td>501 to 1000 employees</td>\n",
              "      <td>2007</td>\n",
              "      <td>Company - Private</td>\n",
              "      <td>Travel Agencies</td>\n",
              "      <td>Travel &amp; Tourism</td>\n",
              "      <td>Unknown / Non-Applicable</td>\n",
              "      <td>-1</td>\n",
              "      <td>-1</td>\n",
              "    </tr>\n",
              "    <tr>\n",
              "      <th>1</th>\n",
              "      <td>1</td>\n",
              "      <td>1</td>\n",
              "      <td>Data Scientist, Product Analytics</td>\n",
              "      <td>$111K-$181K (Glassdoor est.)</td>\n",
              "      <td>At Noom, we use scientifically proven methods ...</td>\n",
              "      <td>4.5</td>\n",
              "      <td>Noom US\\n4.5</td>\n",
              "      <td>New York, NY</td>\n",
              "      <td>New York, NY</td>\n",
              "      <td>1001 to 5000 employees</td>\n",
              "      <td>2008</td>\n",
              "      <td>Company - Private</td>\n",
              "      <td>Health, Beauty, &amp; Fitness</td>\n",
              "      <td>Consumer Services</td>\n",
              "      <td>Unknown / Non-Applicable</td>\n",
              "      <td>-1</td>\n",
              "      <td>-1</td>\n",
              "    </tr>\n",
              "    <tr>\n",
              "      <th>2</th>\n",
              "      <td>2</td>\n",
              "      <td>2</td>\n",
              "      <td>Data Science Manager</td>\n",
              "      <td>$111K-$181K (Glassdoor est.)</td>\n",
              "      <td>Decode_M\\n\\nhttps://www.decode-m.com/\\n\\nData ...</td>\n",
              "      <td>-1.0</td>\n",
              "      <td>Decode_M</td>\n",
              "      <td>New York, NY</td>\n",
              "      <td>New York, NY</td>\n",
              "      <td>1 to 50 employees</td>\n",
              "      <td>-1</td>\n",
              "      <td>Unknown</td>\n",
              "      <td>-1</td>\n",
              "      <td>-1</td>\n",
              "      <td>Unknown / Non-Applicable</td>\n",
              "      <td>-1</td>\n",
              "      <td>True</td>\n",
              "    </tr>\n",
              "    <tr>\n",
              "      <th>3</th>\n",
              "      <td>3</td>\n",
              "      <td>3</td>\n",
              "      <td>Data Analyst</td>\n",
              "      <td>$111K-$181K (Glassdoor est.)</td>\n",
              "      <td>Sapphire Digital seeks a dynamic and driven mi...</td>\n",
              "      <td>3.4</td>\n",
              "      <td>Sapphire Digital\\n3.4</td>\n",
              "      <td>Lyndhurst, NJ</td>\n",
              "      <td>Lyndhurst, NJ</td>\n",
              "      <td>201 to 500 employees</td>\n",
              "      <td>2019</td>\n",
              "      <td>Company - Private</td>\n",
              "      <td>Internet</td>\n",
              "      <td>Information Technology</td>\n",
              "      <td>Unknown / Non-Applicable</td>\n",
              "      <td>Zocdoc, Healthgrades</td>\n",
              "      <td>-1</td>\n",
              "    </tr>\n",
              "    <tr>\n",
              "      <th>4</th>\n",
              "      <td>4</td>\n",
              "      <td>4</td>\n",
              "      <td>Director, Data Science</td>\n",
              "      <td>$111K-$181K (Glassdoor est.)</td>\n",
              "      <td>Director, Data Science - (200537)\\nDescription...</td>\n",
              "      <td>3.4</td>\n",
              "      <td>United Entertainment Group\\n3.4</td>\n",
              "      <td>New York, NY</td>\n",
              "      <td>New York, NY</td>\n",
              "      <td>51 to 200 employees</td>\n",
              "      <td>2007</td>\n",
              "      <td>Company - Private</td>\n",
              "      <td>Advertising &amp; Marketing</td>\n",
              "      <td>Business Services</td>\n",
              "      <td>Unknown / Non-Applicable</td>\n",
              "      <td>BBDO, Grey Group, Droga5</td>\n",
              "      <td>-1</td>\n",
              "    </tr>\n",
              "  </tbody>\n",
              "</table>\n",
              "</div>\n",
              "    <div class=\"colab-df-buttons\">\n",
              "\n",
              "  <div class=\"colab-df-container\">\n",
              "    <button class=\"colab-df-convert\" onclick=\"convertToInteractive('df-af824281-d1cc-41eb-80b3-06c8ae9f0bdc')\"\n",
              "            title=\"Convert this dataframe to an interactive table.\"\n",
              "            style=\"display:none;\">\n",
              "\n",
              "  <svg xmlns=\"http://www.w3.org/2000/svg\" height=\"24px\" viewBox=\"0 -960 960 960\">\n",
              "    <path d=\"M120-120v-720h720v720H120Zm60-500h600v-160H180v160Zm220 220h160v-160H400v160Zm0 220h160v-160H400v160ZM180-400h160v-160H180v160Zm440 0h160v-160H620v160ZM180-180h160v-160H180v160Zm440 0h160v-160H620v160Z\"/>\n",
              "  </svg>\n",
              "    </button>\n",
              "\n",
              "  <style>\n",
              "    .colab-df-container {\n",
              "      display:flex;\n",
              "      gap: 12px;\n",
              "    }\n",
              "\n",
              "    .colab-df-convert {\n",
              "      background-color: #E8F0FE;\n",
              "      border: none;\n",
              "      border-radius: 50%;\n",
              "      cursor: pointer;\n",
              "      display: none;\n",
              "      fill: #1967D2;\n",
              "      height: 32px;\n",
              "      padding: 0 0 0 0;\n",
              "      width: 32px;\n",
              "    }\n",
              "\n",
              "    .colab-df-convert:hover {\n",
              "      background-color: #E2EBFA;\n",
              "      box-shadow: 0px 1px 2px rgba(60, 64, 67, 0.3), 0px 1px 3px 1px rgba(60, 64, 67, 0.15);\n",
              "      fill: #174EA6;\n",
              "    }\n",
              "\n",
              "    .colab-df-buttons div {\n",
              "      margin-bottom: 4px;\n",
              "    }\n",
              "\n",
              "    [theme=dark] .colab-df-convert {\n",
              "      background-color: #3B4455;\n",
              "      fill: #D2E3FC;\n",
              "    }\n",
              "\n",
              "    [theme=dark] .colab-df-convert:hover {\n",
              "      background-color: #434B5C;\n",
              "      box-shadow: 0px 1px 3px 1px rgba(0, 0, 0, 0.15);\n",
              "      filter: drop-shadow(0px 1px 2px rgba(0, 0, 0, 0.3));\n",
              "      fill: #FFFFFF;\n",
              "    }\n",
              "  </style>\n",
              "\n",
              "    <script>\n",
              "      const buttonEl =\n",
              "        document.querySelector('#df-af824281-d1cc-41eb-80b3-06c8ae9f0bdc button.colab-df-convert');\n",
              "      buttonEl.style.display =\n",
              "        google.colab.kernel.accessAllowed ? 'block' : 'none';\n",
              "\n",
              "      async function convertToInteractive(key) {\n",
              "        const element = document.querySelector('#df-af824281-d1cc-41eb-80b3-06c8ae9f0bdc');\n",
              "        const dataTable =\n",
              "          await google.colab.kernel.invokeFunction('convertToInteractive',\n",
              "                                                    [key], {});\n",
              "        if (!dataTable) return;\n",
              "\n",
              "        const docLinkHtml = 'Like what you see? Visit the ' +\n",
              "          '<a target=\"_blank\" href=https://colab.research.google.com/notebooks/data_table.ipynb>data table notebook</a>'\n",
              "          + ' to learn more about interactive tables.';\n",
              "        element.innerHTML = '';\n",
              "        dataTable['output_type'] = 'display_data';\n",
              "        await google.colab.output.renderOutput(dataTable, element);\n",
              "        const docLink = document.createElement('div');\n",
              "        docLink.innerHTML = docLinkHtml;\n",
              "        element.appendChild(docLink);\n",
              "      }\n",
              "    </script>\n",
              "  </div>\n",
              "\n",
              "\n",
              "<div id=\"df-f5bec710-d739-4032-9c99-8edbf33211fa\">\n",
              "  <button class=\"colab-df-quickchart\" onclick=\"quickchart('df-f5bec710-d739-4032-9c99-8edbf33211fa')\"\n",
              "            title=\"Suggest charts\"\n",
              "            style=\"display:none;\">\n",
              "\n",
              "<svg xmlns=\"http://www.w3.org/2000/svg\" height=\"24px\"viewBox=\"0 0 24 24\"\n",
              "     width=\"24px\">\n",
              "    <g>\n",
              "        <path d=\"M19 3H5c-1.1 0-2 .9-2 2v14c0 1.1.9 2 2 2h14c1.1 0 2-.9 2-2V5c0-1.1-.9-2-2-2zM9 17H7v-7h2v7zm4 0h-2V7h2v10zm4 0h-2v-4h2v4z\"/>\n",
              "    </g>\n",
              "</svg>\n",
              "  </button>\n",
              "\n",
              "<style>\n",
              "  .colab-df-quickchart {\n",
              "      --bg-color: #E8F0FE;\n",
              "      --fill-color: #1967D2;\n",
              "      --hover-bg-color: #E2EBFA;\n",
              "      --hover-fill-color: #174EA6;\n",
              "      --disabled-fill-color: #AAA;\n",
              "      --disabled-bg-color: #DDD;\n",
              "  }\n",
              "\n",
              "  [theme=dark] .colab-df-quickchart {\n",
              "      --bg-color: #3B4455;\n",
              "      --fill-color: #D2E3FC;\n",
              "      --hover-bg-color: #434B5C;\n",
              "      --hover-fill-color: #FFFFFF;\n",
              "      --disabled-bg-color: #3B4455;\n",
              "      --disabled-fill-color: #666;\n",
              "  }\n",
              "\n",
              "  .colab-df-quickchart {\n",
              "    background-color: var(--bg-color);\n",
              "    border: none;\n",
              "    border-radius: 50%;\n",
              "    cursor: pointer;\n",
              "    display: none;\n",
              "    fill: var(--fill-color);\n",
              "    height: 32px;\n",
              "    padding: 0;\n",
              "    width: 32px;\n",
              "  }\n",
              "\n",
              "  .colab-df-quickchart:hover {\n",
              "    background-color: var(--hover-bg-color);\n",
              "    box-shadow: 0 1px 2px rgba(60, 64, 67, 0.3), 0 1px 3px 1px rgba(60, 64, 67, 0.15);\n",
              "    fill: var(--button-hover-fill-color);\n",
              "  }\n",
              "\n",
              "  .colab-df-quickchart-complete:disabled,\n",
              "  .colab-df-quickchart-complete:disabled:hover {\n",
              "    background-color: var(--disabled-bg-color);\n",
              "    fill: var(--disabled-fill-color);\n",
              "    box-shadow: none;\n",
              "  }\n",
              "\n",
              "  .colab-df-spinner {\n",
              "    border: 2px solid var(--fill-color);\n",
              "    border-color: transparent;\n",
              "    border-bottom-color: var(--fill-color);\n",
              "    animation:\n",
              "      spin 1s steps(1) infinite;\n",
              "  }\n",
              "\n",
              "  @keyframes spin {\n",
              "    0% {\n",
              "      border-color: transparent;\n",
              "      border-bottom-color: var(--fill-color);\n",
              "      border-left-color: var(--fill-color);\n",
              "    }\n",
              "    20% {\n",
              "      border-color: transparent;\n",
              "      border-left-color: var(--fill-color);\n",
              "      border-top-color: var(--fill-color);\n",
              "    }\n",
              "    30% {\n",
              "      border-color: transparent;\n",
              "      border-left-color: var(--fill-color);\n",
              "      border-top-color: var(--fill-color);\n",
              "      border-right-color: var(--fill-color);\n",
              "    }\n",
              "    40% {\n",
              "      border-color: transparent;\n",
              "      border-right-color: var(--fill-color);\n",
              "      border-top-color: var(--fill-color);\n",
              "    }\n",
              "    60% {\n",
              "      border-color: transparent;\n",
              "      border-right-color: var(--fill-color);\n",
              "    }\n",
              "    80% {\n",
              "      border-color: transparent;\n",
              "      border-right-color: var(--fill-color);\n",
              "      border-bottom-color: var(--fill-color);\n",
              "    }\n",
              "    90% {\n",
              "      border-color: transparent;\n",
              "      border-bottom-color: var(--fill-color);\n",
              "    }\n",
              "  }\n",
              "</style>\n",
              "\n",
              "  <script>\n",
              "    async function quickchart(key) {\n",
              "      const quickchartButtonEl =\n",
              "        document.querySelector('#' + key + ' button');\n",
              "      quickchartButtonEl.disabled = true;  // To prevent multiple clicks.\n",
              "      quickchartButtonEl.classList.add('colab-df-spinner');\n",
              "      try {\n",
              "        const charts = await google.colab.kernel.invokeFunction(\n",
              "            'suggestCharts', [key], {});\n",
              "      } catch (error) {\n",
              "        console.error('Error during call to suggestCharts:', error);\n",
              "      }\n",
              "      quickchartButtonEl.classList.remove('colab-df-spinner');\n",
              "      quickchartButtonEl.classList.add('colab-df-quickchart-complete');\n",
              "    }\n",
              "    (() => {\n",
              "      let quickchartButtonEl =\n",
              "        document.querySelector('#df-f5bec710-d739-4032-9c99-8edbf33211fa button');\n",
              "      quickchartButtonEl.style.display =\n",
              "        google.colab.kernel.accessAllowed ? 'block' : 'none';\n",
              "    })();\n",
              "  </script>\n",
              "</div>\n",
              "\n",
              "    </div>\n",
              "  </div>\n"
            ],
            "application/vnd.google.colaboratory.intrinsic+json": {
              "type": "dataframe",
              "variable_name": "df",
              "summary": "{\n  \"name\": \"df\",\n  \"rows\": 3909,\n  \"fields\": [\n    {\n      \"column\": \"Unnamed: 0\",\n      \"properties\": {\n        \"dtype\": \"number\",\n        \"std\": 1128,\n        \"min\": 0,\n        \"max\": 3908,\n        \"num_unique_values\": 3909,\n        \"samples\": [\n          2793,\n          2803,\n          2218\n        ],\n        \"semantic_type\": \"\",\n        \"description\": \"\"\n      }\n    },\n    {\n      \"column\": \"index\",\n      \"properties\": {\n        \"dtype\": \"number\",\n        \"std\": 1247,\n        \"min\": 0,\n        \"max\": 4379,\n        \"num_unique_values\": 3909,\n        \"samples\": [\n          3105,\n          3115,\n          2426\n        ],\n        \"semantic_type\": \"\",\n        \"description\": \"\"\n      }\n    },\n    {\n      \"column\": \"Job Title\",\n      \"properties\": {\n        \"dtype\": \"string\",\n        \"num_unique_values\": 2079,\n        \"samples\": [\n          \"Associate Scientist / Senior Research Associate, Cancer Immunotherapy\",\n          \"Senior Data Scientist *\",\n          \"Data Engineer-Houston,TX\"\n        ],\n        \"semantic_type\": \"\",\n        \"description\": \"\"\n      }\n    },\n    {\n      \"column\": \"Salary Estimate\",\n      \"properties\": {\n        \"dtype\": \"category\",\n        \"num_unique_values\": 148,\n        \"samples\": [\n          \"$82K-$129K(Employer est.)\",\n          \"$46K-$104K (Glassdoor est.)\",\n          \"$39K-$71K (Glassdoor est.)\"\n        ],\n        \"semantic_type\": \"\",\n        \"description\": \"\"\n      }\n    },\n    {\n      \"column\": \"Job Description\",\n      \"properties\": {\n        \"dtype\": \"string\",\n        \"num_unique_values\": 3685,\n        \"samples\": [\n          \"The primary purpose of this position is to serve as a Biological Scientist participating in project management, execution, and operations responsibility in assigned project(s) within an assigned program element.IF USING EDUCATION TO QUALIFY: If position has a positive degree requirement or education forms the basis for qualifications, you MUST submit transcriptswith the application. Official transcripts are not required at the time of application; however, if position has a positive degree requirement, qualifying based on education alone or in combination with experience; transcripts must be verified prior to appointment. An accrediting institution recognized by the U.S. Department of Education must accredit education. Click here to check accreditation.\\n\\nFOREIGN EDUCATION: Education completed in foreign colleges or universities may be used to meet the requirements. You must show proof the education credentials have been deemed to be at least equivalent to that gained in conventional U.S. education program. It is your responsibility to provide such evidence when applying.In order to qualify, you must meet the specialized experience requirements described in the Office of Personnel Management (OPM) Qualification Standards for General Schedule Positions, Professional and Scientific\\n\\nBASIC REQUIREMENT:\\nA. Degree: Bachelor's degree (or higher degree) in biological sciences, agriculture, natural resource management, chemistry, or related disciplines appropriate to the position.\\n\\nOR\\n\\nB. Combination of Education and Experience: Courses equivalent to a major, as shown in A above, plus appropriate experience or additional education.\\n\\nClick on the following link to view occupational requirements for this position:\\nhttps://www.opm.gov/policy-data-oversight/classification-qualifications/general-schedule-qualification-standards/0400/general-natural-resources-management-and-biological-sciences-series-0401/\\n\\nIn addition to meeting the basic requirement above, to qualify for this position you must also meet the qualification requirements listed below:\\n\\nGS-13: One year of specialized experience equivalent to the GS-12 or pay band in the federal service or equivalent experience in the private or public sector. Specialized experience includes professional knowledge of a wide range of environmental biological scientific concepts to include climate and hydrological science methods, guidelines, standards, research techniques, and state of the art capabilities and ability to resolve highly complex and difficult meteorological and climate science problems and issues.\\n\\nGS-14: One year of specialized experience equivalent to the GS-13 or pay band in the federal service or equivalent experience in the private or public sector. Specialized experience includes professional knowledge of environmental biological scientific concepts, principles, methodology, and practices and familiarity with other professional disciplines (e.g., engineering, community planning, and environmental science) to independently perform routine projects with complete responsibility, or portions of large and complex projects.\\n\\nKNOWLEDGE, SKILLS AND ABILITIES (KSAs): Your qualifications will be evaluated on the basis of your level of knowledge, skills, abilities and/or competencies in the following areas:\\nAbility to demonstrate the highest degree of judgment, resourcefulness, management skills, and oral and written communications.\\nKnowledge of concepts, principles and practices of environmental engineering that enables the employee to serve as the technical authority in the development of guidance, criteria, and standards for implementing and managing Environmental Analysis.\\nKnowledge of environmental protection concepts, principles, techniques and practices to enable the incumbent to make reasoned judgments on process improvement.\\nKnowledge and skill to apply the latest developments in management practices to resolve problems for which accepted methods are not applicable.\\nKnowledge in environment quality that involve Federal, state, DoD and Air Force policies, directives, and regulations. Knowledge of safety and security regulations, practices, and procedures.\\nPART-TIME OR UNPAID EXPERIENCE: Credit will be given for appropriate unpaid and or part-time work. You must clearly identify the duties and responsibilities in each position held and the total number of hours per week.\\n\\nVOLUNTEER WORK EXPERIENCE: Refers to paid and unpaid experience, including volunteer work done through National Service Programs (i.e., Peace Corps, AmeriCorps) and other organizations (e.g., professional; philanthropic; religious; spiritual; community; student and social). Volunteer work helps build critical competencies, knowledge and skills that can provide valuable training and experience that translates directly to paid employment. You will receive credit for all qualifying experience, including volunteer experience.\",\n          \"bull Analyze and understand data sources APIs bull Design and Develop methods to connect collect data from different data sources bull Design and Develop methods to filtercleanse the data bull Design and Develop SQL , Hive queries, APIs to extract data from the store bull Work closely with data Scientists to ensure the source data is aggregated and cleansed bull Work with product managers to understand the business objectives bull Work with cloud and data architects to define robust architecture in cloud setup pipelines and work flows bull Work with DevOps to build automated data pipelines Total Experience Required bull 4 years 10 of relevant experience bull The candidate should have performed client facing roles and possess excellent communication skills Business Domain knowledge Finance banking systems, Fraud, Payments Required Technical Skills bull Big Data-Hadoop, NoSQL, Hive, Apache Spark bull Python bull Java REST bull GIT and Version Control Desirable Technical Skills bull Familiarity with HTTP and invoking web-APIs bull Exposure to machine learning engineering bull Exposure to NLP and text processing bull Experience with pipelines, job scheduling and workflow management\",\n          \"Data Engineer\\n\\nAt Applied Materials, we are building the next generation fab productivity solutions using Artificial Intelligence and Machine Learning. Our AI/ML team is looking for a Data Engineer who will be responsible for expanding and optimizing data and data pipeline architecture, as well as optimizing data flow and collection for cross functional teams.\\n\\nThe Data Engineer will support our software developers, database architects, and data scientists on data initiatives and will ensure optimal data delivery architecture is consistent throughout ongoing projects. This individual must be self-directed and comfortable supporting the data needs of multiple teams, systems and products. The right candidate will be excited by the prospect of optimizing or even re-designing our data architecture to support our next generation of products and data initiatives.\\n\\nResponsibilities\\nCreate and maintain optimal data pipeline architecture\\nAssemble large, complex data sets that meet functional / non-functional business requirements.\\nBuild the infrastructure required for optimal extraction, transformation, and loading of data from a wide variety of data sources using SQL and big data technologies\\nBuild analytics tools that utilize the data pipeline to provide actionable insights into customer acquisition, operational efficiency and other key business performance metrics.\\nWork with stakeholders including the product management, data and design teams to assist with data-related technical issues and support their data infrastructure needs.\\nCreate data tools for analytics and data scientist team members that assist them in building and optimizing our product into an innovative industry leader.\\nWork with data and analytics experts to strive for greater functionality in our data systems.\\nQualifications\\nAdvanced working SQL knowledge and experience working with relational databases, query authoring (SQL) as well as working familiarity with a variety of databases.\\nExperience building and optimizing \\u2018big data\\u2019 data pipelines, architectures and data sets.\\nExperience performing root cause analysis on internal and external data and processes to answer specific business questions and identify opportunities for improvement.\\nStrong analytic skills related to working with unstructured datasets.\\nBuild processes supporting data transformation, data structures, metadata, dependency and workload management.\\nA successful history of manipulating, processing and extracting value from large disconnected datasets.\\nWorking knowledge of message queuing, stream processing, and highly scalable \\u2018big data\\u2019 data stores.\\nGood organizational skills.\\nExperience supporting and working with cross-functional teams in a dynamic environment.\\nExperience with big data tools: Hadoop, Spark, Kafka, etc.\\nExperience with relational SQL and NoSQL databases, including Postgres, Cassandra, MongoDB.\\nExperience with data pipeline and workflow management tools: Azkaban, Luigi, Airflow, etc.\\nExperience with cloud services: such as EC2, EMR, RDS, Redshift, Azure services\\nExperience with stream-processing systems: Storm, Spark-Streaming, etc.\\nExperience with object-oriented/object function scripting languages: Python, Java, C++, Scala, etc.\\nEducation/Experience\\nCandidate with 5+ years of experience in a Data Engineer role, who has attained a Graduate degree in Computer Science, Statistics, Informatics, Information Systems or another quantitative field.\\nQualifications\\nEducation:\\nBachelor's Degree\\nSkills\\nCertifications:\\nLanguages:\\nYears of Experience:\\n4 - 7 Years\\nWork Experience:\\nAdditional Information\\nTravel:\\nYes, 20% of the Time\\nRelocation Eligible:\\nNo\\n\\nApplied Materials is committed to diversity in its workforce including Equal Employment Opportunity for Minorities, Females, Protected Veterans and Individuals with Disabilities.\"\n        ],\n        \"semantic_type\": \"\",\n        \"description\": \"\"\n      }\n    },\n    {\n      \"column\": \"Rating\",\n      \"properties\": {\n        \"dtype\": \"number\",\n        \"std\": 1.5757490463024804,\n        \"min\": -1.0,\n        \"max\": 5.0,\n        \"num_unique_values\": 37,\n        \"samples\": [\n          4.2,\n          4.0,\n          2.9\n        ],\n        \"semantic_type\": \"\",\n        \"description\": \"\"\n      }\n    },\n    {\n      \"column\": \"Company Name\",\n      \"properties\": {\n        \"dtype\": \"string\",\n        \"num_unique_values\": 2075,\n        \"samples\": [\n          \"Shutterfly\\n3.2\",\n          \"Camden Kelly Corporation\\n2.8\",\n          \"Scuttlebutt Services, LLC\"\n        ],\n        \"semantic_type\": \"\",\n        \"description\": \"\"\n      }\n    },\n    {\n      \"column\": \"Location\",\n      \"properties\": {\n        \"dtype\": \"category\",\n        \"num_unique_values\": 191,\n        \"samples\": [\n          \"Palo Alto, CA\",\n          \"Bellaire, TX\",\n          \"West Menlo Park, CA\"\n        ],\n        \"semantic_type\": \"\",\n        \"description\": \"\"\n      }\n    },\n    {\n      \"column\": \"Headquarters\",\n      \"properties\": {\n        \"dtype\": \"category\",\n        \"num_unique_values\": 543,\n        \"samples\": [\n          \"Marysville, OH\",\n          \"Campbell, CA\",\n          \"BENGALURU, India\"\n        ],\n        \"semantic_type\": \"\",\n        \"description\": \"\"\n      }\n    },\n    {\n      \"column\": \"Size\",\n      \"properties\": {\n        \"dtype\": \"category\",\n        \"num_unique_values\": 9,\n        \"samples\": [\n          \"Unknown\",\n          \"1001 to 5000 employees\",\n          \"10000+ employees\"\n        ],\n        \"semantic_type\": \"\",\n        \"description\": \"\"\n      }\n    },\n    {\n      \"column\": \"Founded\",\n      \"properties\": {\n        \"dtype\": \"number\",\n        \"std\": 855,\n        \"min\": -1,\n        \"max\": 2020,\n        \"num_unique_values\": 173,\n        \"samples\": [\n          1933,\n          1862,\n          1919\n        ],\n        \"semantic_type\": \"\",\n        \"description\": \"\"\n      }\n    },\n    {\n      \"column\": \"Type of ownership\",\n      \"properties\": {\n        \"dtype\": \"category\",\n        \"num_unique_values\": 15,\n        \"samples\": [\n          \"Contract\",\n          \"Private Practice / Firm\",\n          \"Company - Private\"\n        ],\n        \"semantic_type\": \"\",\n        \"description\": \"\"\n      }\n    },\n    {\n      \"column\": \"Industry\",\n      \"properties\": {\n        \"dtype\": \"category\",\n        \"num_unique_values\": 96,\n        \"samples\": [\n          \"State & Regional Agencies\",\n          \"Gas Stations\",\n          \"Health Care Products Manufacturing\"\n        ],\n        \"semantic_type\": \"\",\n        \"description\": \"\"\n      }\n    },\n    {\n      \"column\": \"Sector\",\n      \"properties\": {\n        \"dtype\": \"category\",\n        \"num_unique_values\": 26,\n        \"samples\": [\n          \"Media\",\n          \"Accounting & Legal\",\n          \"Travel & Tourism\"\n        ],\n        \"semantic_type\": \"\",\n        \"description\": \"\"\n      }\n    },\n    {\n      \"column\": \"Revenue\",\n      \"properties\": {\n        \"dtype\": \"category\",\n        \"num_unique_values\": 14,\n        \"samples\": [\n          \"$50 to $100 million (USD)\",\n          \"$2 to $5 billion (USD)\",\n          \"Unknown / Non-Applicable\"\n        ],\n        \"semantic_type\": \"\",\n        \"description\": \"\"\n      }\n    },\n    {\n      \"column\": \"Competitors\",\n      \"properties\": {\n        \"dtype\": \"category\",\n        \"num_unique_values\": 422,\n        \"samples\": [\n          \"Cognizant Technology Solutions, Infosys, Wipro\",\n          \"Manpower, BravoTECH, High Profile\",\n          \"Schlumberger, Halliburton, Cameron\"\n        ],\n        \"semantic_type\": \"\",\n        \"description\": \"\"\n      }\n    },\n    {\n      \"column\": \"Easy Apply\",\n      \"properties\": {\n        \"dtype\": \"category\",\n        \"num_unique_values\": 2,\n        \"samples\": [\n          \"True\",\n          \"-1\"\n        ],\n        \"semantic_type\": \"\",\n        \"description\": \"\"\n      }\n    }\n  ]\n}"
            }
          },
          "metadata": {},
          "execution_count": 33
        }
      ]
    },
    {
      "cell_type": "code",
      "source": [
        "def get_items(df, regex, column_name):\n",
        "    df[column_name] = df['Job Description'].apply(lambda x: re.findall(regex, x))\n",
        "    return df"
      ],
      "metadata": {
        "id": "4QXMZz2Av_lU"
      },
      "execution_count": null,
      "outputs": []
    },
    {
      "cell_type": "code",
      "source": [
        "df = get_items(df, '[\\S]+@[a-zA-Z0-9\\.]+\\.[a-zA-Z]+', 'emails')"
      ],
      "metadata": {
        "id": "hcjxW7rD2J0T"
      },
      "execution_count": null,
      "outputs": []
    },
    {
      "cell_type": "code",
      "source": [
        "df['emails'].values"
      ],
      "metadata": {
        "colab": {
          "base_uri": "https://localhost:8080/"
        },
        "id": "I7j2NLNp2PwG",
        "outputId": "e97d57d5-2ae8-4c0b-a879-413336485394"
      },
      "execution_count": null,
      "outputs": [
        {
          "output_type": "execute_result",
          "data": {
            "text/plain": [
              "array([list([]), list([]), list([]), ..., list([]), list([]), list([])],\n",
              "      dtype=object)"
            ]
          },
          "metadata": {},
          "execution_count": 42
        }
      ]
    },
    {
      "cell_type": "code",
      "source": [
        "def get_list_of_items(df, column_name):\n",
        "    items = []\n",
        "    for index, row in df.iterrows():\n",
        "        if (len(row[column_name]) > 0):\n",
        "            # print(row[column_name])\n",
        "            for item in list(row[column_name]):\n",
        "                if (type(item) is tuple and len(item)) > 1:\n",
        "                    # print(item)\n",
        "                    item = item\n",
        "                if (item not in items):\n",
        "                    # print(item)\n",
        "                    items.append(item)\n",
        "    return items"
      ],
      "metadata": {
        "id": "zhesneH3wzRp"
      },
      "execution_count": null,
      "outputs": []
    },
    {
      "cell_type": "code",
      "source": [
        "emails = get_list_of_items(df, 'emails')"
      ],
      "metadata": {
        "id": "l0dx2vL52qoC"
      },
      "execution_count": null,
      "outputs": []
    },
    {
      "cell_type": "code",
      "source": [
        "def get_emails(df):\n",
        "    original_email_regex = '[\\S]+@[a-zA-Z0-9\\.]+\\.[a-zA-Z]+'\n",
        "    email_regex = '[^\\s:|()\\']+@[a-zA-Z0-9\\.]+\\.[a-zA-Z]+'\n",
        "    df = get_items(df, email_regex, 'emails')\n",
        "    emails = get_list_of_items(df, 'emails')\n",
        "    return emails"
      ],
      "metadata": {
        "id": "uckD9qTlx7ng"
      },
      "execution_count": null,
      "outputs": []
    },
    {
      "cell_type": "code",
      "source": [
        "def get_urls(df):\n",
        "    url_regex = '(http[s]?://(www\\.)?[A-Za-z0-9–_\\.\\-]+\\.[A-Za-z]+/?[A-Za-z0-9$\\–_\\-\\/\\.]*)[\\.)\\\"]*'\n",
        "    df = get_items(df, url_regex, 'urls')\n",
        "    urls = get_list_of_items(df, 'urls')\n",
        "    return urls\n"
      ],
      "metadata": {
        "id": "D4I-lkxMyONP"
      },
      "execution_count": null,
      "outputs": []
    },
    {
      "cell_type": "code",
      "source": [
        "def get_urls1(df):\n",
        "    url_regex = '(http[s]?://(www\\.)?[A-Za-z0-9–_\\.\\-]+\\.[A-Za-z]+/?[A-Za-z0-9$\\–_\\-\\/\\.]*)[\\.)\\\"]*'\n",
        "    df['urls'] = df['Job Description'].apply(lambda x: [x[item.span()[0]:item.span()[1]] for item in re.finditer(url_regex, x)])\n",
        "    urls = get_list_of_items(df, 'urls')\n",
        "    return urls"
      ],
      "metadata": {
        "id": "xtqfJoIe4zcs"
      },
      "execution_count": null,
      "outputs": []
    },
    {
      "cell_type": "code",
      "source": [
        "# df = pd.read_csv(data_file, encoding='utf-8')\n",
        "# emails = get_emails(df)\n",
        "# print(emails)\n",
        "urls = get_urls(df)\n",
        "print(urls)\n",
        "print(len(urls))\n",
        "urls = get_urls1(df)\n",
        "print(urls)\n",
        "print(len(urls))"
      ],
      "metadata": {
        "colab": {
          "base_uri": "https://localhost:8080/"
        },
        "id": "yql_UwLmy4jE",
        "outputId": "987e2c82-5ced-47a5-8624-cad301586700"
      },
      "execution_count": null,
      "outputs": [
        {
          "output_type": "stream",
          "name": "stdout",
          "text": [
            "[('https://www.decode-m.com/', 'www.'), ('https://www.amazon.jobs/en/disability/us.', 'www.'), ('https://www.techatbloomberg.com/nlp/', 'www.'), ('https://bloomberg.com/company/d4gx/', ''), ('https://www.dol.gov/ofccp/regs/compliance/posters/ofccpost.htm', 'www.'), ('http://www.tapestry.com/', 'www.'), ('https://www.arena.io/about/careers.html', 'www.'), ('http://www.fujitsu.com/global/about/corporate/info/', 'www.'), ('http://www.fujitsu.com/global/digitalannealer/', 'www.'), ('http://www.fujitsu.com/global/solutions/business-technology/ai/', 'www.'), ('https://whisk.com/cognitive-food-platform/', ''), ('https://youtu.be/QzKe9iZszD0', ''), ('https://argogroup.wd1.myworkdayjobs.com/Argo', ''), ('https://prolancer.com/jobs/send-proposal/298', ''), ('http://www-01.ibm.com/employment/us/benefits', ''), ('http://business.pinto.co', ''), ('https://bit.ly/2m14P0P', ''), ('https://bit.ly/2lCOcYS', ''), ('https://bit.ly/2m1510', ''), ('http://www.colgatepalmolive.com.', 'www.'), ('http://www.colgatebsbf.com.', 'www.'), ('http://www.hillspet.com.', 'www.'), ('http://www.tomsofmaine.com.', 'www.'), ('https://www.medlypharmacy.com/', 'www.'), ('https://oim.unjspf.org/.', ''), ('http://www.nasdaq.com', 'www.'), ('https://studentaid.ed.gov/sa/repay-loans/forgiveness-cancellation/public-service', ''), ('https://a127-jobs.nyc.gov/.', ''), ('https://www.home.neustar.', 'www.'), ('https://hirepeopletree.com/ccpa', ''), ('http://www.dol.gov/ofccp/regs/compliance/posters/pdf/eeopost.pdf.', 'www.'), ('https://www.gofundme.com/2019https', 'www.'), ('https://medium.com/gofundme-storieshttps', ''), ('http://www.capgemini.com/resources/equal-employment-opportunity-is-the-law', 'www.'), ('http://ccmb.usc.edu', ''), ('https://www.ibm.com/internet-of-things/', 'www.'), ('https://www.ibm.com/watson/', 'www.'), ('https://www.ibm.com/analytics/', 'www.'), ('https://blog.activision.com', ''), ('https://wd5.myworkday.com/usc/d/inst/1$9925/9925$45297.htmld', ''), ('https://www.opm.gov/policy-data-oversight/classification-qualifications/general-schedule-qualification-standards/1300/general-physical-science-series-1301/', 'www.'), ('http://www-01.ibm.com/employment/us/benefitsIBM', ''), ('http://ope.ed.gov/accreditation', ''), ('http://whed.net/home.php.', ''), ('http://aice-eval.org/members/.', ''), ('http://www-01.ibm.com/employment/us/benefits/', ''), ('https://www-03.ibm.com/press/us/en/pressrelease/50744.wss', ''), ('http://www.ibm.com/ibm/responsibility/initiatives.html', 'www.'), ('http://www.ibm.com/ibm/responsibility/corporateservicecorps', 'www.'), ('http://www.galvanize.com/courses/data-science/', 'www.'), ('http://instagram.com/lifeatservicetitan', ''), ('https://www.themuse.com/profiles/servicetitan', 'www.'), ('https://www.builtinla.com/company/servicetitan-inc', 'www.'), ('http://www.arete.comAret', 'www.'), ('https://www.youtube.com/watch', 'www.'), ('http://eleverpro.com', ''), ('http://www.eleverpro.com/executive-recruiter-jobs/', 'www.'), ('https://youtu.be/CC-seRMEo8s', ''), ('http://www.mylife.com.', 'www.'), ('https://prolancer.com/jobs/send-proposal/301', ''), ('http://www.cslbehring.com', 'www.'), ('http://www.cslplasma.com/careers', 'www.'), ('https://www.cslbehring.com/careers/eeo-statement', 'www.'), ('http://www.tetratech.com/en/benefits.For', 'www.'), ('http://www.opm.gov/policy-data-oversight/classification-qualifications/general-schedule-qualification-standards/', 'www.'), ('http://www.opm.gov/policy-data-oversight/classification-qualifications/general-schedule-qualification-standards/1300/general-physical-science-series-1301/', 'www.'), ('http://camdenkelly.com/jobs', ''), ('https://twitter.com/camdenkellycorp', ''), ('http://www.linkedin.com/company/3279780', 'www.'), ('https://www.facebook.com/camdenkellycorp', 'www.'), ('https://plus.google.com/u/0/106722962279155885960', ''), ('https://www.cedars-sinai.edu/Research/Research-Labs/Guarnerio-Lab/', 'www.'), ('http://www.oakwoodsearch.com', 'www.'), ('https://www.cedars-sinai.org/research/labs/svendsen.html.', 'www.'), ('http://www.opm.gov/qualifications/standards/index-Standards.asp', 'www.'), ('http://www.opm.gov/qualifications/standards/indexes/num-ndx.asp', 'www.'), ('https://youtu.be/c5TgbpE9UBI', ''), ('https://climate.com/careers', ''), ('https://www.uptake.com/careers.What', 'www.'), ('https://upt.ac/16ee15fc.What', ''), ('https://www.kalderos.com/company/about', 'www.'), ('https://www.kalderos.com/company/culture', 'www.'), ('https://careers.nordstrom.com/', ''), ('https://www.facebook.com/HPECareers', 'www.'), ('https://twitter.com/HPE_Careers', ''), ('https://imanage.com/privacy-policy/', ''), ('https://drw.com/privacy-notice.California', ''), ('https://drw.com/california-privacy-notice.', ''), ('https://bmoharriscareers.com.', ''), ('https://jobs.lever.co/kraken.', ''), ('http://securityreport.uchicago.edu.', ''), ('https://bmoharriscareers.com.BMO', ''), ('http://www1.eeoc.gov/employers/poster.cfm', ''), ('https://relevante.jobs.net/en-US/join', ''), ('http://integralads.com/', ''), ('https://muse.cm/2t8eGlN', ''), ('https://searchitchannel.techtarget.com/feature/Data-center-infrastructure-spending-gets-AI-boost', ''), ('https://www.insight.com/en_US/about/newsroom/press-releases/2019/07012019-insight-recognized-at-no14-on-crns-2019-solution-provider-500-list.html', 'www.'), ('https://investor.insight.com/press-release/insight-enterprises-acquire-pcm-inc', ''), ('https://insight.hqprod.businesswire.com/press-release/insight-hosts-global-ai-competition-healthcare-innovation-cincinnati', ''), ('https://investor.insight.com/press-release/houston-schools-deploying-iot-enabled-building-safety-platform-improve-emergency', ''), ('https://investor.insight.com/press-release/insight-recognized-magic-quadrant-managed-workplace-services-north-america', ''), ('https://cvshealth.com/covid-19', ''), ('http://www.tetratech.com/en/benefits.', 'www.'), ('https://drw.com/privacy-notice.', ''), ('https://clientapps.jobadder.com/45103/fast-switch', ''), ('https://twitter.com/FastSwitchGL', ''), ('https://www.instagram.com/fastswitchgl/', 'www.'), ('https://www.linkedin.com/company/fast-switch-great-lakes', 'www.'), ('https://tinyurl.com/v4p9yy7', ''), ('https://www.gpo.gov/fdsys/pkg/CFR-2011-title20-vol3/pdf/CFR-2011-title20-vol3-sec656-3.pdf', 'www.'), ('https://www.cdc.gov/hai/epicenters/chicago.html.', 'www.'), ('http://ope.ed.gov/accreditation/.', ''), ('http://www.ed.gov/about/offices/list/ous/international/usnei/us/edlite-visitus-forrecog.html.', 'www.'), ('https://www.opm.gov/policy-data-oversight/classification-qualifications/general-schedule-qualification-standards/.', 'www.'), ('https://www.nextstepsystems.com/employers_submit_raul.html.', 'www.'), ('https://www.nextstepsystems.com/jobseekers_submit_raul.html.', 'www.'), ('https://www.nextstepsystems.com', 'www.'), ('http://www.itrecruiters.technology.', 'www.'), ('http://www.recruiter.technology', 'www.'), ('http://www.parallelpartners.com.', 'www.'), ('https://www.dascena.com/', 'www.'), ('https://h-gac.com/careersH-GAC', ''), ('https://h-gac.com/careers', ''), ('http://www.walkerelliott.com/candidates/jobs/jobDetail/default.aspx', 'www.'), ('https://hrrm.harriscountytx.gov/Pages/EqualEmploymentOpportunityPlan.aspx', ''), ('https://hrrm.harriscountytx.gov/Pages/Medical.aspx', ''), ('http://www.mdanderson.org/about-us/legal-and-policy/legal-statements/eeo-affirmative-action.html', 'www.'), ('https://www.facebook.com/Mindteckglobal/', 'www.'), ('https://www.linkedin.com/company/mindteck', 'www.'), ('https://www.youtube.com/user/MindteckVideos', 'www.'), ('https://twitter.com/mindteck', ''), ('https://www.pinterest.com/mindteck/', 'www.'), ('https://mobilemathlab.com/', ''), ('https://www.soarenmanagement.com/', 'www.'), ('https://www.instagram.com/gatestonebpo', 'www.'), ('https://usa.healthcare.siemens.com/careers.', ''), ('https://usa.healthcare.siemens.com/about.', ''), ('https://www.facebook.com/Access-Control-Group-Access-100773445034653/', 'www.'), ('http://www.kingmelissa.com/', 'www.'), ('https://www.usajobs.gov/Help/working-in-government/unique-hiring-paths/students/', 'www.'), ('https://www.opm.gov/policy-data-oversight/classification-qualifications/general-schedule-qualification-standards/', 'www.'), ('https://www.opm.gov/policy-data-oversight/classification-qualifications/general-schedule-qualification-standards/1500/computer-science-series-1550/', 'www.'), ('https://www.linkedin.com/in/rama-shanker-verma-aman-01a283a/', 'www.'), ('https://tinyurl.com/ycqdhb98', ''), ('http://one2one.sparklight.com/tag/coronavirus/', ''), ('https://www.sparklight.com/about/careers', 'www.'), ('https://www.linkedin.com/in/divyansh-srivastava-11563041/', 'www.'), ('http://www2.deloitte.com/us/en/pages/about-deloitte/articles/deloitte-corporate-citizenship.html', ''), ('http://www2.deloitte.com/us/en/pages/careers/topics/recruiting-tips.htmlCategory', ''), ('http://www.med.upenn.edu/', 'www.'), ('http://www.cbica.upenn.edu/', 'www.'), ('https://safety.temple.edu/reports-logs/annual-security-report', ''), ('http://www.med.upenn.edu/This', 'www.'), ('http://www.phila.gov/personnel/ExamsFAQ.html', 'www.'), ('http://www.camadvgrp.com/', 'www.'), ('http://www.med.upenn.edu/.', 'www.'), ('https://www.linkedin.com/company/integress-inc./', 'www.'), ('http://jconnectinc.com/', ''), ('http://www.angeiongroup.com.', 'www.'), ('https://www.amringusa.com/company-2/', 'www.'), ('https://www.mainlinehealth.org/careers', 'www.'), ('https://wd5.myworkday.com/iheartmedia/d/task/3005$4482.htmld', ''), ('http://iheartmediacareers.com/Pages/EEO.aspx', ''), ('https://wd5.myworkday.com/iheartmedia/d/task/3005$1999.htmld', ''), ('https://iheartmedia.com/', ''), ('http://www.compqsoft.com/current-openings.html', 'www.'), ('https://www.swri.org/technical-divisions/defense-intelligence-solutions.', 'www.'), ('https://www.opm.gov/policy-data-oversight/pay-leave/salaries-wages/IF', 'www.'), ('http://cherokee-cna.com/Pages/Home.aspx', ''), ('http://cherokee-os.com/Pages/Home.aspx', ''), ('https://cherokee-federal.com/', ''), ('http://cherokeenationbusinesses.com/careers/Pages/home.aspx', ''), ('http://cherokeenationbusinesses.com/federalSolutions/Pages/overview.aspx', ''), ('http://www.leoniegroup.com/careers', 'www.'), ('https://ivs.swri.org.', ''), ('http://www2.ed.gov/admins/finaid/accred/index.html', ''), ('https://hpi.swri.org.', ''), ('http://www.opm.gov/policy-data-oversight/classification-qualifications/general-schedule-qualification-standards/0800/all-professional-engineering-positions-0800/', 'www.'), ('http://www.opm.gov/policy-data-oversight/classification-qualifications/general-schedule-qualification-standards/1500/computer-science-series-1550/', 'www.'), ('http://cherokee-cnts.com/Pages/home.aspx', ''), ('http://cherokeenationbusinesses.com/federalSolutions', ''), ('http://cherokeenationbusinesses.com/Pages/home.aspx', ''), ('https://www.dol.gov/ofccp/regs/compliance/posters/pdf/eeopost.pdf', 'www.'), ('https://www.dol.gov/ofccp/pdf/pay-transp_', 'www.'), ('https://www.opm.gov/policy-data-oversight/classification-qualifications/general-schedule-qualification-standards/0400/general-natural-resources-management-and-biological-sciences-series-0401/', 'www.'), ('http://www1.eeoc.gov/employers/upload/eeoc_self_print_poster.pdf', ''), ('http://www.sorrentotherapeutics.com', 'www.'), ('https://bfa.sdsu.edu/hr/jobs/job-opportunities.aspx', ''), ('http://jobs.sdsu.edu', ''), ('https://it.sdsu.edu/', ''), ('https://bfa.sdsu.edu/hr/jobs/benefits', ''), ('https://smokefree.sdsu.edu/', ''), ('https://www.tandemdiabetes.com/careers/life-at-tandem', 'www.'), ('https://www.expesicor.com/jobs/research-scientist-san-diego/', 'www.'), ('https://grants.nih.gov/grants/guide/notice-files/NOT-OD-18-210.html', ''), ('https://apol-recruit.ucsd.edu/apply/JPF02126', ''), ('https://www.monocerosbio.com', 'www.'), ('http://www.absorption.com', 'www.'), ('https://www.facetec.com/', 'www.'), ('https://wd5.myworkday.com/usc/d/inst/1$9925/9925$46086.htmld', ''), ('http://www-hr.ucsd.edu/saa/nondiscr.htmlUC', ''), ('https://www.bluenalu.com/', 'www.'), ('http://adminrecords.ucsd.edu/PPM/docs/230-311.html', ''), ('https://apol-recruit.ucsd.edu/apply/JPF02462', ''), ('http://www.ucop.edu/academic-personnel-programs/_files/apm/apm-310.pdf', 'www.'), ('https://apol-recruit.ucsd.edu/apply/JPF02177', ''), ('https://www.opm.gov/policy-data-oversight/classification-qualifications/general-schedule-qualification-standards/0600/medical-technologist-series-0644/In', 'www.'), ('https://www.opm.gov/policy-data-oversight/classification-qualifications/general-schedule-qualification-standards/0600/medical-technologist-series-0644/', 'www.'), ('http://med.ucsd.edu', ''), ('https://apol-recruit.ucsd.edu/apply/JPF02186', ''), ('https://www.naspovaluepoint.org/portfolio/mmis-provider-services-module-2018-2028/hhs-technology-group/', 'www.'), ('https://cgi-veterans.jobs/', ''), ('https://qbrc.swmed.edu/', ''), ('http://citylinedfw.com/about/', ''), ('https://www.goldmansachs.com/careers/footer/disability-statement.html', 'www.'), ('https://lnkd.in/ePyq7pM', ''), ('https://lnkd.in/e9ZpD5J', ''), ('https://lnkd.in/eqttaa4', ''), ('http://www.kairostech.com', 'www.'), ('https://www.linkedin.com/in/prasadmamidela', 'www.'), ('https://www.trinityra.org/joblist.htm', 'www.'), ('https://www.vdriveitsolutions.com/', 'www.'), ('http://www.xome.com', 'www.'), ('https://www.consumer.ftc.gov/JobScams', 'www.'), ('https://www.ftccomplaintassistant.gov/.', 'www.'), ('http://bit.ly/1mzJQeL', ''), ('https://jobs.gartner.com/applicant-privacy-policy', ''), ('https://www.pddninc.com/', 'www.'), ('http://www.corelogic.com/privacy.aspxConnect', 'www.'), ('https://benefits.northropgrumman.com/us/en2/BenefitsOverview/Pages/default.aspx', ''), ('https://vimeo.com/311952506', ''), ('https://match-relevant.com/your-story', ''), ('https://calendly.com/jake-villarreal/calendar', ''), ('https://teladochealth.com/en/about/', ''), ('http://jobs.apple.com/', ''), ('https://www.verizonmedia.com/careers/contact-us.html', 'www.'), ('https://www.amazon.jobs/en/disability/us', 'www.'), ('https://www.ebayinc.com/our-company/diversity-inclusion/.', 'www.'), ('http://adminguide.stanford.edu.', ''), ('http://ophthalmology.stanford.edu/', ''), ('https://join.collectivehealth.com/box', ''), ('https://www.accountingprincipals.com/privacy-policy/', 'www.'), ('https://corporate.jd.com/', ''), ('https://air.jd.com/', ''), ('http://neon.life', ''), ('https://e-verify.uscis.gov/esp/media/resourcesContents/EverifyPosterEnglish.pdf', ''), ('https://e-verify.uscis.gov/esp/media/resourcesContents/EverifyPosterSpanish.pdf', ''), ('https://e-verify.uscis.gov/esp/media/resourcesContents/WebBPPOSTERRtoWEnglishversion.pdf', ''), ('https://e-verify.uscis.gov/esp/media/resourcesContents/WebBPPOSTERRtoWSpanishversion.pdf', ''), ('https://portal.slac.stanford.edu/sites/lcls_public', ''), ('http://www-group.slac.stanford.edu/esh/eshmanual/pdfs/ESHch01.pdf', ''), ('http://adminguide.stanford.edu', ''), ('http://www.sandia.gov', 'www.'), ('https://www.linkedin.com/in/niyazansari/', 'www.'), ('https://www.nvidia.com/en-us/contact/', 'www.'), ('https://dnb.wd1.myworkdayjobs.com/Careers', ''), ('http://www.hr.sao.state.tx.us/Compensation/JobDescriptions.aspx', 'www.'), ('http://indeedhi.re/IndeedBenefits', ''), ('https://www.indeed.com/legal/applicant-privacy', 'www.'), ('https://santannaenergyservices.com/', ''), ('http://www.dol.gov/ofccp/regs/compliance/posters/pdf/eeopost.pdf', 'www.'), ('http://www.dol.gov/ofccp/regs/compliance/posters/pdf/ofccp_eeo_supplement_final_jrf_qa_508c.pdf', 'www.'), ('http://bit.ly/amazon-scot', ''), ('https://getspruce.com', ''), ('https://www.facebook.com/SpruceCrew', 'www.'), ('https://stockedrobotics.freshteam.com/jobs', ''), ('http://www.hr.sao.state.tx.us/Compensation/JobDescriptions.aspx.', 'www.'), ('http://www.twdb.texas.gov/jobs/benefits.asp', 'www.'), ('https://bit.ly/2YT6oii', ''), ('http://www.twdb.texas.gov/jobs/index.asp', 'www.'), ('http://www.twitter.com/forgerock.', 'www.'), ('https://encoura.org/privacy-policy/', ''), ('http://www.hr.sao.state.tx.us/Compensation/JobDescriptions.aspx.HHS', 'www.'), ('https://www.facebook.com/irisplans', 'www.'), ('https://dellmed.utexas.edu/culture.', ''), ('https://www.facebook.com/viahart', 'www.'), ('https://bit.ly/2UKaqWQ', ''), ('https://muse.cm/2t8eGlNAttention', ''), ('https://www.nvidia.com/en-us/geforce/products/geforce-now/', 'www.'), ('https://hypori.com/', ''), ('https://www.county.org/', 'www.'), ('https://www.facebook.com/TexasCounties', 'www.'), ('https://mastercard.jobs/toronto-can/senior-data-engineer/2B400D4C9F4345E2B2039B9AB1845623/job/', ''), ('https://www.praetorian.com/careers', 'www.'), ('https://mastercard.jobs/toronto-can/lead-data-engineer/567DD39603B141C5AAF86389682B751D/job/', ''), ('https://www.linkedin.com/in/emma-riley-72028917a/', 'www.'), ('http://www.globalfoundries.com.', 'www.'), ('https://capps.taleo.net/careersection/ex/jobsearch.ftl', ''), ('https://www.ers.texas.gov/', 'www.'), ('https://jobs.btginc.com.', ''), ('http://www.tetratech.com/en/benefits', 'www.'), ('https://www.mindteck.com/career/life-at-mindteck.html', 'www.'), ('https://eng.joinroot.com/', ''), ('https://www.opm.gov/policy-data-oversight/hiring-information/direct-hire-authority/You', 'www.'), ('https://www.ecdi.org', 'www.'), ('https://www.facebook.com/ECDIoh/', 'www.'), ('https://www.deeplens.ai/', 'www.'), ('https://www.facebook.com/deeplensai/', 'www.'), ('http://www.nationwidechildrens.org/patient-centered-pediatric-research-program.', 'www.'), ('http://www.avanitechsolutions.com', 'www.')]\n",
            "301\n",
            "['https://www.decode-m.com/', 'https://www.amazon.jobs/en/disability/us.', 'https://www.techatbloomberg.com/nlp/', 'https://bloomberg.com/company/d4gx/).', 'https://www.dol.gov/ofccp/regs/compliance/posters/ofccpost.htm', 'http://www.tapestry.com/', 'https://www.arena.io/about/careers.html', 'http://www.fujitsu.com/global/about/corporate/info/', 'http://www.fujitsu.com/global/digitalannealer/', 'http://www.fujitsu.com/global/solutions/business-technology/ai/', 'https://whisk.com/cognitive-food-platform/)', 'https://youtu.be/QzKe9iZszD0', 'https://argogroup.wd1.myworkdayjobs.com/Argo', 'https://prolancer.com/jobs/send-proposal/298', 'http://www-01.ibm.com/employment/us/benefits', 'http://business.pinto.co', 'https://bit.ly/2m14P0P', 'https://bit.ly/2lCOcYS', 'https://bit.ly/2m1510', 'http://www.colgatepalmolive.com.', 'http://www.colgatebsbf.com.', 'http://www.hillspet.com.', 'http://www.tomsofmaine.com.', 'https://www.medlypharmacy.com/', 'https://oim.unjspf.org/.', 'http://www.nasdaq.com', 'https://studentaid.ed.gov/sa/repay-loans/forgiveness-cancellation/public-service', 'https://a127-jobs.nyc.gov/.', 'https://www.home.neustar.', 'https://hirepeopletree.com/ccpa', 'http://www.dol.gov/ofccp/regs/compliance/posters/pdf/eeopost.pdf.', 'https://www.gofundme.com/2019https', 'https://medium.com/gofundme-storieshttps', 'http://www.capgemini.com/resources/equal-employment-opportunity-is-the-law', 'http://ccmb.usc.edu', 'https://www.ibm.com/internet-of-things/', 'https://www.ibm.com/watson/', 'https://www.ibm.com/analytics/', 'https://blog.activision.com', 'https://wd5.myworkday.com/usc/d/inst/1$9925/9925$45297.htmld', 'https://www.opm.gov/policy-data-oversight/classification-qualifications/general-schedule-qualification-standards/1300/general-physical-science-series-1301/', 'http://www-01.ibm.com/employment/us/benefitsIBM', 'http://ope.ed.gov/accreditation', 'http://whed.net/home.php.', 'http://aice-eval.org/members/.', 'http://www-01.ibm.com/employment/us/benefits/', 'https://www-03.ibm.com/press/us/en/pressrelease/50744.wss', 'http://www.ibm.com/ibm/responsibility/initiatives.html', 'http://www.ibm.com/ibm/responsibility/corporateservicecorps', 'http://www.galvanize.com/courses/data-science/', 'http://instagram.com/lifeatservicetitan', 'https://www.themuse.com/profiles/servicetitan', 'https://www.builtinla.com/company/servicetitan-inc', 'http://www.arete.comAret', 'https://www.youtube.com/watch', 'http://eleverpro.com', 'http://www.eleverpro.com/executive-recruiter-jobs/', 'https://youtu.be/CC-seRMEo8s', 'http://www.mylife.com.', 'https://prolancer.com/jobs/send-proposal/301', 'http://www.cslbehring.com', 'http://www.cslplasma.com/careers', 'https://www.cslbehring.com/careers/eeo-statement', 'http://www.tetratech.com/en/benefits.For', 'http://www.opm.gov/policy-data-oversight/classification-qualifications/general-schedule-qualification-standards/', 'http://www.opm.gov/policy-data-oversight/classification-qualifications/general-schedule-qualification-standards/1300/general-physical-science-series-1301/', 'http://camdenkelly.com/jobs', 'https://twitter.com/camdenkellycorp)', 'http://www.linkedin.com/company/3279780)', 'https://www.facebook.com/camdenkellycorp)', 'https://plus.google.com/u/0/106722962279155885960)', 'https://www.cedars-sinai.edu/Research/Research-Labs/Guarnerio-Lab/', 'http://www.oakwoodsearch.com', 'https://www.cedars-sinai.org/research/labs/svendsen.html.', 'http://www.opm.gov/qualifications/standards/index-Standards.asp', 'http://www.opm.gov/qualifications/standards/indexes/num-ndx.asp', 'https://youtu.be/c5TgbpE9UBI', 'https://climate.com/careers', 'https://www.uptake.com/careers.What', 'https://upt.ac/16ee15fc.What', 'https://www.kalderos.com/company/about', 'https://www.kalderos.com/company/culture', 'https://careers.nordstrom.com/', 'https://www.facebook.com/HPECareers', 'https://twitter.com/HPE_Careers', 'https://imanage.com/privacy-policy/', 'https://drw.com/privacy-notice.California', 'https://drw.com/california-privacy-notice.', 'https://bmoharriscareers.com.', 'https://jobs.lever.co/kraken.', 'http://securityreport.uchicago.edu.', 'https://bmoharriscareers.com.BMO', 'http://www1.eeoc.gov/employers/poster.cfm', 'https://relevante.jobs.net/en-US/join', 'http://integralads.com/', 'https://muse.cm/2t8eGlN', 'https://searchitchannel.techtarget.com/feature/Data-center-infrastructure-spending-gets-AI-boost', 'https://www.insight.com/en_US/about/newsroom/press-releases/2019/07012019-insight-recognized-at-no14-on-crns-2019-solution-provider-500-list.html', 'https://investor.insight.com/press-release/insight-enterprises-acquire-pcm-inc', 'https://insight.hqprod.businesswire.com/press-release/insight-hosts-global-ai-competition-healthcare-innovation-cincinnati', 'https://investor.insight.com/press-release/houston-schools-deploying-iot-enabled-building-safety-platform-improve-emergency', 'https://investor.insight.com/press-release/insight-recognized-magic-quadrant-managed-workplace-services-north-america', 'https://cvshealth.com/covid-19', 'http://www.tetratech.com/en/benefits.', 'https://drw.com/privacy-notice.', 'https://clientapps.jobadder.com/45103/fast-switch', 'https://twitter.com/FastSwitchGL', 'https://www.instagram.com/fastswitchgl/', 'https://www.linkedin.com/company/fast-switch-great-lakes', 'https://tinyurl.com/v4p9yy7', 'https://www.gpo.gov/fdsys/pkg/CFR-2011-title20-vol3/pdf/CFR-2011-title20-vol3-sec656-3.pdf', 'https://www.cdc.gov/hai/epicenters/chicago.html.', 'http://ope.ed.gov/accreditation/.', 'http://www.ed.gov/about/offices/list/ous/international/usnei/us/edlite-visitus-forrecog.html.', 'https://www.opm.gov/policy-data-oversight/classification-qualifications/general-schedule-qualification-standards/.', 'https://www.nextstepsystems.com/employers_submit_raul.html.', 'https://www.nextstepsystems.com/jobseekers_submit_raul.html.', 'https://www.nextstepsystems.com', 'http://www.itrecruiters.technology.', 'http://www.recruiter.technology', 'http://www.parallelpartners.com.', 'https://www.dascena.com/', 'https://h-gac.com/careersH-GAC', 'https://h-gac.com/careers', 'http://www.walkerelliott.com/candidates/jobs/jobDetail/default.aspx', 'https://hrrm.harriscountytx.gov/Pages/EqualEmploymentOpportunityPlan.aspx', 'https://hrrm.harriscountytx.gov/Pages/Medical.aspx', 'http://www.mdanderson.org/about-us/legal-and-policy/legal-statements/eeo-affirmative-action.html', 'https://www.facebook.com/Mindteckglobal/', 'https://www.linkedin.com/company/mindteck', 'https://www.youtube.com/user/MindteckVideos', 'https://twitter.com/mindteck', 'https://www.pinterest.com/mindteck/', 'https://mobilemathlab.com/', 'https://www.soarenmanagement.com/', 'https://www.instagram.com/gatestonebpo', 'https://usa.healthcare.siemens.com/careers.', 'https://usa.healthcare.siemens.com/about.', 'https://www.facebook.com/Access-Control-Group-Access-100773445034653/', 'http://www.kingmelissa.com/', 'https://www.usajobs.gov/Help/working-in-government/unique-hiring-paths/students/', 'https://www.opm.gov/policy-data-oversight/classification-qualifications/general-schedule-qualification-standards/', 'https://www.opm.gov/policy-data-oversight/classification-qualifications/general-schedule-qualification-standards/1500/computer-science-series-1550/', 'https://www.linkedin.com/in/rama-shanker-verma-aman-01a283a/', 'https://tinyurl.com/ycqdhb98', 'http://one2one.sparklight.com/tag/coronavirus/', 'https://www.sparklight.com/about/careers', 'https://www.linkedin.com/in/divyansh-srivastava-11563041/', 'http://www2.deloitte.com/us/en/pages/about-deloitte/articles/deloitte-corporate-citizenship.html', 'http://www2.deloitte.com/us/en/pages/careers/topics/recruiting-tips.htmlCategory', 'http://www.med.upenn.edu/', 'http://www.cbica.upenn.edu/', 'https://safety.temple.edu/reports-logs/annual-security-report', 'http://www.med.upenn.edu/This', 'http://www.phila.gov/personnel/ExamsFAQ.html', 'http://www.camadvgrp.com/', 'http://www.med.upenn.edu/.', 'https://www.linkedin.com/company/integress-inc./', 'http://jconnectinc.com/', 'http://www.angeiongroup.com.', 'https://www.amringusa.com/company-2/)', 'https://www.mainlinehealth.org/careers', 'https://wd5.myworkday.com/iheartmedia/d/task/3005$4482.htmld', 'http://iheartmediacareers.com/Pages/EEO.aspx', 'https://wd5.myworkday.com/iheartmedia/d/task/3005$1999.htmld', 'https://iheartmedia.com/', 'http://www.compqsoft.com/current-openings.html', 'https://www.swri.org/technical-divisions/defense-intelligence-solutions.', 'https://www.opm.gov/policy-data-oversight/pay-leave/salaries-wages/IF', 'http://cherokee-cna.com/Pages/Home.aspx', 'http://cherokee-os.com/Pages/Home.aspx', 'https://cherokee-federal.com/', 'http://cherokeenationbusinesses.com/careers/Pages/home.aspx', 'http://cherokeenationbusinesses.com/federalSolutions/Pages/overview.aspx', 'http://www.leoniegroup.com/careers', 'https://ivs.swri.org.', 'http://www2.ed.gov/admins/finaid/accred/index.html', 'https://hpi.swri.org.', 'http://www.opm.gov/policy-data-oversight/classification-qualifications/general-schedule-qualification-standards/0800/all-professional-engineering-positions-0800/', 'http://www.opm.gov/policy-data-oversight/classification-qualifications/general-schedule-qualification-standards/1500/computer-science-series-1550/', 'http://cherokee-cnts.com/Pages/home.aspx', 'http://cherokeenationbusinesses.com/federalSolutions', 'http://cherokeenationbusinesses.com/Pages/home.aspx', 'https://www.dol.gov/ofccp/regs/compliance/posters/pdf/eeopost.pdf', 'https://www.dol.gov/ofccp/pdf/pay-transp_', 'https://www.opm.gov/policy-data-oversight/classification-qualifications/general-schedule-qualification-standards/0400/general-natural-resources-management-and-biological-sciences-series-0401/', 'http://www1.eeoc.gov/employers/upload/eeoc_self_print_poster.pdf', 'http://www.sorrentotherapeutics.com', 'https://bfa.sdsu.edu/hr/jobs/job-opportunities.aspx', 'http://jobs.sdsu.edu', 'https://it.sdsu.edu/', 'https://bfa.sdsu.edu/hr/jobs/benefits', 'https://smokefree.sdsu.edu/', 'https://www.tandemdiabetes.com/careers/life-at-tandem', 'https://www.expesicor.com/jobs/research-scientist-san-diego/', 'https://grants.nih.gov/grants/guide/notice-files/NOT-OD-18-210.html).', 'https://apol-recruit.ucsd.edu/apply/JPF02126', 'https://www.monocerosbio.com', 'http://www.absorption.com', 'https://www.facetec.com/', 'https://wd5.myworkday.com/usc/d/inst/1$9925/9925$46086.htmld', 'http://www-hr.ucsd.edu/saa/nondiscr.htmlUC', 'https://www.bluenalu.com/', 'http://adminrecords.ucsd.edu/PPM/docs/230-311.html', 'https://apol-recruit.ucsd.edu/apply/JPF02462', 'http://www.ucop.edu/academic-personnel-programs/_files/apm/apm-310.pdf', 'https://apol-recruit.ucsd.edu/apply/JPF02177', 'https://www.opm.gov/policy-data-oversight/classification-qualifications/general-schedule-qualification-standards/0600/medical-technologist-series-0644/In', 'https://www.opm.gov/policy-data-oversight/classification-qualifications/general-schedule-qualification-standards/0600/medical-technologist-series-0644/', 'http://med.ucsd.edu', 'https://apol-recruit.ucsd.edu/apply/JPF02186', 'https://www.naspovaluepoint.org/portfolio/mmis-provider-services-module-2018-2028/hhs-technology-group/).', 'https://cgi-veterans.jobs/', 'https://qbrc.swmed.edu/', 'http://citylinedfw.com/about/', 'https://www.goldmansachs.com/careers/footer/disability-statement.html', 'https://lnkd.in/ePyq7pM', 'https://lnkd.in/e9ZpD5J', 'https://lnkd.in/eqttaa4', 'http://www.kairostech.com', 'https://www.linkedin.com/in/prasadmamidela', 'https://www.trinityra.org/joblist.htm', 'https://www.vdriveitsolutions.com/', 'http://www.xome.com', 'https://www.consumer.ftc.gov/JobScams', 'https://www.ftccomplaintassistant.gov/.', 'http://bit.ly/1mzJQeL', 'https://jobs.gartner.com/applicant-privacy-policy', 'https://www.pddninc.com/', 'http://www.corelogic.com/privacy.aspxConnect', 'https://benefits.northropgrumman.com/us/en2/BenefitsOverview/Pages/default.aspx', 'https://vimeo.com/311952506', 'https://match-relevant.com/your-story', 'https://calendly.com/jake-villarreal/calendar', 'https://teladochealth.com/en/about/', 'http://jobs.apple.com/)', 'https://www.verizonmedia.com/careers/contact-us.html)', 'https://www.amazon.jobs/en/disability/us', 'https://www.ebayinc.com/our-company/diversity-inclusion/.', 'http://adminguide.stanford.edu.', 'http://ophthalmology.stanford.edu/', 'https://join.collectivehealth.com/box', 'https://www.accountingprincipals.com/privacy-policy/', 'https://corporate.jd.com/', 'https://air.jd.com/', 'http://neon.life)', 'https://e-verify.uscis.gov/esp/media/resourcesContents/EverifyPosterEnglish.pdf', 'https://e-verify.uscis.gov/esp/media/resourcesContents/EverifyPosterSpanish.pdf', 'https://e-verify.uscis.gov/esp/media/resourcesContents/WebBPPOSTERRtoWEnglishversion.pdf', 'https://e-verify.uscis.gov/esp/media/resourcesContents/WebBPPOSTERRtoWSpanishversion.pdf', 'https://portal.slac.stanford.edu/sites/lcls_public', 'http://www-group.slac.stanford.edu/esh/eshmanual/pdfs/ESHch01.pdf', 'http://adminguide.stanford.edu', 'http://www.sandia.gov', 'https://www.linkedin.com/in/niyazansari/', 'https://www.nvidia.com/en-us/contact/', 'https://dnb.wd1.myworkdayjobs.com/Careers', 'http://www.hr.sao.state.tx.us/Compensation/JobDescriptions.aspx', 'http://indeedhi.re/IndeedBenefits', 'https://www.indeed.com/legal/applicant-privacy', 'https://santannaenergyservices.com/', 'http://www.dol.gov/ofccp/regs/compliance/posters/pdf/eeopost.pdf', 'http://www.dol.gov/ofccp/regs/compliance/posters/pdf/ofccp_eeo_supplement_final_jrf_qa_508c.pdf', 'http://bit.ly/amazon-scot', 'https://getspruce.com', 'https://www.facebook.com/SpruceCrew', 'https://stockedrobotics.freshteam.com/jobs', 'http://www.hr.sao.state.tx.us/Compensation/JobDescriptions.aspx.', 'http://www.twdb.texas.gov/jobs/benefits.asp', 'https://bit.ly/2YT6oii', 'http://www.twdb.texas.gov/jobs/index.asp', 'http://www.twitter.com/forgerock.', 'https://encoura.org/privacy-policy/', 'http://www.hr.sao.state.tx.us/Compensation/JobDescriptions.aspx.HHS', 'https://www.facebook.com/irisplans', 'https://dellmed.utexas.edu/culture.', 'https://www.facebook.com/viahart', 'https://bit.ly/2UKaqWQ', 'https://muse.cm/2t8eGlNAttention', 'https://www.nvidia.com/en-us/geforce/products/geforce-now/', 'https://hypori.com/', 'https://www.county.org/', 'https://www.facebook.com/TexasCounties', 'https://mastercard.jobs/toronto-can/senior-data-engineer/2B400D4C9F4345E2B2039B9AB1845623/job/', 'https://www.praetorian.com/careers', 'https://mastercard.jobs/toronto-can/lead-data-engineer/567DD39603B141C5AAF86389682B751D/job/', 'https://www.linkedin.com/in/emma-riley-72028917a/', 'http://www.globalfoundries.com.', 'https://capps.taleo.net/careersection/ex/jobsearch.ftl', 'https://www.ers.texas.gov/', 'https://jobs.btginc.com.', 'http://www.tetratech.com/en/benefits', 'https://www.mindteck.com/career/life-at-mindteck.html', 'https://eng.joinroot.com/', 'https://www.opm.gov/policy-data-oversight/hiring-information/direct-hire-authority/You', 'https://www.ecdi.org', 'https://www.facebook.com/ECDIoh/', 'https://www.deeplens.ai/', 'https://www.facebook.com/deeplensai/', 'http://www.nationwidechildrens.org/patient-centered-pediatric-research-program.', 'http://www.avanitechsolutions.com']\n",
            "301\n"
          ]
        }
      ]
    },
    {
      "cell_type": "code",
      "source": [
        "def get_items(df, regex, column_name):\n",
        "    df[column_name] = df['Job Description'].apply(lambda x: re.findall(regex, x))\n",
        "    return df\n",
        "\n",
        "def get_list_of_items(df, column_name):\n",
        "    items = []\n",
        "    for index, row in df.iterrows():\n",
        "        if (len(row[column_name]) > 0):\n",
        "            for item in list(row[column_name]):\n",
        "                if (type(item) is tuple and len(item) > 1):\n",
        "                    item = item[0]\n",
        "                if (item not in items):\n",
        "                    items.append(item)\n",
        "    return items\n",
        "\n",
        "def get_emails(df):\n",
        "    original_email_regex = '[\\S]+@[a-zA-Z0-9\\.]+\\.[a-zA-Z]+'\n",
        "    email_regex = '[^\\s:|()\\']+@[a-zA-Z0-9\\.]+\\.[a-zA-Z]+'\n",
        "    df['emails'] = df['Job Description'].apply(lambda x: re.findall(email_regex, x))\n",
        "    emails = get_list_of_items(df, 'emails')\n",
        "    return emails\n",
        "\n",
        "def get_urls(df):\n",
        "    url_regex = '(http[s]?://(www\\.)?[A-Za-z0-9–_\\.\\-]+\\.[A-Za-z]+/?[A-Za-z0-9$\\–_\\-\\/\\.]*)[\\.)\\\"]*'\n",
        "    df = get_items(df, url_regex, 'urls')\n",
        "    urls = get_list_of_items(df, 'urls')\n",
        "    return urls\n",
        "\n",
        "\n",
        "df = pd.read_csv(data_file, encoding='utf-8')\n",
        "emails = get_emails(df)\n",
        "print(emails)\n",
        "print(len(emails))\n",
        "urls = get_urls(df)\n",
        "print(urls)\n",
        "print(len(urls))"
      ],
      "metadata": {
        "colab": {
          "base_uri": "https://localhost:8080/"
        },
        "id": "Yh9FIDG65vVe",
        "outputId": "f9a85c66-c412-4062-8c74-821cbc1a4787"
      },
      "execution_count": null,
      "outputs": [
        {
          "output_type": "stream",
          "name": "stdout",
          "text": [
            "['jsmith@quartethealth.com', 'security@quartethealth.com', 'talent@quartethealth.com', 'accommodations-ext@fb.com', 'talent@ebay.com', 'recruiting-inquiries@deshaw.com', 'cvwithdraw@deshaw.com', 'backgroundcheck-inquiries@deshaw.com', 'Candidate.Accommodations@Disney.com', 'careers@springhealth.com', 'TalentAcquisition@grubhub.com', 'privacy@grubhub.com', 'jobs@temboo.com', 'erinn@cybercoders.com', 'careers@Healthfirst.org', 'kevin@ingenium.agency', 'mailbox_tas_recruit@humana.com', 'Application_Accommodation@colpal.com', 'accommodations@teacherspayteachers.com', 'nick.sottile@bombas.com', 'atÂshravya@techprojects.us', 'shravya@techprojects.us', 'careers@edo.com', 'paypalglobaltalentacquisition@paypal.com', 'ieo.mailbox@aero.org', 'careers@mpulsemobile.com', 'recruiter@avianaglobal.com', 'elizabeth@biophaseinc.com', 'accommodations-ext@snap.com', 'usrecruitment@sdl.com', 'privacy@honest.com', 'vtopcagic@relevante.biz', 'lhatteme@usc.edu', 'Brooke.Schoen@kellyservices.com', 'careers@gilead.com', 'uschr@usc.edu', 'accommodations@dollarshaveclub.com', 'bflores1@lacourt.org', 'info@governmentjobs.com', 'AMunoz4@dhs.lacounty.gov', 'bwaldron@apexsystems.com', 'employeeservices@apexsystemsinc.com', 'jim@ingenium.agency', 'accommodations@dollarshaveclub.comPlease', 'hr@exponent.com', 'naga@clouddatasystemsus.com', 'irvine@camdenkelly.com', 'ldmayberry@apexsystems.com', 'jjovovic@wintrustwealth.com', 'accommodations@climate.com', 'human.resources@thrivent.com', 'suda@sutoer.com', 'careers@greenkeytech.com', 'pranali@fisecglobal.net', 'internalrecruiting@civisanalytics.com', 'cvshealthsupport@us.ibm.com', 'disability-accommodations@treehousefoods.com', 'shai879@kellyservices.com', 'careers@3redpartners.com', 'pathfinder@pnc.com', 'rkilgore@relevante.com', 'compliance@integralads.com', 'recruitingagencies@integralads.com', 'sai@kanisol.com', 'cvs_support@modernhire.com', 'info@njf.com', 'ndarian@smithhanley.com', 'talent.acquisition@servicenow.com', 'dgingerich@carisls.com', 'gjimenez@uic.edu', 'Accommodation.Reques@am.jll.com', 'rajeshk@avtechsol.com', 'jobs@primusglobal.com', 'abbas@infotreeglobal.com', 'icfcareercenter@icf.com', 'ADACoordinator@bmd.hctx.net', 'hari.haran@wisemen.com', 'spam.leidos@leidos.com', 'hr@texastoolbelt.com.com', 'liza.k@wisemen.com', 'Josh.carlos@itbtalent.com', 'DisabilityAccommodations@catalent.com', 'andrew.cooper@modis.com', 'krobinson@carisls.com', 'accommodations@hioscar.com', 'Melissa@kingmelissa.com', 'RecruitingAccommodation@guidehouse.com', 'rama@diverselynx.com', 'rama.diverse@gmail.com', 'sdonovan@judge.com', 'divyansh@net2source.com', 'TalentAcquisition@email.chop.edu', 'Emily.Selzam@sig.com', 'CareersUS@QVC.com', 'dkuphal@myvoca.com', 'nico.molenschot@dllgroup.com', 'jason.weinstein@mondo.com', 'ukdiversity.recruitment@gsk.com', 'dneto@apexsystems.com', 'mreilly@itechsolutions.com', 'mfetterolf@apexsystems.com', 'bridget@alphaconsulting.com', 'faqpchr@phila.gov', 'hrhelpdesk@phila.gov', 'Phila.OHR@phila.gov', 'employment@liprop.com', 'Shibu.S@avacend.com', 'shaylyn.jaworowski@mondo.com', 'tim@blackfynn.com', 'mike.pachella@sig.com', 'workday_recruiting@iqvia.com', 'botten@itechsolutions.com', 'recruitment@numericjobs.com', 'accommodations@relx.com', 'career@infoquestgroup.com', 'LMurray@TechUSA.net', 'accommodations@relx.com.Elsevier', 'staffingaadar@msd.com', 'agiangiulio@fredbeans.com', 'dherbine@pipercompanies.com', 'accommodations@koniag.com', 'khartley@apexsystems.com', 'Sam.Bodian@CyberCoders.com', 'hesquivel@deaconrecruiting.com', 'Talent.manager@techquarry.com', 'jfowler@deaconrecruiting.com', 'favalos@deaconrecruiting.com', 'accommodations@illumina.com', 'talentacquisition@dexcom.com', 'Lilly_Recruiting_Compliance@lists.lilly.com', 'Amit@apninc.com', 'MyRecruiter@alere.com', 'debasisb@askstaffing.com', 'TONM369@kellyservices.com', 'hr@btsresearch.com', 'vinay@logicplanet.com', 'recruitinghelp@mitre.org', 'Ranjith.vemula@idctechnologies.com', 'dani@pavetalent.com', 'careers@atai.life', 'mturner@simplybiotech.com', 'JEND557@kellyscientific.com', 'applyassistance@danaher.com', 'Aleo431@KellyScientific.com', 'algo__autobench_research_scientist_a84151f42us@ivy.greenhouse.io', 'US_Employment_Compliance@cgi.com', 'bri.haggerty@cybercoders.com', 'ignite@atos.netHere', 'cskumar@xcelogroup.com', 'sachin@apninc.com', 'rakesh@athreyainc.com', 'Ârakesh@athreyainc.com', 'Mallikharjun@conchtech.com', 'vandanat@sysmind.com', 'cgarza@mleehealthcare.com', 'rohit.sheelvant@prolim.com', 'info@prolim.com', 'krishna@itminds.net', 'naveen.remkumar@two95intl.com', 'mani@net2source.com', 'chandikumar@infowaygroup.com', 'sclagett@apexsystems.com', 'shobana@infowaygroup.com', 'dallas@camdenkelly.com', 'bhavna@tekleaders.com', 'Âbhavna@tekleaders.com', 'karthik@infovision.com', 'Âvikram@pddninc.net', 'Rohan.g@avacend.com', 'Careers.NorthAmerica@sap.com', 'Careers.LatinAmerica@sap.com', 'Careers.APJ@sap.com', 'Careers@sap.com', 'ekingery@apexsystems.com', 'hala.hillo@motektech.com', 'ajones@simplybiotech.com', 'brenna.boies@cybercoders.com', 'info@springml.com', 'HR@dtexsystems.com', 'recruiting@kariusdx.com', 'brenna.boies@gmail.com', 'accommodations@ehealthinsurance.com', 'careers@tredence.com', 'tansib@infotreeglobal.com', 'Marcus.Quigley@cybercoders.com', 'Sandra@OSIEngineering.com', 'kushal@nextgentechnologiesinc.com', 'chandra@ebasetek.com', 'pawans@ustechsolutionsinc.com', 'resumes@nextgentechinc.com', 'Niyaz.Ansari@artechinfo.com', 'bchitneedi@esharpedge.com', 'ram.kishor@diverselynx.com', 'TalentAcquisitionTeam@dnb.com', 'hr@cloudflare.com', 'reasonable.accommodation@mastercard.com', 'statjobs@austin.utexas.edu', 'jayaraman@infowaygroup.com', 'sukh@arksolutionsinc.com', 'vishal@arksolutionsinc.com', 'shane@arksolutionsinc.com', 'neeraj.h@avacend.com', 'tharrell@chiptonross.com', 'compliance@integralads.com.To', 'kushal@apninc.com', 'HR-Accommodations@FireEye.com', 'e.riley@nigelfrank.com', 'Vikasy@apninc.com', 'usaccommodations@globalfoundries.com', 'lyssa.heine@arlut.utexas.edu', 'Âanvesh@conchtech.com', 'careers@crowley.com', 'sjohnson@arcgonline.com', 'tom@emeraldresourcegroup.com', 'naveen@dsiginc.com', 'Prajwal.Rajappa@nationwidechildrens.org', 'Kerry.orton@nationwidechildrens.org', 'Alok.Kumar@artech.com', 'Motao.Zhu@NationwideChildrens.org', 'naveen.b@avanitechsolutions.com']\n",
            "220\n",
            "['https://www.decode-m.com/', 'https://www.amazon.jobs/en/disability/us.', 'https://www.techatbloomberg.com/nlp/', 'https://bloomberg.com/company/d4gx/', 'https://www.dol.gov/ofccp/regs/compliance/posters/ofccpost.htm', 'http://www.tapestry.com/', 'https://www.arena.io/about/careers.html', 'http://www.fujitsu.com/global/about/corporate/info/', 'http://www.fujitsu.com/global/digitalannealer/', 'http://www.fujitsu.com/global/solutions/business-technology/ai/', 'https://whisk.com/cognitive-food-platform/', 'https://youtu.be/QzKe9iZszD0', 'https://argogroup.wd1.myworkdayjobs.com/Argo', 'https://prolancer.com/jobs/send-proposal/298', 'http://www-01.ibm.com/employment/us/benefits', 'http://business.pinto.co', 'https://bit.ly/2m14P0P', 'https://bit.ly/2lCOcYS', 'https://bit.ly/2m1510', 'http://www.colgatepalmolive.com.', 'http://www.colgatebsbf.com.', 'http://www.hillspet.com.', 'http://www.tomsofmaine.com.', 'https://www.medlypharmacy.com/', 'https://oim.unjspf.org/.', 'http://www.nasdaq.com', 'https://studentaid.ed.gov/sa/repay-loans/forgiveness-cancellation/public-service', 'https://a127-jobs.nyc.gov/.', 'https://www.home.neustar.', 'https://hirepeopletree.com/ccpa', 'http://www.dol.gov/ofccp/regs/compliance/posters/pdf/eeopost.pdf.', 'https://www.gofundme.com/2019https', 'https://medium.com/gofundme-storieshttps', 'http://www.capgemini.com/resources/equal-employment-opportunity-is-the-law', 'http://ccmb.usc.edu', 'https://www.ibm.com/internet-of-things/', 'https://www.ibm.com/watson/', 'https://www.ibm.com/analytics/', 'https://blog.activision.com', 'https://wd5.myworkday.com/usc/d/inst/1$9925/9925$45297.htmld', 'https://www.opm.gov/policy-data-oversight/classification-qualifications/general-schedule-qualification-standards/1300/general-physical-science-series-1301/', 'http://www-01.ibm.com/employment/us/benefitsIBM', 'http://ope.ed.gov/accreditation', 'http://whed.net/home.php.', 'http://aice-eval.org/members/.', 'http://www-01.ibm.com/employment/us/benefits/', 'https://www-03.ibm.com/press/us/en/pressrelease/50744.wss', 'http://www.ibm.com/ibm/responsibility/initiatives.html', 'http://www.ibm.com/ibm/responsibility/corporateservicecorps', 'http://www.galvanize.com/courses/data-science/', 'http://instagram.com/lifeatservicetitan', 'https://www.themuse.com/profiles/servicetitan', 'https://www.builtinla.com/company/servicetitan-inc', 'http://www.arete.comAret', 'https://www.youtube.com/watch', 'http://eleverpro.com', 'http://www.eleverpro.com/executive-recruiter-jobs/', 'https://youtu.be/CC-seRMEo8s', 'http://www.mylife.com.', 'https://prolancer.com/jobs/send-proposal/301', 'http://www.cslbehring.com', 'http://www.cslplasma.com/careers', 'https://www.cslbehring.com/careers/eeo-statement', 'http://www.tetratech.com/en/benefits.For', 'http://www.opm.gov/policy-data-oversight/classification-qualifications/general-schedule-qualification-standards/', 'http://www.opm.gov/policy-data-oversight/classification-qualifications/general-schedule-qualification-standards/1300/general-physical-science-series-1301/', 'http://camdenkelly.com/jobs', 'https://twitter.com/camdenkellycorp', 'http://www.linkedin.com/company/3279780', 'https://www.facebook.com/camdenkellycorp', 'https://plus.google.com/u/0/106722962279155885960', 'https://www.cedars-sinai.edu/Research/Research-Labs/Guarnerio-Lab/', 'http://www.oakwoodsearch.com', 'https://www.cedars-sinai.org/research/labs/svendsen.html.', 'http://www.opm.gov/qualifications/standards/index-Standards.asp', 'http://www.opm.gov/qualifications/standards/indexes/num-ndx.asp', 'https://youtu.be/c5TgbpE9UBI', 'https://climate.com/careers', 'https://www.uptake.com/careers.What', 'https://upt.ac/16ee15fc.What', 'https://www.kalderos.com/company/about', 'https://www.kalderos.com/company/culture', 'https://careers.nordstrom.com/', 'https://www.facebook.com/HPECareers', 'https://twitter.com/HPE_Careers', 'https://imanage.com/privacy-policy/', 'https://drw.com/privacy-notice.California', 'https://drw.com/california-privacy-notice.', 'https://bmoharriscareers.com.', 'https://jobs.lever.co/kraken.', 'http://securityreport.uchicago.edu.', 'https://bmoharriscareers.com.BMO', 'http://www1.eeoc.gov/employers/poster.cfm', 'https://relevante.jobs.net/en-US/join', 'http://integralads.com/', 'https://muse.cm/2t8eGlN', 'https://searchitchannel.techtarget.com/feature/Data-center-infrastructure-spending-gets-AI-boost', 'https://www.insight.com/en_US/about/newsroom/press-releases/2019/07012019-insight-recognized-at-no14-on-crns-2019-solution-provider-500-list.html', 'https://investor.insight.com/press-release/insight-enterprises-acquire-pcm-inc', 'https://insight.hqprod.businesswire.com/press-release/insight-hosts-global-ai-competition-healthcare-innovation-cincinnati', 'https://investor.insight.com/press-release/houston-schools-deploying-iot-enabled-building-safety-platform-improve-emergency', 'https://investor.insight.com/press-release/insight-recognized-magic-quadrant-managed-workplace-services-north-america', 'https://cvshealth.com/covid-19', 'http://www.tetratech.com/en/benefits.', 'https://drw.com/privacy-notice.', 'https://clientapps.jobadder.com/45103/fast-switch', 'https://twitter.com/FastSwitchGL', 'https://www.instagram.com/fastswitchgl/', 'https://www.linkedin.com/company/fast-switch-great-lakes', 'https://tinyurl.com/v4p9yy7', 'https://www.gpo.gov/fdsys/pkg/CFR-2011-title20-vol3/pdf/CFR-2011-title20-vol3-sec656-3.pdf', 'https://www.cdc.gov/hai/epicenters/chicago.html.', 'http://ope.ed.gov/accreditation/.', 'http://www.ed.gov/about/offices/list/ous/international/usnei/us/edlite-visitus-forrecog.html.', 'https://www.opm.gov/policy-data-oversight/classification-qualifications/general-schedule-qualification-standards/.', 'https://www.nextstepsystems.com/employers_submit_raul.html.', 'https://www.nextstepsystems.com/jobseekers_submit_raul.html.', 'https://www.nextstepsystems.com', 'http://www.itrecruiters.technology.', 'http://www.recruiter.technology', 'http://www.parallelpartners.com.', 'https://www.dascena.com/', 'https://h-gac.com/careersH-GAC', 'https://h-gac.com/careers', 'http://www.walkerelliott.com/candidates/jobs/jobDetail/default.aspx', 'https://hrrm.harriscountytx.gov/Pages/EqualEmploymentOpportunityPlan.aspx', 'https://hrrm.harriscountytx.gov/Pages/Medical.aspx', 'http://www.mdanderson.org/about-us/legal-and-policy/legal-statements/eeo-affirmative-action.html', 'https://www.facebook.com/Mindteckglobal/', 'https://www.linkedin.com/company/mindteck', 'https://www.youtube.com/user/MindteckVideos', 'https://twitter.com/mindteck', 'https://www.pinterest.com/mindteck/', 'https://mobilemathlab.com/', 'https://www.soarenmanagement.com/', 'https://www.instagram.com/gatestonebpo', 'https://usa.healthcare.siemens.com/careers.', 'https://usa.healthcare.siemens.com/about.', 'https://www.facebook.com/Access-Control-Group-Access-100773445034653/', 'http://www.kingmelissa.com/', 'https://www.usajobs.gov/Help/working-in-government/unique-hiring-paths/students/', 'https://www.opm.gov/policy-data-oversight/classification-qualifications/general-schedule-qualification-standards/', 'https://www.opm.gov/policy-data-oversight/classification-qualifications/general-schedule-qualification-standards/1500/computer-science-series-1550/', 'https://www.linkedin.com/in/rama-shanker-verma-aman-01a283a/', 'https://tinyurl.com/ycqdhb98', 'http://one2one.sparklight.com/tag/coronavirus/', 'https://www.sparklight.com/about/careers', 'https://www.linkedin.com/in/divyansh-srivastava-11563041/', 'http://www2.deloitte.com/us/en/pages/about-deloitte/articles/deloitte-corporate-citizenship.html', 'http://www2.deloitte.com/us/en/pages/careers/topics/recruiting-tips.htmlCategory', 'http://www.med.upenn.edu/', 'http://www.cbica.upenn.edu/', 'https://safety.temple.edu/reports-logs/annual-security-report', 'http://www.med.upenn.edu/This', 'http://www.phila.gov/personnel/ExamsFAQ.html', 'http://www.camadvgrp.com/', 'http://www.med.upenn.edu/.', 'https://www.linkedin.com/company/integress-inc./', 'http://jconnectinc.com/', 'http://www.angeiongroup.com.', 'https://www.amringusa.com/company-2/', 'https://www.mainlinehealth.org/careers', 'https://wd5.myworkday.com/iheartmedia/d/task/3005$4482.htmld', 'http://iheartmediacareers.com/Pages/EEO.aspx', 'https://wd5.myworkday.com/iheartmedia/d/task/3005$1999.htmld', 'https://iheartmedia.com/', 'http://www.compqsoft.com/current-openings.html', 'https://www.swri.org/technical-divisions/defense-intelligence-solutions.', 'https://www.opm.gov/policy-data-oversight/pay-leave/salaries-wages/IF', 'http://cherokee-cna.com/Pages/Home.aspx', 'http://cherokee-os.com/Pages/Home.aspx', 'https://cherokee-federal.com/', 'http://cherokeenationbusinesses.com/careers/Pages/home.aspx', 'http://cherokeenationbusinesses.com/federalSolutions/Pages/overview.aspx', 'http://www.leoniegroup.com/careers', 'https://ivs.swri.org.', 'http://www2.ed.gov/admins/finaid/accred/index.html', 'https://hpi.swri.org.', 'http://www.opm.gov/policy-data-oversight/classification-qualifications/general-schedule-qualification-standards/0800/all-professional-engineering-positions-0800/', 'http://www.opm.gov/policy-data-oversight/classification-qualifications/general-schedule-qualification-standards/1500/computer-science-series-1550/', 'http://cherokee-cnts.com/Pages/home.aspx', 'http://cherokeenationbusinesses.com/federalSolutions', 'http://cherokeenationbusinesses.com/Pages/home.aspx', 'https://www.dol.gov/ofccp/regs/compliance/posters/pdf/eeopost.pdf', 'https://www.dol.gov/ofccp/pdf/pay-transp_', 'https://www.opm.gov/policy-data-oversight/classification-qualifications/general-schedule-qualification-standards/0400/general-natural-resources-management-and-biological-sciences-series-0401/', 'http://www1.eeoc.gov/employers/upload/eeoc_self_print_poster.pdf', 'http://www.sorrentotherapeutics.com', 'https://bfa.sdsu.edu/hr/jobs/job-opportunities.aspx', 'http://jobs.sdsu.edu', 'https://it.sdsu.edu/', 'https://bfa.sdsu.edu/hr/jobs/benefits', 'https://smokefree.sdsu.edu/', 'https://www.tandemdiabetes.com/careers/life-at-tandem', 'https://www.expesicor.com/jobs/research-scientist-san-diego/', 'https://grants.nih.gov/grants/guide/notice-files/NOT-OD-18-210.html', 'https://apol-recruit.ucsd.edu/apply/JPF02126', 'https://www.monocerosbio.com', 'http://www.absorption.com', 'https://www.facetec.com/', 'https://wd5.myworkday.com/usc/d/inst/1$9925/9925$46086.htmld', 'http://www-hr.ucsd.edu/saa/nondiscr.htmlUC', 'https://www.bluenalu.com/', 'http://adminrecords.ucsd.edu/PPM/docs/230-311.html', 'https://apol-recruit.ucsd.edu/apply/JPF02462', 'http://www.ucop.edu/academic-personnel-programs/_files/apm/apm-310.pdf', 'https://apol-recruit.ucsd.edu/apply/JPF02177', 'https://www.opm.gov/policy-data-oversight/classification-qualifications/general-schedule-qualification-standards/0600/medical-technologist-series-0644/In', 'https://www.opm.gov/policy-data-oversight/classification-qualifications/general-schedule-qualification-standards/0600/medical-technologist-series-0644/', 'http://med.ucsd.edu', 'https://apol-recruit.ucsd.edu/apply/JPF02186', 'https://www.naspovaluepoint.org/portfolio/mmis-provider-services-module-2018-2028/hhs-technology-group/', 'https://cgi-veterans.jobs/', 'https://qbrc.swmed.edu/', 'http://citylinedfw.com/about/', 'https://www.goldmansachs.com/careers/footer/disability-statement.html', 'https://lnkd.in/ePyq7pM', 'https://lnkd.in/e9ZpD5J', 'https://lnkd.in/eqttaa4', 'http://www.kairostech.com', 'https://www.linkedin.com/in/prasadmamidela', 'https://www.trinityra.org/joblist.htm', 'https://www.vdriveitsolutions.com/', 'http://www.xome.com', 'https://www.consumer.ftc.gov/JobScams', 'https://www.ftccomplaintassistant.gov/.', 'http://bit.ly/1mzJQeL', 'https://jobs.gartner.com/applicant-privacy-policy', 'https://www.pddninc.com/', 'http://www.corelogic.com/privacy.aspxConnect', 'https://benefits.northropgrumman.com/us/en2/BenefitsOverview/Pages/default.aspx', 'https://vimeo.com/311952506', 'https://match-relevant.com/your-story', 'https://calendly.com/jake-villarreal/calendar', 'https://teladochealth.com/en/about/', 'http://jobs.apple.com/', 'https://www.verizonmedia.com/careers/contact-us.html', 'https://www.amazon.jobs/en/disability/us', 'https://www.ebayinc.com/our-company/diversity-inclusion/.', 'http://adminguide.stanford.edu.', 'http://ophthalmology.stanford.edu/', 'https://join.collectivehealth.com/box', 'https://www.accountingprincipals.com/privacy-policy/', 'https://corporate.jd.com/', 'https://air.jd.com/', 'http://neon.life', 'https://e-verify.uscis.gov/esp/media/resourcesContents/EverifyPosterEnglish.pdf', 'https://e-verify.uscis.gov/esp/media/resourcesContents/EverifyPosterSpanish.pdf', 'https://e-verify.uscis.gov/esp/media/resourcesContents/WebBPPOSTERRtoWEnglishversion.pdf', 'https://e-verify.uscis.gov/esp/media/resourcesContents/WebBPPOSTERRtoWSpanishversion.pdf', 'https://portal.slac.stanford.edu/sites/lcls_public', 'http://www-group.slac.stanford.edu/esh/eshmanual/pdfs/ESHch01.pdf', 'http://adminguide.stanford.edu', 'http://www.sandia.gov', 'https://www.linkedin.com/in/niyazansari/', 'https://www.nvidia.com/en-us/contact/', 'https://dnb.wd1.myworkdayjobs.com/Careers', 'http://www.hr.sao.state.tx.us/Compensation/JobDescriptions.aspx', 'http://indeedhi.re/IndeedBenefits', 'https://www.indeed.com/legal/applicant-privacy', 'https://santannaenergyservices.com/', 'http://www.dol.gov/ofccp/regs/compliance/posters/pdf/eeopost.pdf', 'http://www.dol.gov/ofccp/regs/compliance/posters/pdf/ofccp_eeo_supplement_final_jrf_qa_508c.pdf', 'http://bit.ly/amazon-scot', 'https://getspruce.com', 'https://www.facebook.com/SpruceCrew', 'https://stockedrobotics.freshteam.com/jobs', 'http://www.hr.sao.state.tx.us/Compensation/JobDescriptions.aspx.', 'http://www.twdb.texas.gov/jobs/benefits.asp', 'https://bit.ly/2YT6oii', 'http://www.twdb.texas.gov/jobs/index.asp', 'http://www.twitter.com/forgerock.', 'https://encoura.org/privacy-policy/', 'http://www.hr.sao.state.tx.us/Compensation/JobDescriptions.aspx.HHS', 'https://www.facebook.com/irisplans', 'https://dellmed.utexas.edu/culture.', 'https://www.facebook.com/viahart', 'https://bit.ly/2UKaqWQ', 'https://muse.cm/2t8eGlNAttention', 'https://www.nvidia.com/en-us/geforce/products/geforce-now/', 'https://hypori.com/', 'https://www.county.org/', 'https://www.facebook.com/TexasCounties', 'https://mastercard.jobs/toronto-can/senior-data-engineer/2B400D4C9F4345E2B2039B9AB1845623/job/', 'https://www.praetorian.com/careers', 'https://mastercard.jobs/toronto-can/lead-data-engineer/567DD39603B141C5AAF86389682B751D/job/', 'https://www.linkedin.com/in/emma-riley-72028917a/', 'http://www.globalfoundries.com.', 'https://capps.taleo.net/careersection/ex/jobsearch.ftl', 'https://www.ers.texas.gov/', 'https://jobs.btginc.com.', 'http://www.tetratech.com/en/benefits', 'https://www.mindteck.com/career/life-at-mindteck.html', 'https://eng.joinroot.com/', 'https://www.opm.gov/policy-data-oversight/hiring-information/direct-hire-authority/You', 'https://www.ecdi.org', 'https://www.facebook.com/ECDIoh/', 'https://www.deeplens.ai/', 'https://www.facebook.com/deeplensai/', 'http://www.nationwidechildrens.org/patient-centered-pediatric-research-program.', 'http://www.avanitechsolutions.com']\n",
            "301\n"
          ]
        }
      ]
    },
    {
      "cell_type": "code",
      "source": [
        "import re\n",
        "import pandas as pd\n",
        "data_file = \"../data/DataScientist.csv\"\n",
        "df = pd.read_csv(data_file, encoding='utf-8')\n",
        "print(df)\n",
        "\n",
        "def get_list_of_items(df, column_name):\n",
        "    values = df[column_name].values\n",
        "    values = [item for sublist in values for item in sublist]\n",
        "    list_of_items = list(set(values))\n",
        "    return list_of_items\n",
        "def get_emails(df):\n",
        "    email_regex = '[^\\s:|()\\']+@[a-zA-Z0-9\\.]+\\.[a-zA-Z]+'\n",
        "    df['emails'] = df['Job Description'].apply(lambda x: re.findall(email_regex, x))\n",
        "    emails = get_list_of_items(df, 'emails')\n",
        "    return emails\n",
        "emails = get_emails(df)\n",
        "print(emails)\n",
        "\n"
      ],
      "metadata": {
        "id": "2DhDtxXG4b6n"
      },
      "execution_count": null,
      "outputs": []
    },
    {
      "cell_type": "code",
      "source": [
        "def get_urls(df):\n",
        "    url_regex = '(http[s]?://(www\\.)?[A-Za-z0-9–_\\.\\-]+\\.[A-Za-z]+/?[A-Za-z0-9$\\–_\\-\\/\\.]*)[\\.)\\\"]*'\n",
        "    df['urls'] = df['Job Description'].apply(lambda x: [x[item.span()[0]:item.span()[1]] for item in re.finditer(url_regex, x)])\n",
        "    urls = get_list_of_items(df, 'urls')\n",
        "    return urls"
      ],
      "metadata": {
        "id": "G0loW_sJ4wmW"
      },
      "execution_count": null,
      "outputs": []
    }
  ]
}